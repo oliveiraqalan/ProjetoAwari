{
  "nbformat": 4,
  "nbformat_minor": 0,
  "metadata": {
    "colab": {
      "name": "Projeto.ipynb",
      "provenance": [],
      "collapsed_sections": []
    },
    "kernelspec": {
      "name": "python3",
      "display_name": "Python 3"
    },
    "widgets": {
      "application/vnd.jupyter.widget-state+json": {
        "28ef81b5769540e0a7efffb90585fc8f": {
          "model_module": "@jupyter-widgets/controls",
          "model_name": "VBoxModel",
          "state": {
            "_view_name": "VBoxView",
            "_dom_classes": [
              "widget-interact"
            ],
            "_model_name": "VBoxModel",
            "_view_module": "@jupyter-widgets/controls",
            "_model_module_version": "1.5.0",
            "_view_count": null,
            "_view_module_version": "1.5.0",
            "box_style": "",
            "layout": "IPY_MODEL_02b6047422eb479da2ee10be9510d76d",
            "_model_module": "@jupyter-widgets/controls",
            "children": [
              "IPY_MODEL_e54e271b70e94c3c8de852ad80f1eeab",
              "IPY_MODEL_e5fb5519d4154920a530671383776796"
            ]
          }
        },
        "02b6047422eb479da2ee10be9510d76d": {
          "model_module": "@jupyter-widgets/base",
          "model_name": "LayoutModel",
          "state": {
            "_view_name": "LayoutView",
            "grid_template_rows": null,
            "right": null,
            "justify_content": null,
            "_view_module": "@jupyter-widgets/base",
            "overflow": null,
            "_model_module_version": "1.2.0",
            "_view_count": null,
            "flex_flow": null,
            "width": null,
            "min_width": null,
            "border": null,
            "align_items": null,
            "bottom": null,
            "_model_module": "@jupyter-widgets/base",
            "top": null,
            "grid_column": null,
            "overflow_y": null,
            "overflow_x": null,
            "grid_auto_flow": null,
            "grid_area": null,
            "grid_template_columns": null,
            "flex": null,
            "_model_name": "LayoutModel",
            "justify_items": null,
            "grid_row": null,
            "max_height": null,
            "align_content": null,
            "visibility": null,
            "align_self": null,
            "height": null,
            "min_height": null,
            "padding": null,
            "grid_auto_rows": null,
            "grid_gap": null,
            "max_width": null,
            "order": null,
            "_view_module_version": "1.2.0",
            "grid_template_areas": null,
            "object_position": null,
            "object_fit": null,
            "grid_auto_columns": null,
            "margin": null,
            "display": null,
            "left": null
          }
        },
        "e54e271b70e94c3c8de852ad80f1eeab": {
          "model_module": "@jupyter-widgets/controls",
          "model_name": "FloatSliderModel",
          "state": {
            "_view_name": "FloatSliderView",
            "style": "IPY_MODEL_29e2111c79ac4fc2bb42b5fa4f7700cd",
            "_dom_classes": [],
            "description": "jitter",
            "step": 0.05,
            "_model_name": "FloatSliderModel",
            "orientation": "horizontal",
            "max": 0.65,
            "_view_module": "@jupyter-widgets/controls",
            "_model_module_version": "1.5.0",
            "value": 0.4,
            "_view_count": null,
            "disabled": false,
            "_view_module_version": "1.5.0",
            "min": 0,
            "continuous_update": true,
            "readout_format": ".2f",
            "description_tooltip": null,
            "readout": true,
            "_model_module": "@jupyter-widgets/controls",
            "layout": "IPY_MODEL_32b39d6422574dcd96a2d45a9e30a2d0"
          }
        },
        "e5fb5519d4154920a530671383776796": {
          "model_module": "@jupyter-widgets/output",
          "model_name": "OutputModel",
          "state": {
            "_view_name": "OutputView",
            "msg_id": "",
            "_dom_classes": [],
            "_model_name": "OutputModel",
            "outputs": [
              {
                "output_type": "display_data",
                "metadata": {
                  "tags": [],
                  "needs_background": "light"
                },
                "image/png": "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\n",
                "text/plain": "<Figure size 432x288 with 1 Axes>"
              }
            ],
            "_view_module": "@jupyter-widgets/output",
            "_model_module_version": "1.0.0",
            "_view_count": null,
            "_view_module_version": "1.0.0",
            "layout": "IPY_MODEL_0bdd336b39fa4cc5bfd40b6b1156750a",
            "_model_module": "@jupyter-widgets/output"
          }
        },
        "29e2111c79ac4fc2bb42b5fa4f7700cd": {
          "model_module": "@jupyter-widgets/controls",
          "model_name": "SliderStyleModel",
          "state": {
            "_view_name": "StyleView",
            "handle_color": null,
            "_model_name": "SliderStyleModel",
            "description_width": "",
            "_view_module": "@jupyter-widgets/base",
            "_model_module_version": "1.5.0",
            "_view_count": null,
            "_view_module_version": "1.2.0",
            "_model_module": "@jupyter-widgets/controls"
          }
        },
        "32b39d6422574dcd96a2d45a9e30a2d0": {
          "model_module": "@jupyter-widgets/base",
          "model_name": "LayoutModel",
          "state": {
            "_view_name": "LayoutView",
            "grid_template_rows": null,
            "right": null,
            "justify_content": null,
            "_view_module": "@jupyter-widgets/base",
            "overflow": null,
            "_model_module_version": "1.2.0",
            "_view_count": null,
            "flex_flow": null,
            "width": null,
            "min_width": null,
            "border": null,
            "align_items": null,
            "bottom": null,
            "_model_module": "@jupyter-widgets/base",
            "top": null,
            "grid_column": null,
            "overflow_y": null,
            "overflow_x": null,
            "grid_auto_flow": null,
            "grid_area": null,
            "grid_template_columns": null,
            "flex": null,
            "_model_name": "LayoutModel",
            "justify_items": null,
            "grid_row": null,
            "max_height": null,
            "align_content": null,
            "visibility": null,
            "align_self": null,
            "height": null,
            "min_height": null,
            "padding": null,
            "grid_auto_rows": null,
            "grid_gap": null,
            "max_width": null,
            "order": null,
            "_view_module_version": "1.2.0",
            "grid_template_areas": null,
            "object_position": null,
            "object_fit": null,
            "grid_auto_columns": null,
            "margin": null,
            "display": null,
            "left": null
          }
        },
        "0bdd336b39fa4cc5bfd40b6b1156750a": {
          "model_module": "@jupyter-widgets/base",
          "model_name": "LayoutModel",
          "state": {
            "_view_name": "LayoutView",
            "grid_template_rows": null,
            "right": null,
            "justify_content": null,
            "_view_module": "@jupyter-widgets/base",
            "overflow": null,
            "_model_module_version": "1.2.0",
            "_view_count": null,
            "flex_flow": null,
            "width": null,
            "min_width": null,
            "border": null,
            "align_items": null,
            "bottom": null,
            "_model_module": "@jupyter-widgets/base",
            "top": null,
            "grid_column": null,
            "overflow_y": null,
            "overflow_x": null,
            "grid_auto_flow": null,
            "grid_area": null,
            "grid_template_columns": null,
            "flex": null,
            "_model_name": "LayoutModel",
            "justify_items": null,
            "grid_row": null,
            "max_height": null,
            "align_content": null,
            "visibility": null,
            "align_self": null,
            "height": null,
            "min_height": null,
            "padding": null,
            "grid_auto_rows": null,
            "grid_gap": null,
            "max_width": null,
            "order": null,
            "_view_module_version": "1.2.0",
            "grid_template_areas": null,
            "object_position": null,
            "object_fit": null,
            "grid_auto_columns": null,
            "margin": null,
            "display": null,
            "left": null
          }
        },
        "876bb27b8293439aa3dc785605bd1339": {
          "model_module": "@jupyter-widgets/controls",
          "model_name": "VBoxModel",
          "state": {
            "_view_name": "VBoxView",
            "_dom_classes": [
              "widget-interact"
            ],
            "_model_name": "VBoxModel",
            "_view_module": "@jupyter-widgets/controls",
            "_model_module_version": "1.5.0",
            "_view_count": null,
            "_view_module_version": "1.5.0",
            "box_style": "",
            "layout": "IPY_MODEL_64113013533e4e4894eb410ee90a5389",
            "_model_module": "@jupyter-widgets/controls",
            "children": [
              "IPY_MODEL_f094ce6921d5470da0cf7e89ab09626a",
              "IPY_MODEL_b9c973ae4ba24ef089c90c9c2508c35a"
            ]
          }
        },
        "64113013533e4e4894eb410ee90a5389": {
          "model_module": "@jupyter-widgets/base",
          "model_name": "LayoutModel",
          "state": {
            "_view_name": "LayoutView",
            "grid_template_rows": null,
            "right": null,
            "justify_content": null,
            "_view_module": "@jupyter-widgets/base",
            "overflow": null,
            "_model_module_version": "1.2.0",
            "_view_count": null,
            "flex_flow": null,
            "width": null,
            "min_width": null,
            "border": null,
            "align_items": null,
            "bottom": null,
            "_model_module": "@jupyter-widgets/base",
            "top": null,
            "grid_column": null,
            "overflow_y": null,
            "overflow_x": null,
            "grid_auto_flow": null,
            "grid_area": null,
            "grid_template_columns": null,
            "flex": null,
            "_model_name": "LayoutModel",
            "justify_items": null,
            "grid_row": null,
            "max_height": null,
            "align_content": null,
            "visibility": null,
            "align_self": null,
            "height": null,
            "min_height": null,
            "padding": null,
            "grid_auto_rows": null,
            "grid_gap": null,
            "max_width": null,
            "order": null,
            "_view_module_version": "1.2.0",
            "grid_template_areas": null,
            "object_position": null,
            "object_fit": null,
            "grid_auto_columns": null,
            "margin": null,
            "display": null,
            "left": null
          }
        },
        "f094ce6921d5470da0cf7e89ab09626a": {
          "model_module": "@jupyter-widgets/controls",
          "model_name": "FloatSliderModel",
          "state": {
            "_view_name": "FloatSliderView",
            "style": "IPY_MODEL_07874c7f142d40d98896424521f709ed",
            "_dom_classes": [],
            "description": "jitter",
            "step": 0.05,
            "_model_name": "FloatSliderModel",
            "orientation": "horizontal",
            "max": 0.65,
            "_view_module": "@jupyter-widgets/controls",
            "_model_module_version": "1.5.0",
            "value": 0.4,
            "_view_count": null,
            "disabled": false,
            "_view_module_version": "1.5.0",
            "min": 0,
            "continuous_update": true,
            "readout_format": ".2f",
            "description_tooltip": null,
            "readout": true,
            "_model_module": "@jupyter-widgets/controls",
            "layout": "IPY_MODEL_b7c86be4dccd4df6906a573a5cdfacef"
          }
        },
        "b9c973ae4ba24ef089c90c9c2508c35a": {
          "model_module": "@jupyter-widgets/output",
          "model_name": "OutputModel",
          "state": {
            "_view_name": "OutputView",
            "msg_id": "",
            "_dom_classes": [],
            "_model_name": "OutputModel",
            "outputs": [
              {
                "output_type": "display_data",
                "metadata": {
                  "tags": [],
                  "needs_background": "light"
                },
                "image/png": "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\n",
                "text/plain": "<Figure size 432x288 with 1 Axes>"
              }
            ],
            "_view_module": "@jupyter-widgets/output",
            "_model_module_version": "1.0.0",
            "_view_count": null,
            "_view_module_version": "1.0.0",
            "layout": "IPY_MODEL_fb22adbb14da466c88bdd3e907df1e33",
            "_model_module": "@jupyter-widgets/output"
          }
        },
        "07874c7f142d40d98896424521f709ed": {
          "model_module": "@jupyter-widgets/controls",
          "model_name": "SliderStyleModel",
          "state": {
            "_view_name": "StyleView",
            "handle_color": null,
            "_model_name": "SliderStyleModel",
            "description_width": "",
            "_view_module": "@jupyter-widgets/base",
            "_model_module_version": "1.5.0",
            "_view_count": null,
            "_view_module_version": "1.2.0",
            "_model_module": "@jupyter-widgets/controls"
          }
        },
        "b7c86be4dccd4df6906a573a5cdfacef": {
          "model_module": "@jupyter-widgets/base",
          "model_name": "LayoutModel",
          "state": {
            "_view_name": "LayoutView",
            "grid_template_rows": null,
            "right": null,
            "justify_content": null,
            "_view_module": "@jupyter-widgets/base",
            "overflow": null,
            "_model_module_version": "1.2.0",
            "_view_count": null,
            "flex_flow": null,
            "width": null,
            "min_width": null,
            "border": null,
            "align_items": null,
            "bottom": null,
            "_model_module": "@jupyter-widgets/base",
            "top": null,
            "grid_column": null,
            "overflow_y": null,
            "overflow_x": null,
            "grid_auto_flow": null,
            "grid_area": null,
            "grid_template_columns": null,
            "flex": null,
            "_model_name": "LayoutModel",
            "justify_items": null,
            "grid_row": null,
            "max_height": null,
            "align_content": null,
            "visibility": null,
            "align_self": null,
            "height": null,
            "min_height": null,
            "padding": null,
            "grid_auto_rows": null,
            "grid_gap": null,
            "max_width": null,
            "order": null,
            "_view_module_version": "1.2.0",
            "grid_template_areas": null,
            "object_position": null,
            "object_fit": null,
            "grid_auto_columns": null,
            "margin": null,
            "display": null,
            "left": null
          }
        },
        "fb22adbb14da466c88bdd3e907df1e33": {
          "model_module": "@jupyter-widgets/base",
          "model_name": "LayoutModel",
          "state": {
            "_view_name": "LayoutView",
            "grid_template_rows": null,
            "right": null,
            "justify_content": null,
            "_view_module": "@jupyter-widgets/base",
            "overflow": null,
            "_model_module_version": "1.2.0",
            "_view_count": null,
            "flex_flow": null,
            "width": null,
            "min_width": null,
            "border": null,
            "align_items": null,
            "bottom": null,
            "_model_module": "@jupyter-widgets/base",
            "top": null,
            "grid_column": null,
            "overflow_y": null,
            "overflow_x": null,
            "grid_auto_flow": null,
            "grid_area": null,
            "grid_template_columns": null,
            "flex": null,
            "_model_name": "LayoutModel",
            "justify_items": null,
            "grid_row": null,
            "max_height": null,
            "align_content": null,
            "visibility": null,
            "align_self": null,
            "height": null,
            "min_height": null,
            "padding": null,
            "grid_auto_rows": null,
            "grid_gap": null,
            "max_width": null,
            "order": null,
            "_view_module_version": "1.2.0",
            "grid_template_areas": null,
            "object_position": null,
            "object_fit": null,
            "grid_auto_columns": null,
            "margin": null,
            "display": null,
            "left": null
          }
        },
        "4acf92cec3df4bb2a5064d037c6dab1e": {
          "model_module": "@jupyter-widgets/controls",
          "model_name": "VBoxModel",
          "state": {
            "_view_name": "VBoxView",
            "_dom_classes": [
              "widget-interact"
            ],
            "_model_name": "VBoxModel",
            "_view_module": "@jupyter-widgets/controls",
            "_model_module_version": "1.5.0",
            "_view_count": null,
            "_view_module_version": "1.5.0",
            "box_style": "",
            "layout": "IPY_MODEL_a89c30a299a3429cb259770c88c7c5c8",
            "_model_module": "@jupyter-widgets/controls",
            "children": [
              "IPY_MODEL_ad935d61ab4c4122b4e6c82bf1a94994",
              "IPY_MODEL_45e30cd1ae48416c9cf4b71088367162"
            ]
          }
        },
        "a89c30a299a3429cb259770c88c7c5c8": {
          "model_module": "@jupyter-widgets/base",
          "model_name": "LayoutModel",
          "state": {
            "_view_name": "LayoutView",
            "grid_template_rows": null,
            "right": null,
            "justify_content": null,
            "_view_module": "@jupyter-widgets/base",
            "overflow": null,
            "_model_module_version": "1.2.0",
            "_view_count": null,
            "flex_flow": null,
            "width": null,
            "min_width": null,
            "border": null,
            "align_items": null,
            "bottom": null,
            "_model_module": "@jupyter-widgets/base",
            "top": null,
            "grid_column": null,
            "overflow_y": null,
            "overflow_x": null,
            "grid_auto_flow": null,
            "grid_area": null,
            "grid_template_columns": null,
            "flex": null,
            "_model_name": "LayoutModel",
            "justify_items": null,
            "grid_row": null,
            "max_height": null,
            "align_content": null,
            "visibility": null,
            "align_self": null,
            "height": null,
            "min_height": null,
            "padding": null,
            "grid_auto_rows": null,
            "grid_gap": null,
            "max_width": null,
            "order": null,
            "_view_module_version": "1.2.0",
            "grid_template_areas": null,
            "object_position": null,
            "object_fit": null,
            "grid_auto_columns": null,
            "margin": null,
            "display": null,
            "left": null
          }
        },
        "ad935d61ab4c4122b4e6c82bf1a94994": {
          "model_module": "@jupyter-widgets/controls",
          "model_name": "FloatSliderModel",
          "state": {
            "_view_name": "FloatSliderView",
            "style": "IPY_MODEL_86e140f63c1c4368aa76bd98e9de0d96",
            "_dom_classes": [],
            "description": "jitter",
            "step": 0.05,
            "_model_name": "FloatSliderModel",
            "orientation": "horizontal",
            "max": 0.65,
            "_view_module": "@jupyter-widgets/controls",
            "_model_module_version": "1.5.0",
            "value": 0.4,
            "_view_count": null,
            "disabled": false,
            "_view_module_version": "1.5.0",
            "min": 0,
            "continuous_update": true,
            "readout_format": ".2f",
            "description_tooltip": null,
            "readout": true,
            "_model_module": "@jupyter-widgets/controls",
            "layout": "IPY_MODEL_736276bb7f0542fc87fb53f009be3346"
          }
        },
        "45e30cd1ae48416c9cf4b71088367162": {
          "model_module": "@jupyter-widgets/output",
          "model_name": "OutputModel",
          "state": {
            "_view_name": "OutputView",
            "msg_id": "",
            "_dom_classes": [],
            "_model_name": "OutputModel",
            "outputs": [
              {
                "output_type": "display_data",
                "metadata": {
                  "tags": [],
                  "needs_background": "light"
                },
                "image/png": "iVBORw0KGgoAAAANSUhEUgAAAXgAAAEGCAYAAABvtY4XAAAABHNCSVQICAgIfAhkiAAAAAlwSFlzAAALEgAACxIB0t1+/AAAADh0RVh0U29mdHdhcmUAbWF0cGxvdGxpYiB2ZXJzaW9uMy4yLjIsIGh0dHA6Ly9tYXRwbG90bGliLm9yZy+WH4yJAAAgAElEQVR4nOydd3hc5ZX/P7dNL+pdlm259waY3kILPSSBkEY2kLZJdjdhk01dUiBlUzeBNEISloQQejG9GIzBvVdVq/fR9Jnbf3/c0VjCNobYBsNvPs/Dg2SN7r2acu77nvM93yPYtk2BAgUKFHj3Ib7dF1CgQIECBY4NhQBfoECBAu9SCgG+QIECBd6lFAJ8gQIFCrxLKQT4AgUKFHiXIr/dFzCesrIye/LkyW/3ZRQoUKDAO4aNGzcO27ZdfrCfHVcBfvLkyWzYsOHtvowCBQoUeMcgCELHoX5WSNEUKFCgwLuUQoAvUKBAgXcphQBfoECBAu9SCgG+AACqYdIVSaMZ1oR/j6Y1srr5Tx2zL5Zha1f0kL8fTWusaRthIJ593eP0x7Js6YqS0fYfZzCe5aWmIfpjr/+7R5vWoSSvto5MuJYCBY5Xjqsia4GjTyKr89DmHmzgisW1hDzKAY8ZSap89f5tDMRVaoo8/PiqhYR9Cre+0MKTO/rxuiS+eM40NnVGsWybD504icqQ53XPu7FjlO+v2IVh2kwp8/Pj9y/Ao0j5nw8nVf7jni1E0zpuWeQH75vP9MogAPGszsvNw5T6XbgVie8+upOkauBWJL56wSwml/n40j+2ktFMPIrIj9+/kCllflTDxC1Lh7qkI+bFpiF+9vReLBsml/n5yQcWvKnzJVWDDfsiVIY8zK4OHbPrLFBgjEKAf5dzy+N72NETA2B7d4z/+cBCAJ7dNcCzuweQRYGwV2EgrgLQG82ysmmQZZNLeHJHPwAZzeRbD+8k4JaxsXlsWx/VYQ/zasPMqwnxwKYeSvwu/uO8GbzcPEzLUJKe0QyG6RjZtQ+naBpIUBny8MMn9jAQzzKjMkg0rQPQE81w9e9epa7Yx02XzeW2F1rY059AEKCh1Ecia9ATzWDb8N+P7ODsmRX0jGawbJsin8KzuwdY1x6hP5blhMklfO2iWSiyyLr2EVa3jnD2jHIWTSo+4udy5d5BrJw3377hFO3DKWZVvbFAndVNvnLfVroiGQC+eO50zptTecTX9Ho8vKWHezd0UxZw8dWLZlEd9h7T8xU4/igE+HcAGc3k3o1dpFSTKxbXHPKDalk2z+weYDip8p7ZlVSGPOzti2PZNqIg0DyYBGBde4QfPbmH7lEn2IS8Mn6XjN/tvB1K/C58ioQoCliWjWZYDCdVVN1ElkSGEioeWWTl3kEe39ZLyOtiMKHy9Qe30zOaIa2bZDWDYp8br0tClgQqQx7+tHofLblrWN0yjCQKmJbFQDyLLIo0DST4+J/WkdFMBMH5m/pjWQRBwMZGFkVkSeTVthEiKQ3DshhKqDyypQfTshlOaty9rpONHRGuPakhv4P446p2/vCxpSxtKKEzkqY86CbsnbiT6Yqk8SgS5UH3IV+HumIvr7aOoEgCXkWm6jC7mPF0jKTpimRIqQYD8SzffGg7blnkjBkHlS8fMQPxLH98uR3bhlhG546X2/nGxXOOybkKHL8UAvw7gF8818QrLSMAbNgX4Q8fW4YoCgc87k+r27l7fReKJPD0zgGWNhTTHc2QVA1qwl4unFcFwFM7++gcl2/XTZOqGg8zKoM0VgQYSWo8t3uA6eV+tvXEGElq2DYMJVW8ikTII5NQDSzbxrL22033RTN0jTrHtW2QRJHFk4pYOrmYgFvGtPbn9z2KxPWnTeHpXf20DaUxcj+zbBvLtrFtwAaXLFLsczGSctJHmmExmNYQBbBtEAWBwYSKbUMiawBOKuRXzzeR1czcTQTuWtPB/73aQddoBp9L4uYr5zGtwkkJ/WZlK49u7cW0LP79vBlcNK/6gOe2ZTDJMzsHSGYNKkIePn/ONJ7bPUh9iY8Tp5Qc9jWsCnsIuGXah1NYNkiiwK+fb+H06WUIwoGv5ZFiWLnnMIduvr4tuGnZDMSzlPhdE1JpBd7ZFAL8O4B9w6n814MJlaRmHJBLj6V17ljdTiSlIwqg6hZ90QwVITcBVaa+1MuXzpuBZli82hpBAMY+8qYFo2mdj53cwNce3M7e/gSGaSNLAvXFPqJpDUUSEQWBsqALWRTpimTwKCIL6sJEUjohr0xDSZh9I2lsyK/An98zyFM7+/n9i638z/sX0j6cYiipceWiGi5fXMtwSuW5PYNoho1lQ8irYJg2Kc1AEpz0UXnQTWXITUoz6RtN43FJ+YAV8MiU+t1IIiRVHRGBrkgaw3KOZ+Z2L2vbI6Q1M7/qfnJHP58/J0hSNXhgU3c+BfS9x3ZxzqyKA3LrD2zqJqWZFPtdZDSDnzy9Nx9AP3PGVOKqgW3DpQur8SgS69sj+N0yC+uLAAh7FW5533xu+MsGVMMk7FNA4JgEd4ASn4tlDUW80jpCTZGXj58y+ZCPzeomX39wO80DSUr8Ln7wvvnUFBXSOUfK2KyNY/UavxEKAf4dwNkzK/jr2k4AljYUH7RQum5fJP9GGlshelwStg1+t8y08oCz6rdsXLKI3y2jGhoI4JJELNtm/b4InSPpfPA0TJvRtJaP1qIgUB3yMpBQCXlkdNNiW3eMi+dXk9EN1rWPIIsCti0gCgJJ1XDUJgKkNZO/reviB+9bQCytUVfs4wt3b+K53YNYlk1l0I0kCRT7XJgWLKgLs7CuiG09UcDZHaRVE0EQUHWL6rAbzbQp9bsoC7r56oUzueb3a4lndGxAFJznQMRJOYW8MinVZDSt4XfL+VSMRxbJaGY+WGd1ix09MZY2TFyVj0/paKaFldtdJFWDm5/YTcAl41YkNndGcCsSW7ucuseHTpzEtSdNAmBKmZ+ffHAhv3i2CdOy+dxZ047Cu+NANMPiK/dvY99wCpcscdmiGhTp0EFmXXuE5gEndRZJaTy+vY/rT596TK7t/xee3TXAb15sRRYF/vOCmSybfPhd3rGgEODfAVxz4iTm1YbZN5JiS+con7pzA/Nqw1y5uJb6Eh8A1WEPxT4XLknEsGw+e1YjZQE392zootTv4tNnNgJOTruhxMeevjhCLggqkshlC2t4bFs/6dfI/1yySH2xF1EQEEWB2mIvW7qjpFQTAef3n9szSFY3qSv2UV3kJeSRsYHWwaSzmsdZSXePprj+zg1Ylk3QLbO2fQQLJ9XSF1fxuSQymkV5wIUoCkyrDFDsdzGvJsTVv19DJKXlV0XlQQ/fvnQOe/sTPLK1l/96YDtZ3UQUwLSdmxy2swtJaSbxrIEsCVSFPFyxuJb3LakDQJZErlxSy9/WdiIKAuUhN2WBA/PwH1neQCyj0xvNcNq0Mu7f1ENvLMNgXMWybaKizqQSH7v6E6i6xXBCRRScncJYgAdYVF/Enz9x4lF9f6zcO8hwUuOsmeWUBdx0jKTyu754Vuf7j+2mpsjLxQuq+UzufTCekFcmkdWxbWdHVORzHdXre6O82DTEI1t6qQy5+exZjQQPspB5J2BZNretbEE3bTTgty+2cnshwBc4FF2RNNVhD796vpkdPXGGEior9w7x4OZuHvzcqRT5XMyrDfMf501nTVuE6RUBrlxciyAIE4p4t61s4Ynt/XSMpKgIeZBEgYxmcvOV8xhN66xqHqa22EvPaBpFFJlTE+LLF8xkXk2YzV1RKoJuvvPIznxux8YJ8IZlY+Ry8R5FxLadHLAsCbhkEcuyccsiPpdMWtMA2Nw1yvi0sICz8rRsG48q8XLzMK+2jji5e9vZdaiGiWWDzyXxzUtm01Di51sP7cCynfSMYdm8NtXsVkQsG7yKiCSKfObMRi5fXDvhMV84ZzoZzWR7T4xzZlXQUOoHnOLkSFJlUokPv1vmi+dOJ62ZlPhdnDytjO8/uotkNkJSNdAMi6xu8p7pldy/sRs1V9/oi2fe1Gu9pStKy2CSZQ3FTC7zH/bx96zv5K41zu7u8e193HrtEipCHnwuibRmMprS8sXzFdv6+Ojyhvz3Y6xuGcGwbJKqQYnfxeWLat7UNR8NBuLZvAS1aSCBV5H4wrnT3/LrOFpIopDfCUsHqZe9VRQC/HHOz59p4vk9g4iiQDKrk1QNdMtCAPpjKnet6eDjp0zmtpWtDMSyXLqwhrNnVRxwnJRq8MR2R/boliWiaY2GUj8zK4OcM6uC5/YMMprW0E0LtyxRFnRz4bxqTmksA+DM3I3C75ExLDtf5LRtKA+4mFEZZCSlMbnMzystwyRVA68iUxlwc+r0cj6wrI5HtvbyUtMwummhm/aEOoCTQnA+CJIokFINinzOCi6R0cnoZj63b5g2//tcCz/5wMK8bDHgVvDIKoZpoeY+WKLgpFzCPlc+9x4al2rZ1DHKn1/Zh0sSaR5MYNnw2LY+FtYXEfYqfOPB7QwnNRrL/XzhnOn88Ik9ZHST8+ZU8sVzp7OkoZiVTUMIAsiiwFkzy7nx/Jm80jJMJKUjiQI1b0KauLZthO+v2A3A39d18ssPLab2MLnwrd2x/NdDCZW+WIap5QFuvnI+T+/q56WmIZK54nPALeOWD+xtXNceodjnotjnOqA4+1YRz+iMq9cTzehv/UUcJURR4EvnzeR3L7WiSCJffBtvVIUAfxwznFR5fs8g4Gz7/C6ZuOS88UVBcIIs8OfV+3i5eRiAXzzbxOzqEFXhiRI+jyIR9MgksgYVITchj8JF86s4pbGMp3cN8MiWHqJpjZRqokgiIY/Mg5t72Nw5Sm8sy6nTSvnyeTM5c0YZa9tG8CgyRV4XF8yt5LNnTaPY72zr+6IZHt3ai6o7q/H6kiK+etEsFEnkM0VeXJLE6pZhin0KwykNwQZFEqkv8VIT9mJjE3DLNPU7WnqPIjG9MoBHEVndMpL/uxVJYCSp8oGlddy/qZugR2HxpCJiGYOmgQS27Rwn4JE5c0YFTQMJ5tWG2NkbY09/gnNnV/CZuzaSyBqYlo1bEZmcW7nv7oszEFdpHkximDZDCZWR1M584Htm1wDvW+Kkx2qLvLkGK2fn0hfLct2pU/i/VzuQRIHrTp180Nc2q5vcsmI3LzQNUuxz8fWLZrO9Z3+wVg2Lvf3xwwb4RfVFbM8F+cqQO18cnVYRYFrFND6wtJ7bV7WR0gw+fFIDsnRggJ9VHcyrtKaW+3Ed5CZwrGksD3ByYymvto7gdUm8b0nt4X/pOObkxlJObix9uy+jEOCPZ/wuGa8ikcm1+p8wpYQPLqvjY3esYzSlY9s2kiAwknbSHqZl0xPLcNMjO7jxgpl5GWBKNfAoEt+6ZA53vNxOsd/Fp86YiiQIXHHbaoYSKlndkRSKAuimRfuwI11MZHWKfC5eahqmvsjHfRt7CHkVYmmdxooAXzh3+oRc6UBCpSbsoS+WJaWatA4muemRnXzv8nlEUhonTC6myCfzv8+15JfvfrfEdadO4dxZ5dz1agd3r+8innFy5orkpJk+c2YjX/jbJtbvG6Uy6CGrm3zpH1sJexV+9sFFPLy1l82do3gUkTOnl9ETy+KSRb54zvT8juaGOzfw5I4BFElgw75IXlYpCKDmnmNRcArZT+8cyDdqAbmuWQnLth3N/wPbOWdWJQvqw+zujTOYUFndMsKmzijfu2Ied33yJCRJIOA++EdsxbY+nt41QCyjM5zQ+MZD2/nKBTPzP3fLIjNfp4lqR0+Mezd0EfIq/OvZjWR1izNmlB8gcSwPuvnae2e/7vvsS+fNYFZVH6pucfGCAyWiumkhiwLP7BpgIKFyzqyKw9543iyiKPC1i2YxEFcJeuQD0khHytq2EVqHUpw0tYTG8sBRPfbxTCHAHycksjortvWhSCIXL3Ckdl6XxLcvncPf13cS8ihOUBYFygJuwh4FWRLZ2h3l386dwabOUXb0xrBteHLnAOv3jfLCjWfy51c6eGbXgLOadUv0x1VKAy5My+aRbb0M5jpYYaJW2rAsvIrEcFIj5FEQRYH+RBbLsnOrc2geSLC7LzFBB+53SRT7XXSPZrCxsXFsC/7r/m2sbhuhyKtQGfLkdx/O327QG83w0T+uoyuSzhVJbUwLNNOm2KugSCK//egywFlB//K5JjKaSVozuG1lC7v7E/SOZlANi6WTi7n7hpPwueT8ijWa1ni1dQQzlwcQRYESv4tISkMUBCrCbhRJ4OyZFSyoK6Ku2MeK7b3EMgYhj8zVJ9TTG82ybt8IfpfEaFrn/k3d3HzlPNqHUvz3ozvpiWYQRXh8Wx9fv/jAoPrYtl6a+hMsbyzFtGx0c39fgGHZTC4L8L0r5tE6mGRpQ/Ehg2hWN/nuY7vyfjgZzeSbl/zzTUxuWeLKxXUH/Hsiq/Oth3fSMpAg4JFJZg0EQeCpHf385iNLjnoRVBCEA3aeR4OXmob4n6f2Ao7c9Y2kvt4tFAL8ccJNj+yiaSABOCmCsQ/svNow36+dTyTlrNL9LkfiN5J0vq8v9jGnJsTyqSVs7ozmjzea1nixaYhndg2Q1gw6IylMCyaX+RhJOlK4iqAbIZdLl0UBy96veBFwNOiG5eTlT28s54qFNbzUNEQ612nqUSRuX9WGWxZZWF/Eim19/O6lVgzTynfPplSTlJpmOKmSUk1U3SStmZi2s0q1cc793O4BbNvO69fB2ZFohsWGjlGuPnESSi5YlwfdDMbV/Ao85E0Rz+j5wmbXSJoXm4a5dOH+YmFnJI3fLRHPOL9TGXTzi2sW8YeX2umMpOmJZtBNm6d3DXDmzHIW1BXxtxuW88KeIcqDbt4zuwJBEPKF6jE0w4Jc3wGAZTkNYa/lmV0D/O7FNgBWNg3x3cvmsri+iFfaRvAqEqc0ltJY7keWRBbltPOHYkx+mtVNDMum/zBmbf8sv3q+mad39uea1gRKAy5CHoVYRqcvln3HqFx29sbzX6uGRctgshDgC7x1mJadD+4Ae/oTE37+j/Vd/N+aDkQBPnf2NG6+cj73bejG75a45kRHgjepxEdO5g448sZZlSF006I3lkU3LAzLpnUwxaQSH2GvwkXzq3m5ZZhVzcOUBVzops1QUiWe1jEti+7RDGUBF8MpjQc39/D8nkE+fFIdiayBKAqMpjS2dEX5wt2bCXsV0pqTCkqqJinVRBYFvB4J3bRwSSKjpk42aTKc1BjTFQQ8MrVFXkr9LnpGM4iCgG07K39RhIYSH61DKbpHM0zJqUoW1IbxKBKGZeNRRGQRKoJuhhIqLlkk4HFSW+DsHiIpjQW1YWZVhegeTSMgcN2pU6gMefnmJXP4/Uut9G3dHyS3dkW5d0M3RT6F60+b6jQl5bhqSR2bOkYZiKucNKWEJZOKCXkVaou8JFUDw7LY3Rfnaw9s48vnz8xLLjsj6fwxbBuGkxq3X3cCI0mV0bTOlDL/G1ZblAXc1BV7Wbl3CIC6Ii+mZR91tcbLzSP5uoNmWvnXrDLkob7Yd1TOsac/Tla3WFAbPmh39tFgyaQintjRh51TYM2uCh6T8xyPFAL8cYAkCixtKGZjxygAJ4zTzFqWzV/XOTI4y8613H/yJP7tPRMr8x86sYG1rSM8vqMfQRD4/FnTmF4V5JIF1fz2xTY0QBad1EfQI3PpwhokUeCHVy3Atm0EQeDOV/fx+xfbCHplKoJumgeTpDWDtOasyDOayR9W7ePG82eytSvKM7sHCLpluqMZ+mMZZFEg4FFIqgaSKDgSStNmbk2YrpGUo1HPXe9YeiaVNcjoJpcsrOHl5mHiWZ141nAkjxb0xp3A/o0HtjGa0TlrZgU3nj+T+XVhOkecoDmjMkSJT6EzkkY1LMqDbs6ZVcEDm7r50+p9ub/BZH5tmKtPqGdpQ/GERqbLFtaypi3CUEJlVlWQh7b0oBnOFWqmxdcu2p9uqQx5+MPHlvHUjn46R9Ps7I0zvy7MjRfMYMX2Pta3jyKJAjt64tzxcjtfuXAWAGdML+OJ7X2ohkVpwMWSBsf8rDTgpvQguvvDEXDL1Jc4/QnRjE5/PHvUV6V1xV4GE1myukWJ18VP3r+A4ZTG8qmleF1HbmcwXuJ56rQy/uuiWUd8zINx0tRSbrlyPu3DKZY0FFPxJjyE3ukUAvxbiGXZPLqtl+7RDO+ZXcnMcSuJr793Nquah1AkkdOmleX/XRQFQh4577z4ek0os2rCtA47Qe+pXQNcvLCGT542lc1dUUclIUBN2MPcmlA+3QH7W6k/dvJk5tWGuXnFbqK5wm08u7/46PzfaYz69/NmsH7fKEPJbD49oZs2mqkS8ijUFHkwTJsSv4u/XX8S331sFy83D9M2znYBwMLxdr/zlX3cdNlctnZHiaT1/DlN0yKS1GhKagiCk+o4tbGM71w2l/s3diNLIlctqeXjd6zLm7CpuoUoCjy0uYd9w0kyuoUkCuwdcBwqP3VGI6phktUt/C6JqrCH3310KYmsgWaY3HDnxvz1DSe0A57nF/YOcuvKVgAe397PL65exIXzqplVFeILd28GIKXqPLi5m1fbRrh8US3XnjiJWz+8hM5ImhmVwQPMzt4sk8v8+Z1e2KtQcpD3RVI1+P2LrfTl5LNv1tjsy+fP5H+fb0Y3LD595tQDunuPlGd2DeS/Xt0yTEYzj8qN42DMqw0zrzZ8TI59PFMI8G8h927syq9YVu4d5DcfWZrfwrtkkXNnH9w+9psXO+oXRRb41OkHdiKOMaZ3tnFy6CnVwOuS+PWHlvDL55p4qWmYypD7dX1Jlkwq5rqTJ7Niey9dkf3B2LIh6JGpCXtYMqmY7z66C1Ek51GzPzVk2s5/LllCFp1Uy+f/tploWiOe1Sc8dgwbp0X+p083YeU0/mMPqS7y5rtrbdtRBImCk6b49LiuzPoSHx0jaXTTojLkJprWaBlKops2pmXnzbSyusnGjgjfe2w3bUNJfG6ZSxZUU+JzsblzlLKAm4BbYk9/Ao8i8eXzZ+TP0TGSYuXeIbZ3R/O7HtOyaR9JMbnMz+QyPxcvqOb+jd10RjIIAgwlNPb2J3i1ZZgbzpjKkknFRyWVcsPpUyn2uRhNa1y6oOaggfEvr+zjhVwap2lgLzMqg2+qiDmzKsit1y454ms9FPUlvrxNdUXQjUcpzB862hQC/FtI29D+gJnVLfqi2YO2xb+WmVVBfvT+BYd93GULa3hgUzejaZ1JJV4acjYGXpfEubMrKfIqzK8rYurryMQe3tLD7ava0UyL1w4tumBOJVcsqeWZ3QNs7Y4S9MhUBD3YttMSrxoWkiDgVSQkQUCSBFTD5NndA45DJOyP3ONQRJHljaV0RdKAkHOAdG5SY26VXpdEVjdZPrWE5VMP1BffdNlcvvHgdrZ2xWgaTPLI1l5K/C4kUWAorqKbTtHXq0j89sU2enNF1Wha429rO3HLYn5Fn9ZNaoq8KJJAV85SOZrW+Op92xhOaXkXzrBXIexVmD9uZfiZMxvpi2boj2dJayaW7ahlXmoeom04xcmNpdx06dwjzjdbts25sysoD7gPeayxwrzzeOc1OhYqlX+WL503g3vWd5HWTN6/tO5tNeV6t1II8G8hZ8woZ03bCJYNNUUeplW8vh43q5s8saMPAYEL51Ud1sa1I5KmxO8i7FOQRZEnd/bzgWX17OiJ8b3HdmHbsGJ7P9++dA4nTC5BNUzuWtNBVje5bKHTuLO7z9n2uyQRj+IEvTHWtI7wUsswqm5h2haaYVEWcPMvp01B003+8moHck5tEXDLTgu/bmHm7H8FIedblgvyogBhn8Jp08o5eWopU8v83LW2w1HxCIBgM5rWKfa5OHtmBefOruCcWZVkdZMH1veQVHUuW1hLVdhDic9Ff1zNm4g9tbOfyxfW8sjWXkTBuWl4FQlFEinxuxgfS6zcCn/sOR9TjciiSCSnVuqMpGkZSpJSnbve4klF3HD6VObXhQ+4SYe8ChVBN92jzk1ElgQEBGRJYHNnlIFE9oiGb7QMJvnWQztIqgZLG4r51iVzDroruHJxLdu7Y2R0kxOnlDDtONN/Bz1KwdTsGFMI8G8hp04r42dXL6I/lmVhfdFh8423PL47L33c0hXlpsvmvu7jBcFpNErnGpvGaB1KTmg/bxlMsrCuiI/cvpZt3Y52/uEtvfzj0yezsC7MA5u6yejmhEYfgO5YhjE7Aa9LYnF9mC+eO52XW4Z5ZvcgFUE3wymVgXiWKxbVkMgaPLN7AI8soRkmFk7wm1ERxLBMXJLECVNKWLl3iKaBBD3RDD7FccC0AcEGw7SI5SSQJ091ahO3vdCSTz2saYvw0eWTiKR0Ai6JeC5NVep3c8MZU7nmxHoEBO7b2EVPNMM5syoJeGT0nPwy6JGQJYlERqcvniXkVQh5FZRck9IlC53Gn5BHydcawFE+HcwSAuATp04hltHpjzn+6s2DSaJpDVkUCbidDuBDsas3zv+t2YdHkfj0GY0HrLibBxLceO9WemNZyvwuNnaMsrM3xoK6A6WV82rD3PGJE4hldKpDnn961xDP6nhk6W3pcC1wZBQC/FtMY3ngDXfS7RjXuj7+60NiO/4u5FbKY86LSxuK+evaTjKaiUsWOWFyCS2DSZoHkmi5Zpu2oRSbO6Os3DtIRnf06tZrTEnsXI7Fsp2V7mWLagh7FR7Y1I2mW0RyvvE1RV4e3dbHnf9yIl84dzqtQ0nuWd/FUELl9OllXLKghu8+uotdfXHuWd+FV5EQRac4qo8b+m0DCdVE1Exe2DPI74pb+ff3zKB5MEk8qyMAkaTKj5/aiyyK+N0SC2pDuBWZT54+BSCv1b7u1ClohsW3H97B2vYILkngNx9ZQmN5gOGEY0sgCjClLEBNkYfeaJaS3E4EnIEds6qDDMRVXJLI0oZDjwAs8bv42kWzeWBzN2nV5LNnNfJMrmv18kW1SKJjs+DsJPYHXdOy+d5ju0iqzk0qpe7lx+9fmP+5blr89yM7nZkAWQPLsqkt9tIfy7JhXzuzqoKcMq5AD+Qa3P75j/mvnmvm6Vyj3E2XzZ0gDChw/FMI8McxSxuKWdMWyX89Htu2nZy3KJDRTUIeBRthwjBsUXRWXAG3zCdPm8yDm3oo8aMVkNwAACAASURBVLvxuSSKfEp+W2/bYGHz4yd30zSQxMqtoEUBpFzHqcB+H3QB8LsUsprJtx/ekfcSB/DIEomsjt8t89Onm4hldK5YXMN/X7p/99EVSbOrz2k+8SgSsazudK7a+90gJUHI5+1tHEXIquZhzp1VSSKr5ztwvYpIieisiFOqySdOm0qRT2FjxyjxjD5huPXW7igvNQ85aRcB/vWvm6gMeegYSeOSBc6fU8lJU0uRJZFJpRN13h5F4odXLeDeDV1s74nRNJDgT6vb+cSpUw762v3v8815f6C17SP8/qPOFK6uSJpP/mU90bR+QHpFN618cAdnCMt4srpJIus4Ppo5t873La7j1pWt+VrF1947K28Qd6R0jKR4Oqd0SaoGd6/rPOwussDxRSHAH2c8v2eA/pjKmTPL+cqFs3hhzyCC4DgVjjEYz/LNh3bQPpwipRqUBFycO6uSfz17Gq+2jrCxI8KcmhDvnV/F2rYRfvTkHloGk7hlicqQm1se382vr13Cwvqi/WZmNuzuT064FgFw50b0DSc1JMGxDrCBrGHyoyf2MJobsDGGbln0x7KUBlw8saMPv1umYyTF3Jpw/uZT4ndWxvGsTtgrM7cmxLbuGGGPQkozMS0Lw7TzNsRjY/zah1N89I9rSag6iigiikIu7eAEyPKgm4Bb5kv/2MpoypFVfvXCWZyaW9V6FYmhhIphOTudwYTj5R7LORe+2DTMtIqefPPYGEnV4Lndzip2ekWQ1S0jxDMGD2zqYXZ16KBF39bB/c9lx0iaG+5cj2balAXcecnrxo5RtnSN5uWHHsUx2XpgUw+iANecUD/hmEGPwntmV/Ls7gGqwx4+mxsYMn5s4t7+xFEL8F5FmqB68rsLo/zeaRQC/HHE/Ru7+fMr+wBYsb2X33xkKefPrTrgcQ9s7qEvlmU05/7ocUk8v2eQSxfW8O1L5+QlfAAPbu5BzwVLXTUoMZ0B2evaI7zSMnzIa5FEJ+9cW+RFFAU8ipQf0g1OoB9OHagRF3IBoS+WxSWJjjulKJJSDb5631ae3NlPwK3QWO5nKOEYS00t99PUn6A3lkEzHCvimVVBXLJI23DKSS1JjrImmTUcKaZlIYtOEHKKiVEqQh7WtY8wmtJIawZDCZX/fmQnt314CTMqgwwlVPyu3HALnF3QeMmmJAp5u4MxLMvm6w9spz2n33fJIq1DSQSgMuwhNW7FPZ4zZpRzz/ouwPH1Gczp6duGUxR7lfzr89rpXJ84dQrvnV9NUjW4f2M3q5qH+fBJk5he6aRG/u0907l0YTU+l0xV2ENfLJP3fpdEYUKT3JHizJ6dzoObuykPuPnkaYWC6DuNQoA/jhjvmRHPGHRHMsypObAhZszTWxwbpYeAIDht2DBxBmRJzsa3yKcQTesYlkVK1fncXzceEMzGEARoKPXjVSQEQcC24bpTGvjBE3vzahM7p3QZC5BiTh0zNujAxvG0kQWBmVVBIkmNR7b2ATCkqURSKnXFPjoiaX6f82iRRMeeQATaR1KU+11YOe953bTJqhNTFookUhX2sLsvTstQipZcHUGRBPpiWWzb8Yr5xbNN3PbhpWzpGkUznBGCIgJBj4xmmMiSgCQIVIc9XDbOvyarOwMz2sc1Z7UMJpBzf2NaNfO7g9fykeUNzKsNk1YN/m9tB90R5+ZY4lU4ZVoZPdEM582pzAfu8VSGPPzywe15G+DmwQR3/stJ+VTOeJlrddjLL65ZxPbuGNMqAq8rgf1nOG9OJefNOXh/RoHjn0KAP444YXIx6/c5OffyoJuGXB44lta5bWULQwmVK5fU8sFl9XSPZmgaSKAbFsW5KTwHG5T86TMaEQRHE3369HKe2tlP21Aqr6oZMxsbz5hefCjhOE+ePbOCe9Z37w/uOLNMx0so64q9BNxOKmc0rWHbznFmVAb4+CkNfG/FLlTDRBZFxirBWd3EMJ06ArazK1BEAQtnqEdSM0moBoooYlhWPl0g4AT3sNfFKY2lDCX2m3tldJOvXzyL/7x3G5IoEPIoZHWLoYTKC3uHKPa76Y9nUSQRQRCIpDQkQUCQReJZA810ZJAvNQ3x82eb8sPHxxRFIY+jfbdsqAi6Xle6OmYaFvDI/OjJPWQ0kxtOb+Si+dUksjqbO53pTQeTy47/m+IZZ2KU1yWhGY5173hFTHXYe1jZZUo18Lmkgtb8/zMKAf444qL51VSEPPTHspzcWJr3xP7jy2280uoMZPjJ00387IMLWdZQTHckTcKyuWBuFRfOO9DHGxyd+X9esN/j4+VcWibsVUipBiGvQmnAxUgyy2DCUabYtk08o1MacLG4voglk4q44+X2/Fg+2J+LF3BW76Ig8NuPLOMvr+5jxbY+3LKILAl8cFk9f1/XhWWT18YX+1xcNK+KNe0RBJw0iIWjvS/xu/AoIomMgVsSkccKwYAiOkZkpg2yJNBQ6iPkUZhTE6I110S2sD7MSZNL+cZ7Z/Pbl9qQRYHrT5/iOFWaFl7FGWZimLl0j2VjYKOZFjt7Ytzwl4389IML+fMr+9AMZ7aqalhcuqia06eVE/TI3LayFUkU+Pf37O9yfT0W1BXx1+uX51Nnac3gy//YSl8siyg4lgCtQ0m2d8dY3FDMR5c3cNWSWn6zshXLhovmV+F1SfzllX254SYy377kjSlaDNPi+yt2s7FjlOqwh5uvnJ/vFTheeGHvIM/tHqChxM/HT5lckGMeRY5pgBcE4ULgl4AE3G7b9g+P5fneDYypZV5qGuK+jd2U+F2kNWcFNxDPktFNrrptNVZOI15f4ueO1e2c3Fg6QUEzxtauKNu6o8yvK2JRfRHXnzaFWx7fQzStce1J9SysL2ZeTZh7N3bx59X7nHxxXEWWRGTRGeCd1swJwR32SzABEAQml/qZVOrjulMms70nRkYzUSSBSEqlM5LGtu38rNO/37Cc1a3DbO2OUV/sozuawSuLVIc9+FwyyxqKeXBzD+m0Tn2xF48iI4kCzQMJdMtR9mR1k23dMZKqwTUn1PPzqxcSy+gsrCsipRlopsW/ntXI2TMrUGSRvf0JMppF52gaAagt8pLWTXTT6TS1cG5SffEMN967lWK/YwMQzzrWCJs7onxs+WSmVwY5eVwR07Zt7l7nKGuWNhTz/qUH+qqrhomAkA9cTQNJ+mKOe6Vlw1/XdtIbdVI4zYNJGkp8XDivmsWTilF1i0mlPgbiWe7b2A04K/q/vLqPW66cf9j307p9kbyJXV8sy8Nbeo6r5qJ9wyl+8UwTlg1bu2J4XRIfWd7wdl/Wu4ZjFuAFQZCAW4HzgG5gvSAIj9i2vetYnfOdxK7eOP/Y0EXII/PJ11jSNg3E+fI/tmJYFqV+F3NqwvSMpkhpTkpkrFVeFAUSWR2X7J4QgG3b5tYXWlixvY/+mNM1ed/Gbm6+cj7zasPc/vFlB1zPB5bWsbZthK5IhknFfqIZDZcscvUJ9dQUeRGFiQHeJTkqFtVwUifXnz6F4aTKz59pons0jd8lY9kCT+8aJJvT1FcEPXzi1Ml4XRKrmodIZHUCHpnKkAdZEvC5ZEp8Cuv2Ragv8WHZjlnZrz+0hLBP4TuP7uCBTb1kNANsR1aY0UwiKZ26Yh/3bmjif59rZjCh5lb+Ap2RNB89uYFfPNuEbjk3HQHHRkExnXqGZTvyT5cskMya9AvZ3GhAIee+6RRFXytbBHh+zyB359w+d/TEqC3yThjV9sT2Pn77YitibsV/5oxy6oq9uBWRtGoiihD2yvTut/LPzyMdf8N+refPwWarHoysbqKbVt5c7nDd0G81Iyl1QqF7fGqqwJFzLFfwJwIttm23AQiC8HfgcuD/+wCf1U2+8+jOvIlWRjf5xsX7J/LctrI1r4fujWVprAhgC/tTFUBu6LWNKAp88IT6CVaxmzpHeWrnAImsQVa3GE1rlAXc7O6L5x31LMvm4a099EaznDenkqd39tOZKwROKvPxs3MX4nPLrGkd4YY7N6CbY2JEp5Aa8iqYlk1F0E1DqZ9lk0u47o51bOmKYtkQETWwHddDjyIxqcTHrR92jKtufaGFNW0RBhPO0I75tSGuWlpHVrc4bXoZ/3b3FmJZnb5Yhr5Ylk/ftYFbrpzPty6eS2NZgB88sdtJEdnOsIvFk4r446o27l7X6UgrTZu6Yi9+t8zmrii90SzbumNEUnreMkEWBbyKzGhaxyVL+F3OR0GWbEr9bmIZHbcsokgiiazBnBrXQQdxDL9muMf4723b5g+r2rBssEyb21e1ceaMcvwumWKfi+5IjOqwh8+cOZUfPLGX/liW+hLvBEnsGCV+F/969jT+vr6LktzIxcNx74Yu7ny1g3hGJ+xTOGN6OVctOXCH8XYyrzbMjMogTQMJvC6J984/eKqxwD/HsQzwtUDXuO+7gZOO4fneMSRVIx/cwdFjj0c3bUIemXjWQADeM7uCNW0RZMnKmWZBkVch7HPx9xuWU3kIAymfSyKSi8qKJLCwfr8p1t/Xd+VXniv3DE4o2m3vjhH2KbhliR8+uSc/wcm2wed2jMTKA06xMpbRGUmp3LxiN82DSVTTwrZBwSnUmpaNIsHyqY5878kd/dy+qi3vGZ/WTAbiKq+0RvivC2eypTuGZpj0jKYxTJvqUg8p1TEs+9QZjUyvDBL0uDBMFQSBgNs5x/N7h8jqFoblnN+wLCzLprHMz+qWYYp8CpZtoxomly+qxe+SuXdDF+CohAIeiauW1PH0rgFsG6aU+xmMqzSUOsc/f04lLlkko5ls7BilPOhmZlWQs2dV8MSOfkaSGlVhD6dP35++EQRHXqqbRv71AHipeYj+WJbyoLPzWts+yq3XLmE46XjpKAcZjA1w/tyqg8pmD8W9G5yUTmnAjVsWDzub9e3ALUv88Kr5dEXSlAbcR2yjXGAib3uRVRCETwGfApg0adJhHv3uoCzg5qyZ5azcO4QowBWLJk6Qv3pZPT2jGUp0k0sXVnPJgloe2dpHVySNIMDUsgAVIQ+XLqg+aHBfMqmY8+ZUsnLvIGdML2f51BJWtQxz473bWD61lK9eOIu2IacRJ6OZtAzEsRBwyyL1JT5mVAZxy04wEgUcoyxRdHLVtrNCzhomWcMk7FUQEPINU2NYts2lC2s4e2Y5QY/CSVNL2dET49YXmomPFTdzDo9doxlaBpPct7HL8aGxx5pqbDTTxiXvT1cU55qkxpqTgh6FebVhwh5nR2HjrNAnl/rpi2V5fu+goxKybTyKxMyqIP9x3gxe2DOIV5GIZ51V/eRSP587axqXL6olqRqU+l3ceN82RlMaIZ+C3yXzy2ebeKV1JH9z/uK50zlvTiW/+fBS+uNZqsOeA1Ig/3XRLH73YhuSKPD5c6axqnmIV1qGyepm/rE+l+PzcjAV1JFQ4nfRk8vtlwYO7X/zRtnbn2BDR4SZlUGWHUW9vSKJR13eWcBBsF+rkTtaBxaEk4GbbNu+IPf91wBs2/7BoX5n2bJl9oYNG47J9Rxv2LnOzIBbPuiEmVhaJ2uY+cA2mMjywp5BygLOtKI3I3e789V9+dUcOEHHsm1+8tRe9o2k8nNKAWZWBrj3s6fkPVxWNw/xn/dtI6EauGWRqpCHvlg2r8kuC7iRRKeA2DOaIZrR8OQ6Zn997WKmV+63Cnh+zwA/f6aZnb2xAxqMzFx3KThpKEl0bjjnzqpgTk2IhlI/jeUBfC6Jv63tYHdfnBK/mxsvmElNkZf7NnZx0yO7MC2b0oCLsoAbw3IsmVOaQdAt550kJ5X6OHtmBd951Hm8Wxb5x6dPZsZrVCmJrE7bUIpEVuf7K3bTFUmT1k2KvQq1xT4W1RfxvSvm8WrrCI9v76Mq7OETp0xma3cUtyyxeFLRhNfpud0D/OLZZsB2hpl7ZRbUFnHL++YfctV+JHRF0tyxuh3bhn85dcoB9gtvhn3DKf7jH1vyctFvXDz7oB28r2XFtj42dY6yoC7M5a9ZyBQ4OgiCsNG27QMLaxzbFfx6YLogCFOAHuAa4NpjeL53FIIgvO6qJexTCLN/u1oR9HD1Cf/cDue1VrKyKHDS1DK6Imm+/9iuCVYDkbQ+wZzq1OnlvPzVc+iJZvjMXRuwgZoiLx9ZPom5NWF+8vReRtManzhlMuVBN99fsRvDdOa/fvkfWzm5sYwbzpjKw1t6MUyLyqCbJkmc0GRl5pqZxgd9WRQo9bu46bK5/Nvft/D49n5Uw8zPHi3xufjPC2fm9d91xV5mVgZJZDVKAm6mVwTyq20BAdW0EAUBQRDoimTY2h3Lm4qphsVdazv47uXzJjxPQY/CwvoiHt7SQySlOX0AtuMRkzWSnDqtlIF4lh89ucf5WZeT9x6Iq0iiwDUn1OeHp4MzTB3AsGzHoVFxBos8v2eQC95A6iWW0Xliex9el8RF86oPKyesL/FN8AA6EpoGEhPcRXf1xg8b4Ne1R/jti635r4t9rjc9VarAkXHMArxt24YgCJ8HnsKRSd5h2/bOY3W+dwPRtMb6faPUFHmYW3P0xotdubiW5oEka9tGqCryUuRTaB1K8vf1XQd0s06vCCAIwoTmqssX1fDr51vYk/OKv2xhDR9YWs9AIjfUwoI/rGrjO5fP4283nMSfV7fz1M4BbAReaR3JyxkB5teFufbEev7ySgfjzywIAorozGEVBIFJJT6uWFzLnv5EPh0zknSmQsmiyEhSY1PHKBcv8PJK6zA/eHwPtm3jUiS+e9lcKsNebl6xm5FkP0U+xfk7bZuhhIokOvNpo2kdPddotb49wu2r2hhKqsyvDXPJgv0drcsmlzjBdGxsYW6MYvdoZn/gxymed49mUCQRMzeecXyAX1hXxJM7+/MqqLEJRlu7ogcN8GnN4LYXWumJZrhwXhWPbetj33CKaFrjl882M7MqSFnAzZQyPx9Z3nBM9eNza8N4FYmMbiIK5GfKvh59scyE7/tj2UM8ssCx4pjm4G3bfhx4/Fie491CSjW48d6t+RFmXzpvxiH9xt8sPpfMiVNK2NgxSvNAgmt+v4aTppRimo4KxzTtfHfo7z+6DNu2+d5jO1nTFsHvltnUNUrnSDq/wn54ay9fu3g2O3riZHL5aMt2zLMW1RdRGvDkUxO27YzKG2va6hhJccb08gMGO7klAbcik8jl5xOqzodOqCdrWNi2TXc0QyKjgyBg42jz3bkc9piV8tg5e6JZZlSF+PH7F3DSlBKe2zNAfbGPlGrwwt4hQl6Z9ftGc1YLNoIN8azBPeu78CgSr7SMEPYqnD7dWW3WFnm54+PL+O5ju9jUGaXY56LE70IUBKZXBFhQF2ZbdwyPIuF1SfmV7phNBDiTsn7y1F5GUhrVIQ+NZYH8czDm5W7bNr2xLCnVoMin8NDmHl5scnzvf/VcM7rpeGsOJzVE0dG1h7zOVC1RcCyRjxW1RV5++sGFbOmKMr0ywKyq0GF/59RpZTy4uYeRpEaRT+H0GUfHBK3AG+dtL7IWcGgbSuWDO8CatpEjDvAp1eDOVzuIpjWSqkFGNxnJTSja2x8n4FEoD7oZTmqEvQrnzqrg+js3MJDI0h1J51bTNj5FmpA+sWy49FcvoxsWac3E73aMr2bncthXLK5hb3+cpgEnjZHWTFblrHOX1Bfzt3WdEywS3LJI0CMTyxp5p8eBuMp1f17Pn647gboSH4MJFUEQHL2/DT6XwGjO7GxRfTGPbevDth3zsVnV+3PpVy2t46pc89F/3b/NuX4LsqZJWjUczxzLJuCRcY3Lg481Ho0xoyrEXdcv5+md/dy+qh2fW+IzZzYiSyLfvXweHSMpSvwuntzZzx0vtxP0yPz0A46Xu2Fa/PbFVoZzz/1gUuXSqaUsaSjGtCziWZ1dfTEe3NTDY9v6iGV0aou8TC3z588vCAINpd68L45HlvK7JyDfOHUsqS/xUV/yxvP4ZQE3v/rQYjpG0kzKdR0XeGspBPjjhLpib94VEDioCdXB0AzHnrci5D5AwfHbF1tZmZt8ZFgWZi4aSKKA1yXzntmVvHd+Vd7n5AdP7CGpGgzmZpiOzVBNaOaEQdjAhJtR2Ctw5oxyTplWRttQkp29cT52yuT8YBPLsjlzRjmyJLC3P4kiiUiigJWTfE4t9/PtS+bwy+eaWd8ecfzobdjTl+B3L7bikhw9uiw5jUcI4HXJ/GFVG32xDKc0lnHzFfPZ2BFBMyw6R9IHeLM8tq2XzZ1RohmNwYTjdKkZJorkPGcnTy1hZ2+c4aRGWcDFadMPnis+mFRREvfXU645YRLXvKZWIgrChMYkURDwuiRmVwf5+gPbsWzHa9+07LyVcCSlUexT8vYOyyYX85XzZ/JSyzArtvXSMphkOLcyViSBC+a9cfnkW8mYyqnA20MhwB8nFPtd/PCqBazcO0h12MsFcw/v4BfP6nzl3m10jzpWAGfPruTSBTV5j5KecatQWRT57uWz+eOqdlqGkmiGyYzKAA9u7iGlGaRVk919cTyyhCK9RqGT835RJAFJdBp/xuNRJIIemW89tINndg2gmxaiKPDjqxZw9qwKElmDjkga07LRDJP+WDZfWK0v9iKLIinNdOwNxpmY6abFPeu7uOMTJ7K3P0EkpRFwy+imjUcR6R7N8ODmXp7ZNcjnzmrkmd0DxDMGj27r4/PnTJuQ197ZG8cli/hdMmlVxbKd1a/H5Yzmm1IWYGNHFDHnyhnyyGQ0E9UwKfK9eYnhPes72dIVZX5tER86sZ5vXzqXbz+0g55ohjnVIa47ZTKPbu0lrTlySQFHsjomRZUlgUmlfr5/xTziGZ3yoBtBELhgbhUXzK0ikatFtA+nKAu6qAgeepj2lq4oP3umCdOy+NxZ0w7pgFng3UchwB9HTCnzM6XsjedRX24epieaIZrRGUlqRDf1sLZthNs+vJTyoJtLFlTzy2ebSWsmU8v9LK4v4pIF1fxmZSs28M2HdlAedDMQz2LZjoPlSFKlsSLA7t44qXHNWKIg8PmzpzGjKsT1f5koZQ15JFa1DNM5kmYooSIITj7/Ww9vx71Coj+WxeuSqAp5EEUIeeR8IHOalWT+vHoflg3TygPs7I0jCM5UJ820mFcT4rEvnsZDm3tY0xZhe08UzbBwy2K+eWh16/AEuedrC5fLGop5ca9jj4Dg3PB028Iji1w4ryqf7vG5ZCIpnV8+28yDm3sA+PgpDXzx3DdmLDb2uty1Zsy+IE51kYezZ1bw2BdPJ5rW2NUb5/HtfTywuYee0Qwhr5xzhPSQyOropo1LErn2xEl4FOmg9gJjMtY5NYfPhf/6+eb83/fLZ5s5pbE0ZwNts6c/gVeRmDwuHXQs6YqkWdk0RG2Rh3Nm/XM2xKuah/jDqnY8ssiXz59ZGCP4OhQC/DuYsSLe2DBoSRTI6hY90QzlQTfnzKokktT43Utt9Ixm+Or922keTLAvkkYUnNxzUjVy3aZO52ldsY+fvH8hN/xlPd3RDJphIQgCVy6u5fy5VaxpjUxIJbkkkevPaOT2Ve14FAkbO9esZNMfU5ElAc2wUA2LsFdBMy1KAi7CXoXhpMa8mjBfOHcaP35yL+DkmksDLlKqk4/3u2Xu3djN1SfU8/6ldXxgWT1pzWBvf4JbHt9NImvQl8hQ7FOQRMiNmD1gCPXp08u5Y3U7XaMi6M7NxSOLlAXc7O2Pc+K4xh1RhHs3dufVLn9+pYOPnzwl7xe0fl+E373Ymm9eml/rnCuR1fn+Y7tZ0+bIMyvDbgSEfN1jNKXx7/dsIZJS2TeSpjLooa7YS1Y3ueV983h4S28+Tw+Oh//RYHyriz0u0fbTp5vyRdxPnjaFKxYfW516NK3xlfu25RVVsYzOgrointzRT3nAzZVLag/bD6CbFj9/pilXcIZfv9DCrz60+Jhe9zuZQoB/B7N8aikfO7mBFdv6aB5MEvI6xl3Tx/mL7+iN51eAu/ri9EYzzgi8vEbR6SZ1ySKxjI5t23zjoe2IosikEj+qYbL0/7H33vFxlNf+/3tmm7apy2qW3CvuNmBKMKaH3gIJJQkklxRIvclN4ZdKbm6+aYQkN4V2KQkthE5CNWAwxrj3Klu999X23ZnfH2d2pZVlW26A5efNS2i1uzM7u5bOc55TPmdMHj3hON94fD0ep40JhV4aeyLEk0m+fOZELp1dxubGXpZXdVDkcxFLGmRn2ekMxdPdqiItrHHOtGLKc90yWm5iAVfMHZ2+pobuMGU5WfzvdfN4eXMzr2xpwZ9l53/f2MVvX91BPGkwvcTPr6+Zw9zKPH508XQ+de8KQtEE71d3Mq7Ay82nj6My38OUEj+tvZF0E1lLb4TqdpE/cNg0XA4bhV4H9d1hqjtCtPfFuHXxRGo6QsyrzOOrj61Nf4amaaZLELc39/KT5zfTG5aJUSt2d/LH6+Zx+qRCnl/fxJamXpGICMXoiySYUORLa8u8uLGJ1TVd0sVrGDT2hCnPdTO52M/00hz8LgdVrUHaAhEumV2Gx2lnR0uAiUW+DCmJg+XWsyZaRtHg1sUT0TSNvmgibdxT1zbYwBuGeVivO5j6rnDGzNl1td08vrKOYFSchUA0wedO3/8O1jRhQDk+ieTQQ2sUgjLwR5l40kgPxT6SbG3qJZYw0l7trtY+drUGmFOZmy5JBJgwypeWi9U1cDttECPdMJQaKnL5nHJe2NCETdfoDSco9DvJdTvJ8zoYnefmvrer0TTZNVwyu4zppdlMKfGn2+u/e8FUNjb04HXZ8bpsROMGd722k7d2tmFLaJw0Lo8bF47l9EmFe3lp972zh46+GOW5bjRNdGAmFPmIJZrY3RYkljTQAQNYVdvNZ//vff7xhVO5b1k1QasSJpYwaOqNcPnccpZub+OT97xHLG4wuyKXr5w1kbJcd9oY2HQdn8tGIJpMlzQ29UQ4aVx+utvy+pMr+fuKWgzD4Jzpxbyzq53ajiBPr22gqi1IwjCw6zpJS1Ds9EmFpJpWvEftjwAAIABJREFU7TadynwPN502jotnlaYX2Ld3tpE0RJ44aZq4HRrhWJLbLxKNmIp8D/d+ZgGGYfLWzja+8PAqDBNOHpfP7RdNO+RhHfMq83j4c5kyUB6HTSSRrdDNQLG61TVd/OrlbcQSBl9YNGFYTVjDYWyhl0KfM71LmVDkY01tv4zmnva+fR2axmnX+dKi8dy9dDcuu40vLJpwRK5tpKIM/FFkZ0uAHz23mUAkwTnTivnaOZOOyHn/vqKGx94XHbfFU4r45nlTWF3Tyd/eq8Vu0/jGOZPTHYPXn1SJ32WnuTfCgjF53PnaDna29JHl0Dl7WjF72oNMLPJx9bzRvLy5OV0O6Xc5+NGl0xnlz+KavyynL5pIDwJ5bl0Db25vxaZpzCjP4aJZol0+e5Da4v+7ehYbG3oo8DozYrzdoRhVbUGeWlNPe180HWIC8dASSZOJo3yE41YOwIQkqelTJrWdIW647z2y7DZ0q3TSBIr9LkwTfvT8ZtoCUeJJCVftaQ9y57VzuHrBaJ5e04BNl0lTdl1nmTVIpTg7Kz0CEWQIx42njOG3r+xgc2Mv25oCtPdFKfS5KPI5qe8O47BBkc+Vbli6bE4Zmxt72NHcx8Lx+Vw5tzzDA87zOCnNyaKhO4xuaozO82CaJr97bQc94QRXzC3ncuuYF9Y3pf8tVuzppKU3Sskg3aH2vih/XLKL9r4oH59RwthCL2MLvBkL/L7QdY2fXTaDx1fV4nHaueHkfg32u5dWpb3qP79ZxdlTR2E/AlIKPped31wzhxW7OyjNdTO9NJs1tV1UtQXRNDhz8vDKgi+YUcp500uO6O5ipKIM/FHksZV16YqT17a2cMns0v3KEwQicaIJg0Lf/ifuvLK5JX37je1t/McZ4/n7ilp6wnF6wnF+8OwmXvjK6fizHOi6lrH1vvvGBdR3hdNyuu19Mpj6Px5exeg8Nx19MVoCUara+viPB1fxtbMnEU0aFPictPRGSCRNtrf0oWviTdV0hlhT28Wfb5i/18ARp12nLRDh4eXVlOe5uXXxRKrbQ/z4uc1UdwSJJw3xrA2TPLeDcDzJhTNL0TQxuBV5bqo7QhJblx4fsBK4JhCMJdJdpBqSg1hd00komsCwjL5hTXLa1NDDN8+dwtSSbLrDcS44oYRY0uAX/95GTXuQIr+L59Y1ctW80bid0rBU6HWxpal/Tm7c2gHkeJxU5HvwZ9lx2G3ctngiIAnaWxdPZHdbkCkl/r0M0C1njKfH0tkPx2VItsOms6c9BMhO5sRx+ZTnuinJcbGjRTqH3U4b2e69/1TveXs3q2u6iCUM3ty+kYp8Gd3360/Mzmiy2heVBZ6MaV8p7Hq/Mbfp2hEd85fvdfLxAZLAv7hqFmtruyn0OYddGgwo4z5MlIE/inid/dUPUn6374/73ap2fv3yduJJk8vmlA05dWfJthYeWVFLXWcIh03HaZeh0x6nHY3+YQk9oTgPLa/hVsvwZFyTy55RdfDk6npqO8TA1HaG+ca5k/jvF7emB2o/trKOpGHQGYyRSPan6AxTwjyGaRJPmrT2Rvcy8DUdQf70ZhWmCVVtQXLdTrrDMcJx0ZSJxA0i8SQep52fXzmTR1bU8oclu/jDkl0snlLEeScU8/vXdwHgd9k5oSybLY29xA2T9kAMv9suYRHL8Lf3xXhweTXRhMgPGIaMJrTbdKaVZhOIxDlnWrGEqSx+fsUMPvfgKloDUR5+r4Z739lNSY6b2xZP5NzpxZxQls2mBjHyF8woodDnoicUp6E7TChucN3c0enPc2tTL995cgOGaZLtdnDntXPSn8mmhh5+8e9thGIJbjtrIrNH59IXTfDP1XWs2NOVvp5UYveLiybgcdrpCsa4ct7oIX93+iznoTcSI2HV0bcFojy7roHG7jAuu43Pnjb2gA7DYG6zYvbRhMEXzhi/l5bRkWJXa4BluzoYU+A5KOOuGD7KwB9FbjptHL2RBC29ES6bU77XFnsgj75fl64MeHZdI5+YX5Ex5aknFOeu13dhGKbVEq+zaPIorllQgU3XuOm0cfz4uc1omgiT9Ub2nj40kDe2t/L2jnaaesKYmGiW0Mozaxtp7okQTSRx2W30ReP4XA4KvS7q4yEw0/YUp00nz+NkXKGXScV770xaAxFaLeEth67xl7eqiCSS6JpouXSH4jT3RLhiXjm72vp4YlWdxNs1WLarnXer2tNhikAkgWlKv0BHUBaJ0hzRTk951n6XjYauCIU+F72ROGeNL+CUCQWcOC6f17a28OKGJrIcOt+/cBpzK0VLpTsUJxRL0BWM0xqI4HbYMAyT+97ZzbnTi/n2eVP5/MOr2NPWR67HwS0fm2A1WEnn6J/f3MXC8fkEY0m++uha6rvCZDlkh7G6pis9wOLOV3fQ2B3G7bRxz9LdPHbLKVTke7hh4Vh2tQVp7Y0wtsDLtqZexuR78Gc5hlygDcOkNRAl1+PgUydVsrlxE90hqThqD8QoyXXxzNqG9OfWEYzyP1fO2u/vwmCmlWZz96f3FicMRPolmg+X5p4I3/3nxrQWUjRhHLFYv6IfZeCPInmWGuJwyBmwBc9y6LgcmTHPnW0BmrrDoqTodTKxyM9Xz57E+7s7+dvyaqrag1QWeIgnDPK8Tj4xxGzQ9LlaAtz56g6pSDDMdDneqRMKeHlzixXXhmQ8SXcojoaGy6HjsutkOWwkDJNTxxfw48tOYFV1F8+sbeCSP7zD3Mpc/ufKWZb3bHL7U5to64tKQlfTsNtkGYkaBn2RBJo1W/XZtQ28vEkmUKWkggNGf/gFZEue73XSF0vQE44TiRu09EYp8DpJmiY5bgcLxxewtrabbLeDbLeDz58xnnmVebT2RnhxQxMAkbjBIytqmVuZR21HiI0N3dg0Lb1DCSQT1HaGmD1aui9/9/oOtjaKB7+urps7XthMbWeIQCRBvteJgUYkkeRnL2yhqSdCLCHNSn2RBGOtGbRv72xjTW0XkbiB064ztsCTTsiOLfRy76cX8KW/r6GuK8yf3qyipjPEF4dIHsYSBj94ZhOraqTb98tnTuDjM0uIJZL0RhJE4kkWTx7F0p3tdAZjdIViNPWE+dKi0GFJBYNo6dz/zh4Abl088aAGj4D8zj22sg6v08bNp49jT3swQ+huW1Ngvwa+vitETUeIE8qyD6nx7HhFGfiPCF85axJ/frOK3kicGxaOyWhuCceS/OblHdh1mQtq0zU+feoYvvn4Ov61qYlYQio6KvLdzB+Tzx2Xn5Ae2AHyx7GhvofJxT4mjvLT3BtJ10bbdI0zJhfxxUUTSBomb+1oI5JIphuNTNOkvS9K3DAZW+BNx4g/c+pYlld1cMcLW2gLRNE1qOsKUeR38e3zp1LdEaSuK4xdlyHZ0rnaPzTEmsGBBvRFk4TiBjYd5G/exOOwExhQUpedZef7F07lztd2UtUaxGXXKfC5GFvg4dqTKhlX4CXLqfPDZzbT0B1m0eQi5li18KF4ksbuMNGEQa5HjP+e9iD/+cQ64kmT5p4wOW4HScMgaci1jiv0EksYbGzoFkEyDcIxg2W7Oijyu+iNyESqWxdP5LUtrayv6yYUk12GTYMxhZ50E9ISS8e/pVc6eK+aPzrj37fL2smk2NzYH/cfyPt7OlhZ00FjVwRN0/jNKzu4aFYpNl12UgBnTy/GMOGBd6sBid8/uLyaHwxQtTxYTNPkwXer07uCB5dXH5SBjyUMfvjs5nSJZG8kwdfOnkSuxyEOhAYnjtu3OuXmxh5+8Mwm4klxRn537RwKDjLsdLyiDPxHhOLsrH16+12WWFiBz0We18nUEj+rqrt4fkNjOi6eNERhMRhLZBj3LU09fPb+lYTjSfI8Tv50/TzmVuZRke+mrlNCBudMk+oFm67xnQum8oWHVxOIJJBcm0Z5bla6iuLS2WXpaT6PraylMxiT1zfBiBs8+n4dPeE4nz9dcggxS6myyO9C1zTa+6I4ddGDT+VNHTYtHZ4CSfKlQjlg4nXaWPrtxfjdDn5+5UyaeyPprtWppdkssiqGYgmDMQUeesIx1tZ28eW/r2FOZS6haAKP00YwlqAzGOO0CQWsq+tKv6Y/y2GNENRxO3VyrAXgG0+so7U3JguSIYGppLXgjSnw8vGZJXzypEp+8e9t+N12WgNS75/vdeJ39YcxxuR7eD0hg6+z3XYuHjR3NN8rYa6UkNiCMXkErZGGqYUgEIlz99Ld1HdG0mMQbbrGKL+LxVOK2Nnax2kTC5lXmUdpThavb2tB0zScNp3DjaBrmoYvy5EuqRz43oZDOJ7MqH9vDUTI8zr57TVzWF3TxZgCD9NK992Ru2xXe/rfqjsUZ0N9zwGF+Ha39Uln9Kjje1KUMvDHACXZWcyuyGF9XQ82XePc6SXc/VZVRtITDbxOO9cuqMg49i/WriCRNAlFw9z12g7u+cyJ/PaaObxb1c7f36vlcw+sYmqJn9svms6Csfn88JLpPLm6HrfDxpRiH69ta6UzGEtPbkoh4Zt+TCAaS/DK5hbW1naT67YTiIrBvmRWGadNLOAX/96WrhrpP9DMEDNLxdTtukZxdhbjCr34rVmdO1ukVronJBORGrpDLK/q4JQJBby0uZl3qzroDcdpDUQZle2ioTtMcbaLjmCMmLWo/Oi5zSyaXER7XxSfy27Ff4sJxw1W7O6gKxTDpkFLIMqYAg+xhJO+qAzokDp2SS6fPE4GXpw7fRTv7e4g1+MgnjQp8ru4YID416zRuem+A5uu8351F/PG5NIWiDJplB+nXecb50zikfdrmVDkw6ZrfOqe97DrGt86bwqnTixkybZWukJxCn1OWgNRnHadQr+T0yYW7iXmVZrj5vMfG8+Tq+sp8rm46QDNQ8Phex+fyr1v70HX4EtnHlzteY7bwdnTRvH61lZ0jXSvweDPaV84bDr1XSF0TbOGvO8/3PTwezU8sVLKiK+YW87NR+D9H6sctZF9h8LxNLLvYInFk9y3bA+xpMGnTqzkmr8up6knkjaGP730BC6eXZYRn2zvi3LT/61kS2NvWoWxLCeL2y+cxrnTi/nmE+tZsq0VwxRv8Oxpo7jrk5lt392hGJf/7zI6gjGysxycf0IxJlDgdYp+/NLddARjGcdoYMXbNcYVenHadRZPLeLtne3sbAkQiSVJWOEZh00GZ/eGEyQG/Crqll5MRb6bBWPy8GU5OGdaMfe9s4fq9iA1nUHJH7gdVOR7uOczC3h7RzsPvFtNdyhGe1+MIr8McV4wRiSKRXZBksOFfheYJh3BOEV+JzluJ7MrcvA57Syr6iBpmFR3BMnziKRCImmQFOkcvE47JdkuvC47t50lc1kbu8M0WyGYAq8zoxz2lc3N/GHJrvTPJ4/LZ02t7CCmlPj55rmT+c8n1qe93FAska6aKcnJ4p5PL+CNba389tUdgHRvnntCMVfPqzjs2PoHye62PjxO+36LDQZjGCY33LeC+q4w0USSqSV+Hrz55P0ec81fl6fnFDhsGk99+bTDuu6POh/WyD6FxXPrG9nc2MOCMfmcO/3QBJYeXVnHvzY2A7C2tpuZ5Tn0hOLEdI2y3Cw+eVJlOozS3BPhqbX1vLypmUg8ia6DkYQsm0ZzT4SvPraOPK+Tyjx3Oq6aNEwZqDGIWMLAn+XAbw21fmZdA+W5HgzTZEy+h9MnFfLcusYMKeFUyMiua2Q5dMYUeHhjWxs7WnpJGqQnOem6LCy5biddoUyFSg2po79wZmla8nhVTRceh053OJa+7lA8STCWpCcU5+MzS1ixp4NNDb3oekol0svnPzaeFzc20WqVkabyAF1BmXvb3hfD7bCzo7mPm08fy7PrGzFNkTEuy3GzvKoDwyoJ1TWNWEJe0+208/jKWs6dXkxZrnufQ7NPHlfAP3Lqae6J4M8S+d9UyGF7c4DXtrakjbuJSTRhkFqnU+MTF00uoqqtj7V13cwqz6HQ7+Tv79ewcHwBi6f0hysCkTirqrso8rs+cjK9hzJYO2mKXlKO2wHI7+Dz6xsp8Do5dR+qmKU5WexuC1q3j+wg82MNZeCPMm/taOOepbsBeHdXB4U+Z7pEL0VfNIHXadtvQ8mWAYm3jr4Yp0woYFlVBw50QKO2M8T4Ih+GYfL/PbORll5pVoomjHQ1SjjlIpsmXcEYlXnudOt4oc/Jp08dC8gCsbGhh0mjfBR4nVTme6i15H5T8f2mnghN3WGKc7IsCV+DmDX+LmmYaJqGx2njM6eO5e0d7dR1ykSohCUTbNMlgRuNG9R3h9OllyBesi9LFBbDAxQt+yJxghEIhBPoGui6jobG3IpcJlh6Lb+8enZ6gHdvJE52loNQuqlIw66LAmXSMrBZdhumKdU8559QzKrqLrxOu4iieZ38/lNz+Oz9K1lT242mmTgGNf4Mp6Eox+Pg95+cS3VHkPI8N/9cXZ9OpNptGjPLcnjG1kA8KeWqnz11LOvre8iy69x2lpRK6rqW7o14dUsLv399Z/p3qsgnxjwST/Ltf2xIy0R/5ax9V7tE4kl+++oOtjbJbNUvLZpwWM1DsYTBhvpu8rzO9ByAI4HDpvOJBRVWyMWkL5rkbuvv6cZTxnDNoJAkwO0XTuNv79WQNE1uWDhmr8ePJ5SBP8o0dGVOBmroDqcNfCSe5AfPbGJbc4AxBR7++4qZlqeyNyda2/ruUJxCv5N4wsjQD9nTHmR8kY9IIpkexhFPGhmlhgMxTJMJo3zcf9NJvLe7nQeW1fCHJbto6o7wzLoGgtGExKizHJRku7h6/mjGFnh4c3sbK6ulW7QkJwu7rlOW68btsGG3aRT6XKyq6cSua0ws9nHG5CKeW9eYLonTgCy7TtwywjGzPxGb8tpdDp3ReR6umjeasYUeVuzpTH9euR4nE0d56QjGWTg+n9MmFnLVvNEZxinVmJPrcbJ0RxtPr2kgnjTSHZqzK3I4Z1qxTGZy2ogmRCf9sjll3PLwKrKcOr294gn/+LnN3H3jfB5eUcO/NjbTFxUBsVyPg1y3k1vO2LshbShkwIckEk8el8+K3R2YSHfr3DF5/M+Vs3hvdwcTinycPmn/eu31XZk5jKaeCDPKc6jpCGXMAHi3qmOfBv7FDU0st2QaXtrUzKzROekRhQdL0nIqtjYF0DS47RDKKPfHjQvHcMEJJTT1hLn96U3p+9fWdg1p4EdlZ/HN86Ycsdc/llEG/ijzsUmFPL++kb5ogjyvM2MS/Zvb29jWLO3oNR0hXt7UzDUn7v0LC3D+CcXc985u3E4bGhqtAZHiTSRNst32tDyux2kXA7Kn02peGlidIhORTFM8o4o8D16njefWNaVDBH9dWoXLrtPeF6PXCtn0OGw094TZ2tTDq1taJcSQMKjrClORJ9og37lgCm9ub+PVrS1WbTqU53oo8Dopy8tCqxZD4LTrFPmz6OiLEor3e+cmYgRvPm0sN502Dpuu8dKmZu58dScJQ5pgtjcH2NMeRNc0SnOzuHROGQ1dYd6v7sQwTaaXZtZI/3N1PQ+8W017X5RwLEmhTx777KljOWPyKKaVZrOztY8FY/LS4YMzp4zivnf2EIhI5c3mxgAvbmrmirmj2dnSR1NPmFnlOcwfm8fcyrx0CAWkk3VVdSeTi/2cPODfeSBNPWF+8OzmdMdqW0DyF1NK/MPWNT9zyij+vamZcCxJkd/FiWPFYSixdlOpf8uhms9SxAapMMYPQ5WxoSvMVmsgu2lKWeiRNPAgCVmfy54hVnYkB9OPVJSBP8pU5Hv48w3zqO4IMb7Im6Eq6XFmDnLIcu492AFgW3MvdZ1hbJqW9vDjSYO7rp3L7vY+ZpTnZLSjf//Caby/p4Nfv7KddXU9JE0Tr0Pa1rc0BtjS1EO+15WW47Wq0glEJDbcHggRSZgkDJNgNEGRH2o6Q7y7q0Mkha3XsVvx4tqOINN++BKGIR64rkFlvoctjb28taON9bU9uB02S5ZApj/FEgZ9A8IvNl3jktllfGuANso/VtfL6+g67+7qYFppNu/sagcTzpk+ijtf3UkknqSpJ8zoPA9Ffhd3XjuHYDTBc+saWbarHcOU2uneSJx4UpQhT58onurcyryMcNmz6xp4eXMz2Vl2koaT7CzRx7n37d3c+doOnDYdu67x16W7qdjkZkKRjzuvnUOWw0Z1e5DvP70xrU75vQuncuqEvT3xPe3BtHEHicEPp5IERId+fV03syty+csN86ntDDGhyEvSMKnrDDE6z80vrprJq1taKMnJ4sIZpfs810WzSnl/Tye7WvuYPyYv/ZkcCvk+Z8bCcjBzWw8Gt9PGL6+ezRvbWinwOTnrCA2lP5LUdAT596ZmCn0uLp9TdkRE2g4HZeA/AHI9TuYM0X13+sRCtlhe3/SyHD4+xB/6w8ureWJVvcgJWLFfXZPZoJUFniGrKHRdY1tzgGjCpDLfjaZp/P3zJ1OS4+bN7a385hWpxmjpjfDXpbulQzSaoKMvRoHXSTRpWlOPNOKGybzKXCYX+3ljW1vG62iahl3XeGN7G/GEiYFJMmaAptERjDG52E9XMIaua5Tlusm1ZoxOLvazsaGbjqBGzDKI2Vl2Th+UNCvySZljTzhOQ1eI7S0BynLcOO06W5sCOGy6NbBEYsDdoTjv7+7kkfdFeK07JJIG0bhBNG5Q6LOxpz1Idzi+V+y8pTfCfe/skWElmOR5nWhoJKJS0dIbTtARjuF22tKqmhsbetjS2Mu8MXnsbO1LG3eQzsyhDPy0kux0g4+uwcnj8/d6zlCsr+vmjhe2YJqStP/Z5TOYU5HLyupO/udfW4knTU6bWMh3LpgypI7RYLKzRCsnnjQOOGTjQPhcdn52xQxeWN9Evs/JNQv23UV9uBT5Xfvc5X7Y9EUTfO+pjWmBwZ5w/ID69omkwYsbm+gNx7lgRilF/iPbwPXhLi/HObqu8cVFE7j3MyfyzXMnD/mH9rKlHJnSivnpZSfwx+vmZVRODEWdFfv3uhwiWmUNcz55XAHji6RLMxRLku12pGVyxxV6yXY7ME2wa6J0WOh18ZPLZnDV/NFMLvahaaTj5QWe/j9mXZPtuWGCw0q0XjijhNMmFqZ3HYU+F3/41Dx+9YnZjCkQadt8r5PRuW7+fP18LpldlvEebr9oGrNH5xCKJSjwuognDdr6JL9QmS/t/k67bjUEyc4hz+ugxwot5XqklBNNkpltgSjdoTg7LZXGgcSTRrq7VxK3eTxz62mcMqEgLQ/htOu4HTZsukZPWJqmHlpeDcCM8uy0iJmuwfwxQ3dm5nmd3HntHL5y1kR+efXsjJDd/tjZ2pe+PtPs7wd4ak19uiJn2a526gflfA7E4Rr3FBOKfHztnEncuHBMRqPd8URrbyRjXnFV24H17e9+ezf3vr2HJ1bV872nNmTs7o4EyoP/iFOR76anQQxWWW7WXhU4++LsaaNYVd2Z7uZLVTa4nTZ+/YnZbGvq5fZnNqWNRnmuO/3LWZojnau6BqdMEAOU5bDx7G0yF3VnS4DL55UzaZQfwzBZXdvNit0dOOx6Ok5q03ViSYNR2Vn88bq57GrtswY+iIfyg4un89DyGjRNYuJDlbNV5Hv45nlTWF/fA0jDlwmcNC6fL505gZbeCHWdIXrCIuh28rh8Thybz4zyHDY1yDEVeW5aeqO0BqKYpiwI44r2nj8qSd1ynl7bQJ7XyadPkeqLLy2ayK9e2U5vOM63z5/C4ilFfPz3b9MbTpDttlPVJvX4pTlu7rx2Dhvqupk4yrdfdcRCn+ugY9Tzx+TxqFXL77LrzLMWkAJvv8fnsGlHfLCMYviMzvMwvsibLtE84wDJcpCdXoqW3ijdoVh6CtmRQDU6fcTpDsV45P1a4gmTT55UsZck7/6o6wzRGohyQln2kIObl+1q55+r6yn0u/jiGeNZWdNFbzjO6ZMKWbarA9M0uXhWWYa87r6IJQwCkTj/9eQGWgPSIfrLq2cdkXjsk6vr+dt7NWS7HfzgomkHlJaNJQzW13eT6xZv/hf/3kZHMMa0Uj/fuWAqYwr2PWA61XG6P37zyvZ0bf7sihx+dvnMg39Th0B9V4itTQGmlfoZnSefa28kzj1Ld9PeF+Pq+eXMHzO8kI/i6BCOJVld00WBz7lf+YUUj6yo5dH3ZUD7pFE+fv2J2Qddrrq/Ridl4BVHlGA0QXVHkNG5ngy548PlcOaDhmNJoonkEVMhTBomS7a1kkganDVt1HEbklAcGd7f00lvOM5pEwuH5UwNRnWyKj4wvC77USlfO5wmnNSEpiOF6AEdWkeyQjGYk8YdvV2XSrIqFArFCEUZeIVCoRihKAOvUCgUIxRl4BUKhWKEogy8QqFQjFCUgVcoFIoRijLwCoVCMUJRBl6hUChGKMrAKxQKxQhl5HSyNm+CVfeB3Q2nfgVsTujaA30tsOkp+dlfCrEAjFsE0y6W47qqoasGSmeDOxcivbDjZWhcC+XzoHw+tG6F0lmQMxpiIbBnyUBRhUKh+AgzMgy8kYSXvgvhLtB0aN8JjWsg0m1Nm86GeBiScdBssOYhKJsPkR7o2AlGAuwuKJgAHbvBiEN2Gax9WM7vKxUN2Nwx0LgO7E64+E6YdG7mdcQjoNvAphT9FArFh8/IEBt75y544w4wDDANBo6pS6PZwEzuff9gbA4x+Oj9Xrpp/c9IygJid4KnAL66HmzWGrnuEXj/bvHuz/4RjDnl4N+HQqFQHCT7Exs79uMMLZthw+NihM0kQxp3NNCGKVal2eT5pmEtCpp49IZ17tQiEesTD7+vTcI27/1Zwjvhbljxl+G9VuceqF8NCZkxSaBZFoqqJcM7XqFQKPbDsR+iMU3xqm0OMcRDUThF4vEkhn4cQLdLjD7SA+48idl31/Q/bnOI0TcSkExIrH/1A7D9X3DRndBdB8kIoEH2vmdhptn5Grzx33LO0llw1g/hkWshGgCnTxaO2dcexAehUCgUmRzy37pYAAAgAElEQVT7HnzJDDGEuRXgHEJgX7NBIgLJ2KD77WS8fVcOTDwXblsFV/wVehoyn28mweEB7yhwesXrjvRA6xZ4/ceyQ9BsEsvPHXvg6972ghVOApo2wPNfg/btEGiUxHDjmoP4EBQKhWJvjn0PHqRq5tSvyO17z4P690mHaswkBJrEAKeHbtpg0vmw48X+c4Q7YPX9sOYBKF+wd7zeBEZNg0QUwp0STgk0yQNbnu2Pz+dUQsVJe1+jYcCmJyUBPPFsyK2USh2QhaO7RnYRRkLCP+VDhtQUCoVi2IwMA99dC8v+AC2boGWjVLIYqXCMXUIqWN6ybgeHG6qXDn0u05AFImVsBxKPQKhdQjiaXWLvsV5IhK0Qjgl5Y2DWtRJiadkIBZNkd7H5KVj+v3Keqtfhsj/JTqCvFU64At79gzwWDUjIZtYn5OdgB/TUQcFEcPmO5KemUChGOMe+ge+ogseuk1r2RIy0IU+TAAYkWI0ERPsYOhk7EA0cXimv1DSplunaDdmjwZUt3vzW561FwMoDON0warqEWJ6+RZKuNidc9FvY8AT0Nsji4vDIc07+Qv/LXfhL2PikLBQzrpb72nfB81+FWFDyA1f8RWr1FQqFYhgc+wa+drlUriTCgx7QwJYFyTB7G/NhlIYaCfHibQ4pl0xExWvX7dC8ETp3y3ncBZCMgtMjRrjiJKhfKcYdIB6Cf31LwjmRXgh1iIHf/SaMXwR7lsLbv5Hznvk9GD0gNLPzZTHuIMfXrYDJ5w/vc9n5Krz2I9AdcOGvoeLE4R2nUChGDMd+krVwisSsB6NpVhz9EGdxappUs+g28eSdXvHGE2FJpNqzxGvXNAmfTL8CAi3w7Jdh1f/JY0ZcSiHbtkGwVZ6r2yVRW7VEQjyv/UQqcAJN8NYvM68hZ3Tm9WSXD+/aDQOevVUWofbt8MyXDu0zUCgUxzTHvgdfcSJ4Cocw8qmk6jCamzLQAathKtQuBh5TzjfzSiiZCWsfATMhXn7BRDjjW+KlhzvkFHXvyX2rHhAjbxpWlQ1g90os3ZMvRr19hzxH0yFrUPhl2qUSTmrbCmPPkIqh4WAkrTCURbjzID8DhUIxEjj2DXzrVsu4a2SEXswkB2/c6a+nT9XXm4YsIJouHnHdCuipl0ocTYPuavHao32SA9A0cPgkOZqVLUbfNCRuv+BzUq6ZjMK8z0Dd++Atkng8QOWg7ldNg7nXH/x7sDug4mSoXyGfy4SzD/4cCoXimOfYN/CxkCUf4JJ69xTDlSYYTDIONpuEOWwO+TnYJo8F2yVJmoj0V9hEugedQAdPLkw8B2qWQXaFLECzPwln/lfmU3vq5bs7V8JBw42vD4drH5byTZsTpl925M6rUCiOGY59A182F6ZeKC3+aTTAio+b++leHQq7C+ZcJ8Y5mRAj37kLkgZoMfHAB5dPZqCLAuX4RbCyTLz03Ao4eUAcPB6RkE7tcuhrFuNumuLNHylcvkPz/hUKxYjh2E+y6jpccpeoP+p20qEaMy4evH6Qa5jdBVueky5VRxYEW6w6+qQlVTC4DHMwJsz6pCwQvY2SKDVN2PSP/qdULZFKnHhIzmlzyM6gbfv+T91dJ81RyX1IMigUCsUADmj9NE2zAV81TfPOD+B6Dh3T7BcE67/z4M6hO8ToJmOgOyU2vpfapiEhId0uYaCcMgj3SIOSzSmyCRPPsbppB557wEft9FjffVLiqelSpVM6a9/XVvUGvP5TS7tmtsgV64dYIaRQKI4LDmjgTdNMapr2KeCja+Cr3oBAK0Ma9P2GUyw0uxhym0PCJwCGpV2TjuUPSOI6fVLvfu3fxcvvaRBtGZtT6tv/cpo0RJXOhj1vyy5jYInjuEUw8xNQ8y6MOQ3GngYVC2UXsi+2Pj9Au2a9lF8WTjzwe1MoFMctw41fLNM07Y/A40Awdadpmh++IlYsCC99j0OqmEmRitPHY2KMDZN+LRsD0KR2PWkZ/9xKqXhxZMnPOeXSlbrs96I1010j6pV2t+wINE06Wz/zApTNkZ9PvU2+hkvOaGhYLbcdHvAWHPr7VSgUxwXDNfBzrO8/HXCfCZx1ZC/nEEhExQjrNsCZqTtzsGhIDD4e7h/ykTL0oQ4Yc6oY8ykXwtSL9z5et4tBT0RkR5C0yi3tTrm94QkonCThGJBRgusfkx1CSib4rNslSTuYhV+W5qqgpV3jzju096hQKI4bhmXgTdNcfLQv5JDx5MOJn4N3/yjefM5oaF5/aOcyDUDv99ozHktI4rRggnzpl+59/NzrYcszIn6mWfHxlIqlkYCtz4m88CV3yWLw7u/lsfadYvSzy2Dpb+BTj+x9bkcWnPLlQ3tfIK+z/lGZXTvmFJh2yaGfS6FQHBMMy8BrmlYM/BwoM03z45qmTQdOMU3zvqN6dcNl7Mdg5ysyQLtt22GcSBNDaybEcU/EyAj9mIZ48h1VUiGz7A+iDOnKluTqSf8Bc28UbzwWlN3AxHNhx0uiCBlqF0O79TmYetGgBK51O9YH//y87CIWflni84Y1aMTuPPS3tv3fsOKvcrtmGfjLYPQQOwWFQjFiGG6Z5APAy0AqC7gD+PrRuKBD4p07pQmpt1G6RA8JDTRTqlpMrHLIwXF9a6jHxHPgua/CqvugYwc0rZPpTq3bJHwy+kSpaZ98AZzzY9KyCUYSIl3SGZs/Xp4LErbJrZTdiG4Xj76nHl7/iQz5fvgyuP88WHX/Ib43RMlyfz8rFIoRx3Bj8IWmaT6hadr3AEzTTGiadhhZzSON5f0aQ1ySwydGPyXru79zmGb/2D171t6hfE8+nP4N0Yh59Uf9nbKpGLqZlAajS3/ff4yRhFhAIj5GUoZ1z7S03k//Oiz8klTfpGbGPn6D7BJA4vYr/tqvTLn6QZh6CfgOoSFq0nmyc4j0iurl2NMP/hwKheKYYrgGPqhpWgGWhdQ0bSHQc9Su6mAwDEl4/us7Q3vvqZp13QGJ0DBPag4hP4wsEuseEU86GrBCLLokeCcshuIT9j4m0gPeQtJllnnjJAlrs4Z3hDrhjZ+Jds28T8PCW8VzT0TF+NetyHwvtkNsPs4bA9c8LKGi/PH9iV6FQjFiGa61+CbwHDBB07RlQBHwiaN2VcPFMOCV/w+2vwCRTvYSHEMXo69plqLjIerTpEiEoa8JQl2WTrxdjPqCm2HejUMf486DsnmiEd9dI1On7jsXbnwa/CUyyal5kzx36a/g+n/AZ18Ub9/ulHLMJT+DcBcsuOnwqmfcuWpgiEJxHDFcA78ZWARMQazodj4KMgfdNZIwTNv0QSGY3AoxjNFeZEJTlhjlWLC/aehAaDY5VtMsGV7r2GRcPPdxH9u3cQc57qLfwHNfk+s14lIj/+oP4cq7M3cKpiGeu27r71LNrYAr/7r3eXvqJXHqKYDpl0v9vkKhUAxguFZhuWmaCdM0N5umuck0zTiw/Ghe2LBw50qlSpalxphR2qjJ4OqoFb/GBE8RzP6UNCDthY0hPw4zKVU1mi7n1HXrtkXJfuQFUthde09Uigbk+4mfF1lhEMXJaEAamvaneRMLwXNfgbV/g2V3wcp7DnwNCoXiuGO/HrymaSVAOeDWNG0u/RY0G/Ac4Nj7gYuBVtM0hzmp4iBx58H5P5e4uKaLJky68sWE7f8iI2wT7oT1j0M8mHkezSZG2OGRUsbMB+V4u1vCPYmYJGBtdnn+xHOGd63zPwubn5YJS06/DOYGCfHc+Kzo32z8BzxtzWkdfyac+5P+42Mh0aPPGd1fz+70QlYOtGwe3jUoFIrjigOFaM4HPguMBn5Dv4EPAN8/wLEPAH8EHjr0yxsGoxfAe3+G9m3sVfaSiJIRtrG5htBvR7z0eFiMuN0tRjPUnlmVE+3t994TEfBWwMe+MfyYtm6TuHvDGlmYogF46gsSNsoeLYtP/cr+5+9+U0JJTq+Ubj57q4RlzCQk4rIg9AUk5DT2Y8P8sBQKxfHEfg28aZoPAg9qmnaVaZr/PJgTm6a5VNO0sYdxbcMj0NKv0aLpmUlUXc8MdSTC+469a5oIjGlIqaO3SDz2njqZyYopFS92y9vPGS1e+cFgc0DlybILeOgykTUIdUpzU26l1KZ7CmSH4BvVH0qqebd/OEi4W95DjjVIZObVMOvDz3crFIqPHsNNso7WNC0b8dzvAeYB3zVN85XDvQBN024BbgGorKw8+BM43FKGGOuDZDdSz24Z8cFKkomYlEsaQ+jVmIYkUP3F0n069SJJoL72Y1GrjAUlYYsudeQ2O7z9W5EeGHu6GPu+VqlV14B5n913vboRF+Oeup1alPwlkjfwl8rQkVTiNLu0/1hXtrxH3Qb54w5+kVEoFMcNwzXwN5umeZemaecDBcCNwMPAYRt40zTvBu4GWLBgwUEKuCMJynPvgDUPiWxAX+s+nqghRj31fQh0m4RwyuZJ6KV5E5z0Beiuh12vSgdqPCieffkCGYkH0nlaNBXevwc6dsl9LVvFwLfvFHng7DJZRKZdImGXipNh4xMS//eVyDH5E+D8/5bHe5tEndLpFWN/xrdFkthfCiffIo8XTJBwkkKhUAzBcA18KvZ+IfCQaZqbNU3T9nfAB8qYU+TrseslsbrXkA5Id6ruszzSSqYmYjJOz5ElxnT2J2HuDbJ4JOPgzhcpAr9llE1TBoO8+C2Z3eobJaGixtVS3QMiKubJl6Rs3QpY/H2ofluMs9MnCdXpl0ny9NFPyoJQvxICzXJ8T73Uw7dtl0WnfiWcchuUzhnifSgUCoUwXAO/WtO0V4BxwPc0TfNzyJq8R5ET/wO2v8RBXZpmk0SlaUi4RLNZQ7VjEg5ZeZ/EySM9gAnRbtjZBY1rJFaejPU3U2m6dKQmwrIbSEkTpGP/ptSut++SihhNA1u3hH+aN0gCFqTaJhHt7zbt2CnyBUZSjH3nLnj9x9C+A077aub7MZJq0pNCoQCGXwf/OeC7wImmaYYAJ3DT/g7QNO1RpFZ+iqZp9Zqmfe6wrnQ4vPULa68x3M2F5bUbCYmD292Zo/WMhCQ+o71WPbwlTZCMyRSnWBBOuBJ8xbIAOH1WfD0o8fxwlzyncKp47y1bINAI1W9ZSpXIrmD8mZkVO7pdBMhSTDhbpAbMpGjlpBalgVU30QA8/SW45yzZTaTOr1AojluG68GnlKlmDTcyY5rmpw7pig6VWFB02FOe8nAxsey8IZ677pAwS/F0Mdj1KyX0Yiblubqtf+h1sE0ULIMdEO2Rxxw+qxHKlB3AOT+ByefBkjtEpiCNAd5iGSAy8Ww5Z/0q8dZLZ8tj/jKYeZUMGolHpJpn9f2kVS3L5vafbvMzkvAFueZdr8HUC4d+z4mYDO/2FkocX6FQjEiGa+C/PeB2FnASsJqPwkSnFEt+JvXhA2PsB9SeGTiWz/rZTIoXfvUDMoGpdrnEyjWbTHLa/E8pVQTxynsbpKJGt/WrUeoOOUfBBJh4lpRHli+QkE6qekbTJS5/2f+Cyy/3XXWPGN/HPiUywfGwxPeLpspzJyyWnwPNMOl8mD5g6IhtkFa8zTH0W04m4IVvyGKj6XDm92QBUigUI47hTnTKGP+jaVoF8LujckWHSvsOEedKlUHaHIAJyf159HZwOMWQDjT2fa3w+9liAO1uOd/H/lO89JwKCack49KwNOk8qcNPTW3SdLnP5QdbFmz6J8y5XrThZ30S1j7cX+JYNle+DyTWJ9r20V4INEFfMzzzZbj4Tnjhm1Y5aEy89U3/gJNugfGL4ITLoWUjNG8U+YS+Ntj1uuwOBpISPEu91x3/VgZeoRihHKL2LPXAtCN5IYfNhLOhq0Y8cF0Xj7tgCnRXS2J0SBIQH1QrnzL0wTaJc9tdIvHryJKSTE2H3DESZz/nR1L9Uvse7H5DXlvTpNLF4RZD3rBSyiunXACX3Cn19avuk13B6d+QhWLNQ5I8nXqxTFkac6rIFgC4csTQN6wW4w7ixSfj8vOSO6Sqx+mB834moaonPgN7lvY/d851/W/PWyihp9S5csccgQ9foVB8FBnuyL4/0O8G68gQ7jVH66IOiVO+LB70kjvEwzXC0LIuM2m6l5zw/tD7PXW7S+QAssvFgG59VuQFUjHwc38KD10ioRMjKWGbvLH91SyBpv7TTjpHvlK8f4+IhgFUvwPXPCSG2umFLc/JQuHyixEfNV0891hIFpPeBhngMbChq7tOFqcUDaszDXxWjqhbbn5a6vTnfnqYn4dCoTjWGK4Hv2rA7QTwqGmay47C9RweNcv2rnNPGz/d8lx79zpsb6wkqW7JEsy4WmR7ATr3QG+zJFaf/7o0Jr34n/0ywphS/+7Jl8XAnQeTzpWqm1CHGOmBQzu6a/tvJ2PicWeXwuLbpc69t0GO9xfDJb+TUsoXvymhFtPoF0kbeL7OPVK66SmU2P9gRk2FUd8bxuegUCiOZYYbg3/waF/IEaG7bh9NTohxT0aGd56UHrvfkgjY+hyMmiaVLKvuk2obV7bE6pf8TOLlqaEiiRhgwlX3Q7hDYvaNa+D1n4p3Xz4fLvxVv3c/9SLRmjESUho5yop8aRpMuzjzuuwuaega+zGosUuYKHdM/4IRD8OrPxDjbhpWzmD0QX2ECoVi5HAgueCN7CemYZrmMMTQPyA2P23F4Ad68NY4PU2TWvWuquGdy7CqcXrqxPB2VUuHaVauNC0lE6I2ac+CHS/3DwMBS+6gRx7PrYBt/4L1j8gxmiYhk67q/vLEyoVwzYMimlZ8ghhxkOYqkJ3AYM7+ITx6rSwgwVZY87AMHUnGJXyjWWWUml3eg0KhOC45kAd/JVAMDLYSFUDzUbmiQyEegeV/sjpI7ZII9ZWA0y1VNb0N4HANf4oTmuwE0oM9TPHa+1qkHNFmF4OdTPQP0zZNeS2bXa6huw5e/THUvyfXZ3NCwURJhg422jmjMz3tjU/C8j/KdZx6G8y4KvP5ZhKifaJ4CbDjJTHwWdmiU/Pm/wMMyB8rsgcKheK45ECdrHcCPaZp1gz8QgZu33n0L2+YrH1Y4tuYMn0J+uvAg23SBXrSLYMSrgcg1fyUcZ9m1clbT9A0qwvW7B8aYs+S8M2SO6DmbWu0nyWFUDQZLvjFgeeqrry3Xzfn/Xv3ftzpkx1JioHNSqd+BW5bCTc8DTc8JY1UCoXiuORAFq/YNM2Ng+80TXPjB6L1PlxCnVJpkjdOQhLJqOi1gDXpqUtkDErnStniAbHaWzVrwIcRl599JRL3tntEMz7QDLG49XxDkqKTz5fad3lxq3TSZnnXX4aiKQd++axcqzafoRcD3QYX/xY2PC7Gfu6gmbDZpZkSwwqF4rjkQAZ+f+OKhhps+uEw4yqoeQfRlRnUuWoaIhzW12pVteTL9KQDYZrgzZcGpca1Ep6JBSTckmqMslmNVan69/xxInOQIrtc6s3DnRLO+ftVMq6vfB5cete+pX7PuwPe/YPcPvWrQz8nZ7Q0XykUCsU+OFCIZpWmaf8x+E5N0z6PSBV8NMgbA6NOsKQJhsgJp7pMIz3WyL596OloA1QYbQ7ZFRRMktr0CWdbYmSWSmSkVwZ9eItEI8ZdACd/URabaRdbDUSmVLIYcYh0yev3NcHOl+DJm8XoD0XhJLj092LckzFZVBQKheIgOZAH/3XgaU3TrqffoC9A1CSvOJoXdlBs/7doxpiWVK5hGfmsPHDnSNVKhu7MEAbe7oEsP5iaeOouv3jom56UrtLeemuod0pT3hTDPe8zEq4ZezqUWLPFz/i2aLc/fmP/yEDTtK7BWkR6GyU/sK9QypqHJP4eaJQYfvl8uOi3Ug+vUCgUw+BAM1lbgFM1TVsMWNaLF03TXHLUr+xgMA3xzFOermaT2HlKskC3Ww1PpjVPtQI6q/sTsiBhnHCXeOn+YonnhzrksY5d4kmnnq/pcr66FWKoL7lLZqque1QmQbmyRQfG6bGSvYZVfZMli4InD/LHi2zAvtj0lMT7U5ICPXWw4TGoWCjhovGL1DQnhUKxX4bb6PQG8MZRvpZDJxYSbzgW7L/PRGrRQ+3999mcUDwLFn5Rqly6ashIqBoJ6XR1+mD8YvHeU+EdM60rbC0aNrk/3CVljR27RJIgGYVIQIx3qF3CR7njpN69boWIh41fDAu/tG/FR5AYe0+D3NYd8tqt28TwgyRYr7pPNHIUCoViCA5VbOyjRd17MgHpgFjDOpw+CcG4fFLGaCSt5KwVxkmEJWF6yV1itJdZEgGGAbpTQkGJiHxFekRPRh9g9HWbLCapKUy6Q7phk7H+6z3r9sxLC3XKTiMrW34+58cyTapuhRxXMlOGeqToqZevwonyc/1q2P6i7E7m3pgph6BQKI5LRoYVcOfvXT0zFMmIaLXUrZBSxNyx0FklqebEgPp5e5bMQPUWAHOgdatMY4qHJBxkghyUiq8nRaIgpcluaBLySTVMtW+XxcGTL/XriZhVO2/lAtY8LLXvug0WfUdKLb2FcOZ3Mq9/5X2y0JhGZilkbxO89N3+BQRgwX4HbsHuN2Hpr2VRWXw7VJx44M9PoVAcUwx3ZN9Hm0Bzf4s/ZFbDDCbS1d8lmj/W0nDXxOO1OaFwClz+F8u4W3Tsssbxmf0yBgMVHDRd4uveIsguk4lM5/1cjHSwTXIDmiZJ2nCn5AZe/aFU4iRi8P7dch4jKYZ+X3gKZJGJBqBoev/M1t7GTOPeXSMzX1/4pgiite/MPI9pSrdrNCAhpqW/2s+Hq1AojlVGhgffvC4zRLPfKU6IMax+Wwywpot3rdnkZ90mTVEunxjiqiUS905YjUepDlZNFxXHrDwongbTLrFkfzUpbyycKDuEvjYJ5SSjknx1+iRnsGepHN9lGWPdBjmV+0+cbnqy//Gad2SByMqW8YIFE6CjSjzyyR+HV3/Ur1T5yg/guscO8cNVKBTHKiPDwAc7LBmBg5jFiikGMhknHWqJhSFaI+d67jYJ13RUZXrHaGJES+dIV2rTetlBBNvhpn+LsX7+a+Id9zZYC49VHunwZO4uWjZKIjW7TI53+SVcYiRFfqGrWqZDjTlVnu8rEY0bEEOfkgl2uGX0X8tm8JdIgnbJHf2vk6oGSr8FDc78rnjuul3KOhUKxYhjZBh4f4lI9iYGNwRpgA5aqnZ9EMlBidnwAEMY6ZawTzKRuSPQbJb0cFTms9qyxPPf8gycchtsfV6Me0oQzG6VRtqd/aqTZlLCLZMvkLi6wyNllid+TpK7a/8Gq/5PXm/PUrj6fhkgsvj78N6fpVpo3qczE6kON4weoP0+/7NWKApYcPPe7338IvlSKBQjlpFh4C/9PTx2vXjMA0l1nR6UZ29hWgqS2oCPSLNBls8y1HHxzhNRSISgeIYY3LQImFWH7y+X8E64W5LBuh0KJ8Olf5AFJNoHte/KHNXpl8uhjetlJ2BYC0Fvkxh4T/7e1Tf7YubVUo5pGjK5SaFQHHeMDANfNle80U1P9ydB7R5LJGwfcgAHQtOkvDErW3YHNpecz+mVUEm4Sx53ZMn3ylPkuJmfkNLJ9h0w40pJcDqyoGZ5v5qlEe+vXz/ly/I1kL7m/sasaK9o2hwKAxPFCoXiuGNkGHiA+TfD7rfE687KgTk3wKr7pdV/ODrwrhwxvIY1Bq90lnjdug0KF4v3bBgw+5My8q5qCSz9DelqmvFnynebXRqpBrPqflj9oJz7xL3kfTLxFkmoJhmX0EuqWkahUCgOAs08lPDFUWLBggXmqlWrDvzEfdGwWpKeZfOgbI4kLp+6Re5358Ki78rzapZJSKVjlyRIp10qVSijpklZo8MtqpDhbomnp+axDqZ9l5yrcFJ/InR/RHqlFPNA3acdVVJGGe6C+TfBrE8c3OegUCiOGzRNW22a5hDDl0eagVcoFIrjjP0Z+JHR6KRQKBSKvVAGXqFQKEYoysArFArFCEUZeIVCoRihKAOvUCgUIxRl4BUKhWKEogy8QqFQjFCUgVcoFIoRijLwCoVCMUIZ8Qb+o9Spq1AoFB8kI0dsbBAtwRa+9/b32NG1gwp/Bb9c9Esq/PvQlPmAeKP2DZ6tepa8rDxunXMrhe7CD/V6FArFyGbEevCPb3+cTR2biCaj7Orexa9WfrhzRzvCHdy94W6agk1s6djCQ5sf+lCvR6FQjHxGrIGHzPBMOD1TFQzTYGPbRqq6qz6wa4klYxj0yxaHEqEP7LUVCsXxyYgN0Vw37TqWNS6jqruKbGc2Ns3G9S9ez8KyhYTjYVa3rgbg+mnXc+mES4/69ZT6Srlg7AW8VP0SPoePa6Zcc9RfU6FQHN+MWAOvoeF3+BmXM47uSDeNfY24HW7eqn+LUCyEgYFNs/Fm3ZtcMPYCbJoNm2478IkPg5tm3MS1U67FZXMd9ddSKBSKY97AG6bBY9seY23rWir9ldw882a8Di/bO7cTiAcIJ8L0xHrojfVSmV2JhkZ3rJt4Mg6A0+bk0//+NC6bi2/M/wZzRs05qtfrcXiO6vkVCoUixTFv4F+peYVHtj1CS7AFgDWta/jWgm/x1K6nqOmtIZKIYJgGmqbREmzhovEXEU/G6Y31oqHRFmqj3F9OJBnhb1v/dtQNvEKhUHxQHPMGvi3URke4g3gyjonJ9s7t/NfS/6I11ErSTJI0k9g0Gw7dgU238dV5X6U+UE9ruBXDNOiL9QEQSUSoD9TzRu0bLK5c/CG/K4VCoTh8jnkDH4gFiCVjJEkC0BfvI5KMYNNs6NZ/mqZhYuKxezBNk5+c9hOW1i8lPysfp+7kgU0PsK53HW6bm9+t+R1xI855Y8/7kN+ZQqFQHB7HfJlkdU81Wfb+IdYmJnEjno6xl3pL8dq9JI0kMSPGj9/9MX6Hn8snXs4Zo89gYdlCZo6aSdJI0hfvoynYxPq29R/W21EoFIojxjFv4BuDjcSSsb3u13WdIk8ReVl5ANh1Oz3RHqp6qmgONmc8N5aIpataTNOkzFt29C9coVAojsAh0FUAABl7SURBVDLHvIH3OX2U+crIsokXr1n/+Rw+sl3ZNPQ14NAdAOLFJ2IZTU/BeJDqQDWmaeKyuZiWP41LJl7yobwXhUKhOJIc8wb+uqnX4XP4KPYUU+Yto9hTzLiccZR4SwAodBdS6ivF7/TjtDlx2Bzc8d4d1AXqAHiu6jmag82U+crIceVwy+xbyHZmD/v1N7Rt4OtvfJ3/fPM/2d65/ai8R4VCoTgUjvkk6xmjz2B+8XyW1i+lM9zJ+rb1dEQ6sGk2clw5nDfmPE4rP41Htz3KkzuepCvaRWOwka8t+Rq3zr2VpCHJWafNidPmxGVzpc/dG+vlmZ3PYGJy6YRLcdqc1PbWUu4vTy8Cd625i764VOL8ad2fuOusuz74D0GhUCiG4Jg38ACPbH2E12pfoyPcQSQRodxfTlekiyx7FrWBWsLJML2xXtrD7cSNOKZpkjAT3LvhXn696NdsaN9AbW8tC0sXMr94fvq8v131W7Z2bgVgXes6oskoHZEO/A4/Pz3tp5R6S4kmo+nnD7ytUCgUHzbHfIgGYEP7BgCSZpJwMkzSSNId7U6LjT2z6xkiiQgl3hIcNgd23Y6OjomJ3+Xnl2f8kkcueoSvz/86utb/kdQGatO3t3dtpz3cDkAgHuCdhnfQNI2bZtyEXbPj0B185oTPfIDvWqFQKPbPiPDgZxTM4MXeF+mL9WEYBs3BZgrdhbjtbgDyXfl0R7tpDjaTMBJomoamadww/YZ0qGWgYU9xevnpvFz9MgALihewvas/xp6K8Z9deTZnjD4DHV3pyygUio8UI8LAf37m59nWuY1YMobf6UdD45ZZt/Bm3ZtU9VSR48xhXds64kYcwzRw29wUuYu4ePzF6XO0h9t5teZVfA4fF4y7AIfu4OYZNzM1byoNfQ2cVXkWa1vXsqZ1DVPzp3LG6DPSx6aqdAbSHGymPlDP1Pyp+Jy+D+RzUCgUioGMCANv023MHTWXTe2b/v/27j066vJO/Pj7M5ckk8wkISQkIQmEhDsIyE2Fqvy8FH5Kl/XSVjm6Pa3b9nTbLetWXfury+p21657PNvWtrtnOe1P/dVL7W69Lj1YvACCAuESLgkiRAgh94RkksnMZC7f5/fHhDGRCAQyRCaflyfHyXy/832eJ8qHJ8/l89AZ7GRs2lgK0gvYWr+VnnAPRzuOYhNbfMgmZIVoD7TTHminLdDGBM8EHvvgMVr8LQA0+Br49txv0+Jv4ZmqZ/CGvGw4voEfL/0xN0286Zz1qW6v5vEdjxO2woxzjePxax/Hk+L5zPstY/Hm8Tep665jadFSZo2dNTw/GKXUqJYUAR5iY+QIhKNhclw5fHjqQ3rCPfHrgmAXO1ETxSEO5ufPZ827awhbYUrcJTT3NCMiABzpPAJARVMF3pAXiKVA2N64ndun3H7Oumyr30bYiu2kbQm0UN1ezVWFV33m/X889kd+W/1bALac3MKT1z8ZHwJSSqkLlRSTrAC1XbXxidO67jpyXbnxoRNjTGxHqwACU8ZMweVwxYPwie4TjEsfF3/W4oLFABS5iwaU8envP0uxpzj+2i72c+6MPdH1yWRu2ApT76s/r3KUUupsLvsefDASZFvDNpw2J6eCp4DYjtWf7vkp7hQ3DpuDK/KuoKKxInaoh9hp6mnC8Mlxfk6bkwcXPUhtVy1up5v5+fMBmDduHt+Z+x32te5j1thZZ+2F97eidAWWsajtqmXJ+CWUZJ79sO8l45ewtX4rURNlnGsc08ZMu8CfhlJKfeKyDvDGGP55xz/zUcdHnAqcwuVwkZmaSUegg1A0FM9Dc9e0u9jdtDv+ObvNzvLS5eSn59PQ08ANJTcwMXMiEzMnnlHGspJlLCtZNuC9qBU964oZEeHWslvPux3zxs3jieueoMHXwKyxs3RSVik1LC7rAN8T7uGjjo8A8KR4CPqDuBwuoqnR+MlJafY0pudMZ838Nfxs988IWSFWla1idu5sZufOHnKZ6/av450T7zAufRx/MfMv+P1HvycYCXLPjHtYXLj4gttS4imhxHP2nr5SSg3FZR3g053pFLuLOek7icHgTnETioa4vuR6MhwZdIW6uG3KbbgcLva27CVkhUi1p1LZWokv5BtyT/nwqcO8feJtAJr9zTy+43Gc9tg4/1N7n+LpcU/Hv4fYbxh7WvYQsSIszF+o6+SVUpfUZR3gbWJj7TVr2Vi7kfdOvkdjTyMiwt6WvTy25DGm50wH4GjHUd6qfYtgJEgwEqSuu45mf/OQA/yn17v3H8ePWBGiJoqTT+55uurp+EapRfmLeGDRA1S2VNLkb2JxwWJy0nIutOlKKXVOl/0qmqzULOaPm0+zv5lj3mPUddURjobZeHwjd7x+B7e/fjuvHn11wGHXlrE45j1GV28XncHO8y6rLLuMO6feSVZKFjNyZnD/gvtJs6dhw8Y9M+8ZcPAIwPaG7fHXFc0V/On4n/jJzp/w9MGn+dHWHw1YxqmUUsNNTm/+GfYHi5QA/w/IBwywzhhz1lSLCxcuNLt27RpSOVVtVax9fy213lqiJkqqPZUpY6bQHe7mRNcJolYUh83B9JzpdIe66eztJCstC2MMPeEeBKEwo5C/mvdXLC1aOuR2WsYiakUHDM2c9i87/4W9LXsBmJg5kTxXHruaP2nfP1zzD8wcO3PIZSql1GkistsYs3Cwa4nswUeAHxhjZgJXA98VkWGPZnta9mCMQURw2BzkuHIozSolEA4QsSIYDJaxsIudX934K8a7x2OMoa6rjrZAG+2Bdg6dOsTP9/z8jJOezodNbIMG97AVRhC6Q924HC4eWPhAfMgIwOP0nPe6eqWUuhAJG4M3xjQCjX2vu0XkEFAEVA9nOVPHTMVpd5KTloM35CU3LZcSTwnhaJim47GA7bA5yM/IpySzhFljZ/HykZexsABi/7bAH/bj7fUO2w7S906+x56WPXhSPAQiASqaKvhS+ZfISs2i2d/M0vFLyUrNGpaylFJqMJdkklVESoErgR3D/eyrCq/iBwt+wNHOo+Sk5fBs1bNsOLaBRl8jLrsLC4vpOdP53pXfA+CBRQ/wWs1rWJaFZWJB3mFzUJBRwOTsyfHfBi5W/wnY/t/3T1J2zmcMU12UUqNTwidZRcQN/AH4G2NM1yDXvyUiu0RkV2tr6wWVsbhwMatnrCZkhbCw6OjtIBANELJCGGNIs6cxwTMBAJfDxaKCRQixwOlxepiWM41Hrn6E/9j3H6xev5qHtjxER7DjgtsMcF1R7KQph83BFblXcNOET5KU1XXX8cTOJ/jXin+l0dd4xmeNMazbv47V61fz4OYH43nolVJqKBLagxcRJ7Hg/rwx5uXB7jHGrAPWQWySdahlWMZic91mvCEvZZllOG1OBMFg4jneWwOtBKOxTVD+sB9/2E+xu5ioFWVm7kx+eNUPqeuu473694BYXpvXa16/qAM8nHYnDy16aNBrT1Y8SZM/NnzU4m/hyeufHHC9+lR1fL39ie4TvHLkFb4555sXXBel1OiUsAAvsbGF3wCHjDH/lqhyXvzwRV6veR2A/PR8HlvyGJUtlTx/6HkaehrITMlkQf6C+OEf/oifYDRIRkoGAKn2VHJduTT4GgY81y4Xtynp9Aqd/sszT2sPtn/yOtB+xnXbp36xGuwwEqWUOpdE9uCXAvcCB0Sksu+9/2OM+eNwFlLVVhV/3dTTxHHvcaaOmcrLq15md/NugpFgPDskQK4rl2XFy9h0chMOm4NVk1cBMCdvDitKV/D2ibeJWlHCVphAJBD/i2EoNhzfwLMHnwXgL+f8JTdOuDF+LRwNMzZtLLtbduNxelg9ffUZn58xdgYry1ayqW4TRe4i7px655DroJRSiVxFsxVI+Azh3Ly51HhrAAhGg/zn/v9ERLhl0i1nDLFYxuKVI6+wtX4rvpCPuXlzmTV2FhErQnV7NdcWXcuOph10BDvYcHwD3aFuvj//+0Ou0wuHXoiv0nnh0AsDAvxrNa/R5G9inCuWnnjG2BmDPuPemfdy78x7h1y2UkqddlmnKgD46vSvUuIpoaO3g2ernkVEsIzFphOb+Nqsr8WXP4oI6z9ezx+O/IFWf2wyt6q9ijdq3qDGW8OBtgNErSg94R4yU2PntPY/dHsoMpwZ9EZ746/76+yN7Zw9vXbe2+u9oDKUUupcLvsAD7CkaAkAm+o2cbDtYHzD0tc3fJ1QNERroBVvr5cUWwq90V4iVgSAQCRAY08jB9oOALGxboftkx/JUJY09nf/gvt55uAz2MTGN2Z/Y8C15aXL2dm4E2/Iy9QxU5mXN++CylBKqXNJWKqCC3EhqQpOa+ppYl/rPn78wY/xhX04bA5C0RA2bFhYGAwOcRA1UWxiI2qiCEJ2ajYZzox4r/0LRV9gyfgluJ1upuUk5uCNYCRIZ28nea48zTCplLooZ0tVkBQ9+OPe46x9fy0dgY74GarRaDR2UYgfti0IdpudMaljYitZTGwHq4hw88SbGZc+jjum3nFBE6tDkeZIo8AxcMdsMBLkQNsBxqaNpSy7LKHlK6VGh6QI8BXNFfRGe+PBvT9jDDZspDpSyXBkUJZdFksr3LdWPmSFMCFDMBJk9YzVI7IkMRwN8+gHj3LMewxB+M7c73B9yfWXvB5KqeSSFAF+UuYkAFLsKQDx4H2a3Wbnrml3sWryKkozS9ndvJvnDj3H+w3vY4yhyF3EvrZ9NPc0U+guvOT1P+k7yTHvMSCW0uC9+vc0wCulLlpSBPiFBQtZc+Uaqk9Vs791PxVNFYSiISJWJB70vSEv5dnlQCy1weLCxfxi7y/YWr8VIH6e62B8IR+VrZXkp+czZcyUYa9/riuXDGdGPD/86bQKSil1MZIiwENsJc3p1TQA2+q38eDmBwlbYdwpbiZnTz7jM/fNvo90RzreXi+3lt16xpJGiK20eWTbI/Fhne/O+y7XFl87pLqFo2Fe+PAF6rrruK74ujNW53hSPDxy9SO8Xfs2ua5cVpavHNLzlVJqMEkT4CGWg31z3WYiJkJ9dz256bmEo2FumnjToLtB053p3HfFfWd95nHvcRp7YgnBDIbtjduHHOBfrXmVPx6LbeA92HaQCZ4JlGaVDrinLKuMsjk6uaqUGj5JFeB/ufeXbG/cTiASoDPYSaG7EJfDxZi0MfGVMW2BNl4+8jJ2sceO3ztHTvbCjNgzApEAEAvEQ9U/G6TB0B5sPyPAK6XUcEuqAF/RVEFnbyeCxAMyEM/7DvCTHT/hpO8kEEvb++iSR8/6zOy0bNZes5YtdVsoyCjgi6VfHHK9vjjxi+xs3Ik/4qc8q5zZubOH/AyllBqqpAjw4WiYjbUbqffV4w/7AShyF+GwOSh2F3Pb5NuAWKA/nTXSGMPOxp1880/fpCyrjDXz1wya+RFivfZP/6UxFOXZ5Tx1w1O0B9op8hThtJ15xJ9SSg23yz7AR6wI/7j9H3m//n26Ql1kODJwp7j5yrSvsHrGwEyNNrGxrGQZ79S9gz/iJ2yF6Qp1Udlayfpj6/ny1C8PWsYbNW/w3KHnALi68GruX3A/7554l8rWSmaMncGK0hXnrKcnxYMnxXPxDVZKqfN02Qf4xp5GDrYdxBvyErWi+MI+ctJymDtu7qD3f2vOt/hC8Reobqvmv4/8d/z9cDQcf20Zi9eOvsbH3o+5pvCa+OEbbf42Xjr8EnVddZz0nURE2N64ncyUTJaMX3JGWUopNZIu+wCfk5aD9P3jtDlJdaRybfG1zBo7a8B93l4v1e3VFLmLONR+iCOdR8hPz6fZ38zEzIncWnZr/N43j7/J7w7/jo5gB68ceYVCdyH+sJ+uUBd2m52q9lgO+uy0bIBBj91TSqmRdtkH+AxnBg8vfphHtj0CxAL+pydCO4OdPLz1YTqCHfSEerDZbPFVNX9/9d/HJz1PH3Ld2NOIP+yPn8vqC/nIz8jHH/GTnZqNTWxErAjGGAKRADWdNRzpOJKQTVBKKXWhLvsAD7Gdqb9Z/hv2t+6nPLucaWOm0RZoI8OZgcvh4kDbAeq76xEReqO9WFErHuBPH5n36wO/5u3atyl0F3L3tLt5/WjsGECn3UmGM4ObJ9zMie4TVLZWUp5Vzl9f+dc8W/Usu5p3sbtlN1XtVTx1w1PnXHaplFKXSlIEeIASTwklnhIsY/HT3T/lg8YP6Ah2UJBRQIu/haaeJgwGp82JJ8WDMYbCjELm58/n8KnDbKzdCEC9r55dzbv495v+nX/a/k+0BlopSC9g+aTl5LpyiViReM74qInG0/0Go0HaA+0a4JVSnxtJE+BP+7jzY3Y07cDb68Xb68UX8tET6YlfD1th8lx5LCtZxtdnfx2Xw3XGAdt2m53x7vH88sZfcip4iqzUrPjSxv4Hglxfcj0H2w5iYVGeVU6Jp+TSNFIppc5D0gX4nU07afA1xMfIe63eAdcFwSa2+PANwOQxk/nzyX/OW7VvMd49Pp7WwCY2cl25g5bjC/k40HaASVmTWJC/gJXlK+PH8Cml1OdBUgX4qvYq/uuj/yIUDdEb7SXdkU4oGkIQwia2DDIrJYu89Dzm5M5hy8kttAfaafA1sLJ8JXdPv/u8y3q66ul4Jsp6Xz3LS5eTak9NSLuUUupCJFWAP9R+iHpfPVEritMWmxy9a/pdbGvYRtgKc8fkO1heupyGngae2PkETT1NtAXbcNqcvHT4JV5c+SJF7qLzKqt/fplgNEh3qBt3ijtRTVNKqSFLmgDf1NPEK0deIWJFiFgRUu2peFI8fG3W1/jKtK/gcrjiE6Drj60nYiL4wj6MMVjGIhAJsKVuC3fPOL9e/C2TbuFox1EiJsKi/EUUZBSc+0NKKXUJJU2Ar+2qJWIilLhLaPQ34nHGgntWatYZK1smZcVOgEq1pxKIBLCJDbvNPqQkYFcVXsXPb/g53aFuJmZORESGtT1KKXWxkibATx0zlcyU2IlM5Vnl/O3Cv2VRwaJB7z194EZNZw01nTV4e72sKl/FFXlXDKnMXFfuZ07CKqXUSBNjzLnvukQWLlxodu3adcGfbwu0sa9lHyWZJUwdM3UYa6aUUp9PIrLbGLNwsGtJ04OHWI/6xok3jnQ1lFLqc8E20hVQSimVGBrglVIqSWmAV0qpJKUBXimlktTnahWNiLQCtQl6fC7Qds67ksdoaq+2NTlpW8/PRGNM3mAXPlcBPpFEZNdnLSVKRqOpvdrW5KRtvXg6RKOUUklKA7xSSiWp0RTg1410BS6x0dRebWty0rZepFEzBq+UUqPNaOrBK6XUqKIBXimlktSoCvAi8mURqRIRS0SScvmViKwQkcMiclREHh7p+iSSiPxfEWkRkYMjXZdEE5ESEXlXRKr7/h9eM9J1ShQRSRORnSKyr6+tj410nRJNROwisldE/mc4nzuqAjxwELgd2DLSFUkEEbEDvwL+NzATuFtEZo5srRLqGWDFSFfiEokAPzDGzASuBr6bxP9te4EbjDFzgXnAChG5eoTrlGhrgEPD/dBRFeCNMYeMMYdHuh4JtBg4aoz52BgTAn4HrBrhOiWMMWYLcGqk63EpGGMajTF7+l53EwsG53eA8GXGxPj6vnX2fSXtahARKQZuBX493M8eVQF+FCgC6vp9f5IkDQKjmYiUAlcCO0a2JonTN2RRCbQAG40xSdtW4GfAQ4A13A9OugAvIm+JyMFBvpK2J6tGDxFxA38A/sYY0zXS9UkUY0zUGDMPKAYWi8j5H5h8GRGRlUCLMWZ3Ip6fVCc6ARhjbhrpOoygeqCk3/fFfe+pJCAiTmLB/XljzMsjXZ9LwRjTKSLvEptrScbJ9KXAn4nILUAakCkizxlj7hmOhyddD36UqwCmiMgkEUkB7gJeH+E6qWEgIgL8BjhkjPm3ka5PIolInohk9712ATcDH45srRLDGPNDY0yxMaaU2J/Xd4YruMMoC/AicpuInASuAdaLyJsjXafhZIyJAN8D3iQ2Cfd7Y0zVyNYqcUTkReADYJqInBSR+0a6Tgm0FLgXuEFEKvu+bhnpSiVIIfCuiOwn1mnZaIwZ1uWDo4WmKlBKqSQ1qnrwSik1mmiAV0qpJKUBXimlkpQGeKWUSlIa4JVSKklpgFejkoj8qC9T4f6+JYdXneXeZ0TkzktZP6WGQ9LtZFXqXETkGmAlMN8Y0ysiuUDKCFdLqWGnPXg1GhUCbcaYXgBjTJsxpkFE1opIRV/uonV9u0cHEJEFIrJZRHaLyJsiUtj3/vf7crXvF5HfXeL2KDUo3eikRp2+hF1bgXTgLeAlY8xmEckxxpzqu+e3xHYCvyEizwD/A7wGbAZWGWNaReSrwHJjzDdEpAGY1PcbQbYxpnMk2qZUfzpEo0YdY4xPRBYA1wL/C3ip7/SrbhF5iFjgzwGqgDf6fXQaMBvY2Ne5twONfdf2A8+LyKvAq5ekIUqdgwZ4NSoZY6LAJmCTiBwAvg3MARYaY+pE5FFi2f36E6DKGHPNII+8FbgO+BLwIxG5oi83kFIjRsfg1agjItNEZEq/t+YBp0/6ausbwhls1cxhIK9vkhYRcYrILBGxASXGmHeBvwOyAHfiWqDU+dEevBqN3MAv+lLSRoCjwLeATmI5x5uIZTEcwBgT6lsu+ZSIZBH78/Mz4CPgub73BHhKx+DV54FOsiqlVJLSIRqllEpSGuCVUipJaYBXSqkkpQFeKaWSlAZ4pZRKUhrglVIqSWmAV0qpJPX/AdG6nzPZPIW1AAAAAElFTkSuQmCC\n",
                "text/plain": "<Figure size 432x288 with 1 Axes>"
              }
            ],
            "_view_module": "@jupyter-widgets/output",
            "_model_module_version": "1.0.0",
            "_view_count": null,
            "_view_module_version": "1.0.0",
            "layout": "IPY_MODEL_0457ce15df484f2598657e8fbdead484",
            "_model_module": "@jupyter-widgets/output"
          }
        },
        "86e140f63c1c4368aa76bd98e9de0d96": {
          "model_module": "@jupyter-widgets/controls",
          "model_name": "SliderStyleModel",
          "state": {
            "_view_name": "StyleView",
            "handle_color": null,
            "_model_name": "SliderStyleModel",
            "description_width": "",
            "_view_module": "@jupyter-widgets/base",
            "_model_module_version": "1.5.0",
            "_view_count": null,
            "_view_module_version": "1.2.0",
            "_model_module": "@jupyter-widgets/controls"
          }
        },
        "736276bb7f0542fc87fb53f009be3346": {
          "model_module": "@jupyter-widgets/base",
          "model_name": "LayoutModel",
          "state": {
            "_view_name": "LayoutView",
            "grid_template_rows": null,
            "right": null,
            "justify_content": null,
            "_view_module": "@jupyter-widgets/base",
            "overflow": null,
            "_model_module_version": "1.2.0",
            "_view_count": null,
            "flex_flow": null,
            "width": null,
            "min_width": null,
            "border": null,
            "align_items": null,
            "bottom": null,
            "_model_module": "@jupyter-widgets/base",
            "top": null,
            "grid_column": null,
            "overflow_y": null,
            "overflow_x": null,
            "grid_auto_flow": null,
            "grid_area": null,
            "grid_template_columns": null,
            "flex": null,
            "_model_name": "LayoutModel",
            "justify_items": null,
            "grid_row": null,
            "max_height": null,
            "align_content": null,
            "visibility": null,
            "align_self": null,
            "height": null,
            "min_height": null,
            "padding": null,
            "grid_auto_rows": null,
            "grid_gap": null,
            "max_width": null,
            "order": null,
            "_view_module_version": "1.2.0",
            "grid_template_areas": null,
            "object_position": null,
            "object_fit": null,
            "grid_auto_columns": null,
            "margin": null,
            "display": null,
            "left": null
          }
        },
        "0457ce15df484f2598657e8fbdead484": {
          "model_module": "@jupyter-widgets/base",
          "model_name": "LayoutModel",
          "state": {
            "_view_name": "LayoutView",
            "grid_template_rows": null,
            "right": null,
            "justify_content": null,
            "_view_module": "@jupyter-widgets/base",
            "overflow": null,
            "_model_module_version": "1.2.0",
            "_view_count": null,
            "flex_flow": null,
            "width": null,
            "min_width": null,
            "border": null,
            "align_items": null,
            "bottom": null,
            "_model_module": "@jupyter-widgets/base",
            "top": null,
            "grid_column": null,
            "overflow_y": null,
            "overflow_x": null,
            "grid_auto_flow": null,
            "grid_area": null,
            "grid_template_columns": null,
            "flex": null,
            "_model_name": "LayoutModel",
            "justify_items": null,
            "grid_row": null,
            "max_height": null,
            "align_content": null,
            "visibility": null,
            "align_self": null,
            "height": null,
            "min_height": null,
            "padding": null,
            "grid_auto_rows": null,
            "grid_gap": null,
            "max_width": null,
            "order": null,
            "_view_module_version": "1.2.0",
            "grid_template_areas": null,
            "object_position": null,
            "object_fit": null,
            "grid_auto_columns": null,
            "margin": null,
            "display": null,
            "left": null
          }
        }
      }
    }
  },
  "cells": [
    {
      "cell_type": "markdown",
      "metadata": {
        "id": "OtUoRuWoKgTX"
      },
      "source": [
        "**Business Issue Understanding**\n",
        "\n",
        "######Answering key questions to guide our analysis\n",
        "\n",
        "*1. Para quem estou trabalhando?*\n",
        "\n",
        "R: Negócio de distribuição que opera com diferentes categorias de produtos e possui uma base de mais de 1500 clientes\n",
        "\n",
        "*2. O que essa pessoa precisa?*\n",
        "\n",
        "R: Conhecer melhor os diferentes perfis e hábitos de compras de sua base de clientes\n",
        "\n",
        "*3. O que é importante?*\n",
        "\n",
        "R: Identificar e agrupar os clientes com base no comportamento individual de cada um deles\n",
        "\n",
        "*4 Por que isso é importante?*\n",
        "\n",
        "R: Saber como os clientes se relacionam com o negócio ajuda a empresa a traçar objetivos específicos definir ações mais focadas e assertivas para cada grupo de cliente\n",
        "\n",
        "*5 * Como isso gera valor?*\n",
        "\n",
        "R: Melhoria do engajamento dos clientes e incremento de receita\n",
        "\n",
        "\n"
      ]
    },
    {
      "cell_type": "markdown",
      "metadata": {
        "id": "-8Ebjf-8oAJ0"
      },
      "source": [
        "**Data Undestading**\n"
      ]
    },
    {
      "cell_type": "code",
      "metadata": {
        "id": "nmim_PJunv6l"
      },
      "source": [
        "#importing libraries\n",
        "\n",
        "import pandas as pd\n",
        "import numpy as np\n",
        "import datetime as dt\n",
        "from datetime import datetime\n",
        "from matplotlib.lines import Line2D\n",
        "import matplotlib.pyplot as plt\n",
        "import seaborn as sb\n",
        "from sklearn.cluster import KMeans\n",
        "from sklearn.preprocessing import StandardScaler\n",
        "from sklearn.metrics import silhouette_score\n",
        "from sklearn.decomposition import PCA\n",
        "from ipywidgets import interactive\n",
        "\n",
        "\n",
        "%matplotlib inline\n"
      ],
      "execution_count": 1,
      "outputs": []
    },
    {
      "cell_type": "code",
      "metadata": {
        "id": "F6xQbQ_boTUg",
        "colab": {
          "base_uri": "https://localhost:8080/",
          "height": 513
        },
        "outputId": "5bb638e1-e011-4c25-d9e8-f5354c0bc60c"
      },
      "source": [
        "#data reading and checking\n",
        "\n",
        "data = pd.read_csv('https://raw.githubusercontent.com/oliveiraqalan/ProjetoAwari/master/superstore_dataset.csv',encoding='cp1252')\n",
        "df = pd.DataFrame(data)\n",
        "print(\"Read %d samples from the dataset\"%len(df))\n",
        "df.head()\n"
      ],
      "execution_count": 2,
      "outputs": [
        {
          "output_type": "stream",
          "text": [
            "Read 51290 samples from the dataset\n"
          ],
          "name": "stdout"
        },
        {
          "output_type": "execute_result",
          "data": {
            "text/html": [
              "<div>\n",
              "<style scoped>\n",
              "    .dataframe tbody tr th:only-of-type {\n",
              "        vertical-align: middle;\n",
              "    }\n",
              "\n",
              "    .dataframe tbody tr th {\n",
              "        vertical-align: top;\n",
              "    }\n",
              "\n",
              "    .dataframe thead th {\n",
              "        text-align: right;\n",
              "    }\n",
              "</style>\n",
              "<table border=\"1\" class=\"dataframe\">\n",
              "  <thead>\n",
              "    <tr style=\"text-align: right;\">\n",
              "      <th></th>\n",
              "      <th>Row ID</th>\n",
              "      <th>Order ID</th>\n",
              "      <th>Order Date</th>\n",
              "      <th>Ship Date</th>\n",
              "      <th>Ship Mode</th>\n",
              "      <th>Customer ID</th>\n",
              "      <th>Customer Name</th>\n",
              "      <th>Segment</th>\n",
              "      <th>City</th>\n",
              "      <th>State</th>\n",
              "      <th>Country</th>\n",
              "      <th>Postal Code</th>\n",
              "      <th>Market</th>\n",
              "      <th>Region</th>\n",
              "      <th>Product ID</th>\n",
              "      <th>Category</th>\n",
              "      <th>Sub-Category</th>\n",
              "      <th>Product Name</th>\n",
              "      <th>Sales</th>\n",
              "      <th>Quantity</th>\n",
              "      <th>Discount</th>\n",
              "      <th>Profit</th>\n",
              "      <th>Shipping Cost</th>\n",
              "      <th>Order Priority</th>\n",
              "    </tr>\n",
              "  </thead>\n",
              "  <tbody>\n",
              "    <tr>\n",
              "      <th>0</th>\n",
              "      <td>42433</td>\n",
              "      <td>AG-2011-2040</td>\n",
              "      <td>1/1/2011</td>\n",
              "      <td>6/1/2011</td>\n",
              "      <td>Standard Class</td>\n",
              "      <td>TB-11280</td>\n",
              "      <td>Toby Braunhardt</td>\n",
              "      <td>Consumer</td>\n",
              "      <td>Constantine</td>\n",
              "      <td>Constantine</td>\n",
              "      <td>Algeria</td>\n",
              "      <td>NaN</td>\n",
              "      <td>Africa</td>\n",
              "      <td>Africa</td>\n",
              "      <td>OFF-TEN-10000025</td>\n",
              "      <td>Office Supplies</td>\n",
              "      <td>Storage</td>\n",
              "      <td>Tenex Lockers, Blue</td>\n",
              "      <td>408.300</td>\n",
              "      <td>2</td>\n",
              "      <td>0.0</td>\n",
              "      <td>106.140</td>\n",
              "      <td>35.46</td>\n",
              "      <td>Medium</td>\n",
              "    </tr>\n",
              "    <tr>\n",
              "      <th>1</th>\n",
              "      <td>22253</td>\n",
              "      <td>IN-2011-47883</td>\n",
              "      <td>1/1/2011</td>\n",
              "      <td>8/1/2011</td>\n",
              "      <td>Standard Class</td>\n",
              "      <td>JH-15985</td>\n",
              "      <td>Joseph Holt</td>\n",
              "      <td>Consumer</td>\n",
              "      <td>Wagga Wagga</td>\n",
              "      <td>New South Wales</td>\n",
              "      <td>Australia</td>\n",
              "      <td>NaN</td>\n",
              "      <td>APAC</td>\n",
              "      <td>Oceania</td>\n",
              "      <td>OFF-SU-10000618</td>\n",
              "      <td>Office Supplies</td>\n",
              "      <td>Supplies</td>\n",
              "      <td>Acme Trimmer, High Speed</td>\n",
              "      <td>120.366</td>\n",
              "      <td>3</td>\n",
              "      <td>0.1</td>\n",
              "      <td>36.036</td>\n",
              "      <td>9.72</td>\n",
              "      <td>Medium</td>\n",
              "    </tr>\n",
              "    <tr>\n",
              "      <th>2</th>\n",
              "      <td>48883</td>\n",
              "      <td>HU-2011-1220</td>\n",
              "      <td>1/1/2011</td>\n",
              "      <td>5/1/2011</td>\n",
              "      <td>Second Class</td>\n",
              "      <td>AT-735</td>\n",
              "      <td>Annie Thurman</td>\n",
              "      <td>Consumer</td>\n",
              "      <td>Budapest</td>\n",
              "      <td>Budapest</td>\n",
              "      <td>Hungary</td>\n",
              "      <td>NaN</td>\n",
              "      <td>EMEA</td>\n",
              "      <td>EMEA</td>\n",
              "      <td>OFF-TEN-10001585</td>\n",
              "      <td>Office Supplies</td>\n",
              "      <td>Storage</td>\n",
              "      <td>Tenex Box, Single Width</td>\n",
              "      <td>66.120</td>\n",
              "      <td>4</td>\n",
              "      <td>0.0</td>\n",
              "      <td>29.640</td>\n",
              "      <td>8.17</td>\n",
              "      <td>High</td>\n",
              "    </tr>\n",
              "    <tr>\n",
              "      <th>3</th>\n",
              "      <td>11731</td>\n",
              "      <td>IT-2011-3647632</td>\n",
              "      <td>1/1/2011</td>\n",
              "      <td>5/1/2011</td>\n",
              "      <td>Second Class</td>\n",
              "      <td>EM-14140</td>\n",
              "      <td>Eugene Moren</td>\n",
              "      <td>Home Office</td>\n",
              "      <td>Stockholm</td>\n",
              "      <td>Stockholm</td>\n",
              "      <td>Sweden</td>\n",
              "      <td>NaN</td>\n",
              "      <td>EU</td>\n",
              "      <td>North</td>\n",
              "      <td>OFF-PA-10001492</td>\n",
              "      <td>Office Supplies</td>\n",
              "      <td>Paper</td>\n",
              "      <td>Enermax Note Cards, Premium</td>\n",
              "      <td>44.865</td>\n",
              "      <td>3</td>\n",
              "      <td>0.5</td>\n",
              "      <td>-26.055</td>\n",
              "      <td>4.82</td>\n",
              "      <td>High</td>\n",
              "    </tr>\n",
              "    <tr>\n",
              "      <th>4</th>\n",
              "      <td>22255</td>\n",
              "      <td>IN-2011-47883</td>\n",
              "      <td>1/1/2011</td>\n",
              "      <td>8/1/2011</td>\n",
              "      <td>Standard Class</td>\n",
              "      <td>JH-15985</td>\n",
              "      <td>Joseph Holt</td>\n",
              "      <td>Consumer</td>\n",
              "      <td>Wagga Wagga</td>\n",
              "      <td>New South Wales</td>\n",
              "      <td>Australia</td>\n",
              "      <td>NaN</td>\n",
              "      <td>APAC</td>\n",
              "      <td>Oceania</td>\n",
              "      <td>FUR-FU-10003447</td>\n",
              "      <td>Furniture</td>\n",
              "      <td>Furnishings</td>\n",
              "      <td>Eldon Light Bulb, Duo Pack</td>\n",
              "      <td>113.670</td>\n",
              "      <td>5</td>\n",
              "      <td>0.1</td>\n",
              "      <td>37.770</td>\n",
              "      <td>4.70</td>\n",
              "      <td>Medium</td>\n",
              "    </tr>\n",
              "  </tbody>\n",
              "</table>\n",
              "</div>"
            ],
            "text/plain": [
              "   Row ID         Order ID Order Date  ...   Profit Shipping Cost Order Priority\n",
              "0   42433     AG-2011-2040   1/1/2011  ...  106.140         35.46         Medium\n",
              "1   22253    IN-2011-47883   1/1/2011  ...   36.036          9.72         Medium\n",
              "2   48883     HU-2011-1220   1/1/2011  ...   29.640          8.17           High\n",
              "3   11731  IT-2011-3647632   1/1/2011  ...  -26.055          4.82           High\n",
              "4   22255    IN-2011-47883   1/1/2011  ...   37.770          4.70         Medium\n",
              "\n",
              "[5 rows x 24 columns]"
            ]
          },
          "metadata": {
            "tags": []
          },
          "execution_count": 2
        }
      ]
    },
    {
      "cell_type": "code",
      "metadata": {
        "id": "ZufIECZco092",
        "colab": {
          "base_uri": "https://localhost:8080/"
        },
        "outputId": "00a5a859-f290-4b35-dbcf-ecf6086b3f07"
      },
      "source": [
        "#Checking amount of records for each Segment\n",
        "for c in df['Segment'].unique():\n",
        "  print('Segment', c, 'has',(df['Segment']== c).sum(), 'samples')\n"
      ],
      "execution_count": 3,
      "outputs": [
        {
          "output_type": "stream",
          "text": [
            "Segment Consumer has 26518 samples\n",
            "Segment Home Office has 9343 samples\n",
            "Segment Corporate has 15429 samples\n"
          ],
          "name": "stdout"
        }
      ]
    },
    {
      "cell_type": "code",
      "metadata": {
        "id": "r5v2F8EXzWeV",
        "colab": {
          "base_uri": "https://localhost:8080/"
        },
        "outputId": "0bbab8fd-cfda-4a09-f1ea-e80dd4291e95"
      },
      "source": [
        "#Checking dtype of each column\n",
        "for c in df.columns:\n",
        "  print('Data type of column', c, 'is',df[c].dtype)"
      ],
      "execution_count": 4,
      "outputs": [
        {
          "output_type": "stream",
          "text": [
            "Data type of column Row ID is int64\n",
            "Data type of column Order ID is object\n",
            "Data type of column Order Date is object\n",
            "Data type of column Ship Date is object\n",
            "Data type of column Ship Mode is object\n",
            "Data type of column Customer ID is object\n",
            "Data type of column Customer Name is object\n",
            "Data type of column Segment is object\n",
            "Data type of column City is object\n",
            "Data type of column State is object\n",
            "Data type of column Country is object\n",
            "Data type of column Postal Code is float64\n",
            "Data type of column Market is object\n",
            "Data type of column Region is object\n",
            "Data type of column Product ID is object\n",
            "Data type of column Category is object\n",
            "Data type of column Sub-Category is object\n",
            "Data type of column Product Name is object\n",
            "Data type of column Sales is float64\n",
            "Data type of column Quantity is int64\n",
            "Data type of column Discount is float64\n",
            "Data type of column Profit is float64\n",
            "Data type of column Shipping Cost is float64\n",
            "Data type of column Order Priority is object\n"
          ],
          "name": "stdout"
        }
      ]
    },
    {
      "cell_type": "markdown",
      "metadata": {
        "id": "6mhylKi80Ih5"
      },
      "source": [
        "**Data Transformation and Cleansing**\n"
      ]
    },
    {
      "cell_type": "code",
      "metadata": {
        "id": "i_PoHYtxcEcp",
        "colab": {
          "base_uri": "https://localhost:8080/"
        },
        "outputId": "41cc3f23-d047-48d4-d173-3e775bbded12"
      },
      "source": [
        "#transforming dtype of Order Date and Ship Date to Date type\n",
        "\n",
        "df['Order Date'] = pd.to_datetime(df['Order Date'])\n",
        "df['Ship Date'] = pd.to_datetime(df['Ship Date'])\n",
        "df.dtypes"
      ],
      "execution_count": 5,
      "outputs": [
        {
          "output_type": "execute_result",
          "data": {
            "text/plain": [
              "Row ID                     int64\n",
              "Order ID                  object\n",
              "Order Date        datetime64[ns]\n",
              "Ship Date         datetime64[ns]\n",
              "Ship Mode                 object\n",
              "Customer ID               object\n",
              "Customer Name             object\n",
              "Segment                   object\n",
              "City                      object\n",
              "State                     object\n",
              "Country                   object\n",
              "Postal Code              float64\n",
              "Market                    object\n",
              "Region                    object\n",
              "Product ID                object\n",
              "Category                  object\n",
              "Sub-Category              object\n",
              "Product Name              object\n",
              "Sales                    float64\n",
              "Quantity                   int64\n",
              "Discount                 float64\n",
              "Profit                   float64\n",
              "Shipping Cost            float64\n",
              "Order Priority            object\n",
              "dtype: object"
            ]
          },
          "metadata": {
            "tags": []
          },
          "execution_count": 5
        }
      ]
    },
    {
      "cell_type": "code",
      "metadata": {
        "id": "I9T1BYXA0vo-",
        "colab": {
          "base_uri": "https://localhost:8080/"
        },
        "outputId": "cf99b849-2b02-4324-822b-cef56bcb9d55"
      },
      "source": [
        "#Checking if there'is any null value in each column\n",
        "\n",
        "any_null =[]\n",
        "columns =['Row ID', 'Order ID', 'Order Date', 'Ship Date', 'Ship Mode',\n",
        "       'Customer ID', 'Customer Name', 'Segment', 'City', 'State', 'Country',\n",
        "       'Postal Code', 'Market', 'Region', 'Product ID', 'Category',\n",
        "       'Sub-Category', 'Product Name', 'Sales', 'Quantity', 'Discount',\n",
        "       'Profit', 'Shipping Cost', 'Order Priority']\n",
        "\n",
        "for col in columns:\n",
        "  any_null.append(any(df[col].isnull()))\n",
        "\n",
        "if any(any_null):\n",
        "  print('Those columns have Null Values:',\n",
        "        [c for c, n in zip(columns, any_null) if n is True])\n",
        "else:\n",
        "  print('There are no Null Values')"
      ],
      "execution_count": 6,
      "outputs": [
        {
          "output_type": "stream",
          "text": [
            "Those columns have Null Values: ['Postal Code']\n"
          ],
          "name": "stdout"
        }
      ]
    },
    {
      "cell_type": "code",
      "metadata": {
        "id": "hYXJFyiy41Ju",
        "colab": {
          "base_uri": "https://localhost:8080/"
        },
        "outputId": "ad8ce21d-bea9-4426-86b4-c3345a986c78"
      },
      "source": [
        "#Checking how many Null Values does column 'Postal Code' has\n",
        "\n",
        "print('Postal Code has',df['Postal Code'].isnull().sum(), '/',len(df),'null values')\n"
      ],
      "execution_count": 7,
      "outputs": [
        {
          "output_type": "stream",
          "text": [
            "Postal Code has 41296 / 51290 null values\n"
          ],
          "name": "stdout"
        }
      ]
    },
    {
      "cell_type": "code",
      "metadata": {
        "id": "A_sq9Gl91HmB",
        "colab": {
          "base_uri": "https://localhost:8080/",
          "height": 779
        },
        "outputId": "d532f0db-dd3c-4dcd-9d44-68a491838b76"
      },
      "source": [
        "#Dropping 'Postal Code'\n",
        "\n",
        "df.drop('Postal Code', axis=1, inplace=True)\n",
        "df"
      ],
      "execution_count": 8,
      "outputs": [
        {
          "output_type": "execute_result",
          "data": {
            "text/html": [
              "<div>\n",
              "<style scoped>\n",
              "    .dataframe tbody tr th:only-of-type {\n",
              "        vertical-align: middle;\n",
              "    }\n",
              "\n",
              "    .dataframe tbody tr th {\n",
              "        vertical-align: top;\n",
              "    }\n",
              "\n",
              "    .dataframe thead th {\n",
              "        text-align: right;\n",
              "    }\n",
              "</style>\n",
              "<table border=\"1\" class=\"dataframe\">\n",
              "  <thead>\n",
              "    <tr style=\"text-align: right;\">\n",
              "      <th></th>\n",
              "      <th>Row ID</th>\n",
              "      <th>Order ID</th>\n",
              "      <th>Order Date</th>\n",
              "      <th>Ship Date</th>\n",
              "      <th>Ship Mode</th>\n",
              "      <th>Customer ID</th>\n",
              "      <th>Customer Name</th>\n",
              "      <th>Segment</th>\n",
              "      <th>City</th>\n",
              "      <th>State</th>\n",
              "      <th>Country</th>\n",
              "      <th>Market</th>\n",
              "      <th>Region</th>\n",
              "      <th>Product ID</th>\n",
              "      <th>Category</th>\n",
              "      <th>Sub-Category</th>\n",
              "      <th>Product Name</th>\n",
              "      <th>Sales</th>\n",
              "      <th>Quantity</th>\n",
              "      <th>Discount</th>\n",
              "      <th>Profit</th>\n",
              "      <th>Shipping Cost</th>\n",
              "      <th>Order Priority</th>\n",
              "    </tr>\n",
              "  </thead>\n",
              "  <tbody>\n",
              "    <tr>\n",
              "      <th>0</th>\n",
              "      <td>42433</td>\n",
              "      <td>AG-2011-2040</td>\n",
              "      <td>2011-01-01</td>\n",
              "      <td>2011-06-01</td>\n",
              "      <td>Standard Class</td>\n",
              "      <td>TB-11280</td>\n",
              "      <td>Toby Braunhardt</td>\n",
              "      <td>Consumer</td>\n",
              "      <td>Constantine</td>\n",
              "      <td>Constantine</td>\n",
              "      <td>Algeria</td>\n",
              "      <td>Africa</td>\n",
              "      <td>Africa</td>\n",
              "      <td>OFF-TEN-10000025</td>\n",
              "      <td>Office Supplies</td>\n",
              "      <td>Storage</td>\n",
              "      <td>Tenex Lockers, Blue</td>\n",
              "      <td>408.300</td>\n",
              "      <td>2</td>\n",
              "      <td>0.0</td>\n",
              "      <td>106.1400</td>\n",
              "      <td>35.46</td>\n",
              "      <td>Medium</td>\n",
              "    </tr>\n",
              "    <tr>\n",
              "      <th>1</th>\n",
              "      <td>22253</td>\n",
              "      <td>IN-2011-47883</td>\n",
              "      <td>2011-01-01</td>\n",
              "      <td>2011-08-01</td>\n",
              "      <td>Standard Class</td>\n",
              "      <td>JH-15985</td>\n",
              "      <td>Joseph Holt</td>\n",
              "      <td>Consumer</td>\n",
              "      <td>Wagga Wagga</td>\n",
              "      <td>New South Wales</td>\n",
              "      <td>Australia</td>\n",
              "      <td>APAC</td>\n",
              "      <td>Oceania</td>\n",
              "      <td>OFF-SU-10000618</td>\n",
              "      <td>Office Supplies</td>\n",
              "      <td>Supplies</td>\n",
              "      <td>Acme Trimmer, High Speed</td>\n",
              "      <td>120.366</td>\n",
              "      <td>3</td>\n",
              "      <td>0.1</td>\n",
              "      <td>36.0360</td>\n",
              "      <td>9.72</td>\n",
              "      <td>Medium</td>\n",
              "    </tr>\n",
              "    <tr>\n",
              "      <th>2</th>\n",
              "      <td>48883</td>\n",
              "      <td>HU-2011-1220</td>\n",
              "      <td>2011-01-01</td>\n",
              "      <td>2011-05-01</td>\n",
              "      <td>Second Class</td>\n",
              "      <td>AT-735</td>\n",
              "      <td>Annie Thurman</td>\n",
              "      <td>Consumer</td>\n",
              "      <td>Budapest</td>\n",
              "      <td>Budapest</td>\n",
              "      <td>Hungary</td>\n",
              "      <td>EMEA</td>\n",
              "      <td>EMEA</td>\n",
              "      <td>OFF-TEN-10001585</td>\n",
              "      <td>Office Supplies</td>\n",
              "      <td>Storage</td>\n",
              "      <td>Tenex Box, Single Width</td>\n",
              "      <td>66.120</td>\n",
              "      <td>4</td>\n",
              "      <td>0.0</td>\n",
              "      <td>29.6400</td>\n",
              "      <td>8.17</td>\n",
              "      <td>High</td>\n",
              "    </tr>\n",
              "    <tr>\n",
              "      <th>3</th>\n",
              "      <td>11731</td>\n",
              "      <td>IT-2011-3647632</td>\n",
              "      <td>2011-01-01</td>\n",
              "      <td>2011-05-01</td>\n",
              "      <td>Second Class</td>\n",
              "      <td>EM-14140</td>\n",
              "      <td>Eugene Moren</td>\n",
              "      <td>Home Office</td>\n",
              "      <td>Stockholm</td>\n",
              "      <td>Stockholm</td>\n",
              "      <td>Sweden</td>\n",
              "      <td>EU</td>\n",
              "      <td>North</td>\n",
              "      <td>OFF-PA-10001492</td>\n",
              "      <td>Office Supplies</td>\n",
              "      <td>Paper</td>\n",
              "      <td>Enermax Note Cards, Premium</td>\n",
              "      <td>44.865</td>\n",
              "      <td>3</td>\n",
              "      <td>0.5</td>\n",
              "      <td>-26.0550</td>\n",
              "      <td>4.82</td>\n",
              "      <td>High</td>\n",
              "    </tr>\n",
              "    <tr>\n",
              "      <th>4</th>\n",
              "      <td>22255</td>\n",
              "      <td>IN-2011-47883</td>\n",
              "      <td>2011-01-01</td>\n",
              "      <td>2011-08-01</td>\n",
              "      <td>Standard Class</td>\n",
              "      <td>JH-15985</td>\n",
              "      <td>Joseph Holt</td>\n",
              "      <td>Consumer</td>\n",
              "      <td>Wagga Wagga</td>\n",
              "      <td>New South Wales</td>\n",
              "      <td>Australia</td>\n",
              "      <td>APAC</td>\n",
              "      <td>Oceania</td>\n",
              "      <td>FUR-FU-10003447</td>\n",
              "      <td>Furniture</td>\n",
              "      <td>Furnishings</td>\n",
              "      <td>Eldon Light Bulb, Duo Pack</td>\n",
              "      <td>113.670</td>\n",
              "      <td>5</td>\n",
              "      <td>0.1</td>\n",
              "      <td>37.7700</td>\n",
              "      <td>4.70</td>\n",
              "      <td>Medium</td>\n",
              "    </tr>\n",
              "    <tr>\n",
              "      <th>...</th>\n",
              "      <td>...</td>\n",
              "      <td>...</td>\n",
              "      <td>...</td>\n",
              "      <td>...</td>\n",
              "      <td>...</td>\n",
              "      <td>...</td>\n",
              "      <td>...</td>\n",
              "      <td>...</td>\n",
              "      <td>...</td>\n",
              "      <td>...</td>\n",
              "      <td>...</td>\n",
              "      <td>...</td>\n",
              "      <td>...</td>\n",
              "      <td>...</td>\n",
              "      <td>...</td>\n",
              "      <td>...</td>\n",
              "      <td>...</td>\n",
              "      <td>...</td>\n",
              "      <td>...</td>\n",
              "      <td>...</td>\n",
              "      <td>...</td>\n",
              "      <td>...</td>\n",
              "      <td>...</td>\n",
              "    </tr>\n",
              "    <tr>\n",
              "      <th>51285</th>\n",
              "      <td>32593</td>\n",
              "      <td>CA-2014-115427</td>\n",
              "      <td>2014-12-31</td>\n",
              "      <td>2015-04-01</td>\n",
              "      <td>Standard Class</td>\n",
              "      <td>EB-13975</td>\n",
              "      <td>Erica Bern</td>\n",
              "      <td>Corporate</td>\n",
              "      <td>Fairfield</td>\n",
              "      <td>California</td>\n",
              "      <td>United States</td>\n",
              "      <td>US</td>\n",
              "      <td>West</td>\n",
              "      <td>OFF-BI-10002103</td>\n",
              "      <td>Office Supplies</td>\n",
              "      <td>Binders</td>\n",
              "      <td>Cardinal Slant-D Ring Binder, Heavy Gauge Vinyl</td>\n",
              "      <td>13.904</td>\n",
              "      <td>2</td>\n",
              "      <td>0.2</td>\n",
              "      <td>4.5188</td>\n",
              "      <td>0.89</td>\n",
              "      <td>Medium</td>\n",
              "    </tr>\n",
              "    <tr>\n",
              "      <th>51286</th>\n",
              "      <td>47594</td>\n",
              "      <td>MO-2014-2560</td>\n",
              "      <td>2014-12-31</td>\n",
              "      <td>2015-05-01</td>\n",
              "      <td>Standard Class</td>\n",
              "      <td>LP-7095</td>\n",
              "      <td>Liz Preis</td>\n",
              "      <td>Consumer</td>\n",
              "      <td>Agadir</td>\n",
              "      <td>Souss-Massa-Draâ</td>\n",
              "      <td>Morocco</td>\n",
              "      <td>Africa</td>\n",
              "      <td>Africa</td>\n",
              "      <td>OFF-WIL-10001069</td>\n",
              "      <td>Office Supplies</td>\n",
              "      <td>Binders</td>\n",
              "      <td>Wilson Jones Hole Reinforcements, Clear</td>\n",
              "      <td>3.990</td>\n",
              "      <td>1</td>\n",
              "      <td>0.0</td>\n",
              "      <td>0.4200</td>\n",
              "      <td>0.49</td>\n",
              "      <td>Medium</td>\n",
              "    </tr>\n",
              "    <tr>\n",
              "      <th>51287</th>\n",
              "      <td>8857</td>\n",
              "      <td>MX-2014-110527</td>\n",
              "      <td>2014-12-31</td>\n",
              "      <td>2015-02-01</td>\n",
              "      <td>Second Class</td>\n",
              "      <td>CM-12190</td>\n",
              "      <td>Charlotte Melton</td>\n",
              "      <td>Consumer</td>\n",
              "      <td>Managua</td>\n",
              "      <td>Managua</td>\n",
              "      <td>Nicaragua</td>\n",
              "      <td>LATAM</td>\n",
              "      <td>Central</td>\n",
              "      <td>OFF-LA-10004182</td>\n",
              "      <td>Office Supplies</td>\n",
              "      <td>Labels</td>\n",
              "      <td>Hon Color Coded Labels, 5000 Label Set</td>\n",
              "      <td>26.400</td>\n",
              "      <td>3</td>\n",
              "      <td>0.0</td>\n",
              "      <td>12.3600</td>\n",
              "      <td>0.35</td>\n",
              "      <td>Medium</td>\n",
              "    </tr>\n",
              "    <tr>\n",
              "      <th>51288</th>\n",
              "      <td>6852</td>\n",
              "      <td>MX-2014-114783</td>\n",
              "      <td>2014-12-31</td>\n",
              "      <td>2015-06-01</td>\n",
              "      <td>Standard Class</td>\n",
              "      <td>TD-20995</td>\n",
              "      <td>Tamara Dahlen</td>\n",
              "      <td>Consumer</td>\n",
              "      <td>Juárez</td>\n",
              "      <td>Chihuahua</td>\n",
              "      <td>Mexico</td>\n",
              "      <td>LATAM</td>\n",
              "      <td>North</td>\n",
              "      <td>OFF-LA-10000413</td>\n",
              "      <td>Office Supplies</td>\n",
              "      <td>Labels</td>\n",
              "      <td>Hon Legal Exhibit Labels, Alphabetical</td>\n",
              "      <td>7.120</td>\n",
              "      <td>1</td>\n",
              "      <td>0.0</td>\n",
              "      <td>0.5600</td>\n",
              "      <td>0.20</td>\n",
              "      <td>Medium</td>\n",
              "    </tr>\n",
              "    <tr>\n",
              "      <th>51289</th>\n",
              "      <td>36388</td>\n",
              "      <td>CA-2014-156720</td>\n",
              "      <td>2014-12-31</td>\n",
              "      <td>2015-04-01</td>\n",
              "      <td>Standard Class</td>\n",
              "      <td>JM-15580</td>\n",
              "      <td>Jill Matthias</td>\n",
              "      <td>Consumer</td>\n",
              "      <td>Loveland</td>\n",
              "      <td>Colorado</td>\n",
              "      <td>United States</td>\n",
              "      <td>US</td>\n",
              "      <td>West</td>\n",
              "      <td>OFF-FA-10003472</td>\n",
              "      <td>Office Supplies</td>\n",
              "      <td>Fasteners</td>\n",
              "      <td>Bagged Rubber Bands</td>\n",
              "      <td>3.024</td>\n",
              "      <td>3</td>\n",
              "      <td>0.2</td>\n",
              "      <td>-0.6048</td>\n",
              "      <td>0.17</td>\n",
              "      <td>Medium</td>\n",
              "    </tr>\n",
              "  </tbody>\n",
              "</table>\n",
              "<p>51290 rows × 23 columns</p>\n",
              "</div>"
            ],
            "text/plain": [
              "       Row ID         Order ID  ... Shipping Cost Order Priority\n",
              "0       42433     AG-2011-2040  ...         35.46         Medium\n",
              "1       22253    IN-2011-47883  ...          9.72         Medium\n",
              "2       48883     HU-2011-1220  ...          8.17           High\n",
              "3       11731  IT-2011-3647632  ...          4.82           High\n",
              "4       22255    IN-2011-47883  ...          4.70         Medium\n",
              "...       ...              ...  ...           ...            ...\n",
              "51285   32593   CA-2014-115427  ...          0.89         Medium\n",
              "51286   47594     MO-2014-2560  ...          0.49         Medium\n",
              "51287    8857   MX-2014-110527  ...          0.35         Medium\n",
              "51288    6852   MX-2014-114783  ...          0.20         Medium\n",
              "51289   36388   CA-2014-156720  ...          0.17         Medium\n",
              "\n",
              "[51290 rows x 23 columns]"
            ]
          },
          "metadata": {
            "tags": []
          },
          "execution_count": 8
        }
      ]
    },
    {
      "cell_type": "markdown",
      "metadata": {
        "id": "LV1hQ4WHozHH"
      },
      "source": [
        "**Data Exploration**"
      ]
    },
    {
      "cell_type": "code",
      "metadata": {
        "id": "Ewj0_4C9pJil",
        "colab": {
          "base_uri": "https://localhost:8080/",
          "height": 235
        },
        "outputId": "f06f6656-4828-47c9-9045-3f23aca9b7cf"
      },
      "source": [
        "#Descriptive Statistics\n",
        "df.describe().T"
      ],
      "execution_count": 9,
      "outputs": [
        {
          "output_type": "execute_result",
          "data": {
            "text/html": [
              "<div>\n",
              "<style scoped>\n",
              "    .dataframe tbody tr th:only-of-type {\n",
              "        vertical-align: middle;\n",
              "    }\n",
              "\n",
              "    .dataframe tbody tr th {\n",
              "        vertical-align: top;\n",
              "    }\n",
              "\n",
              "    .dataframe thead th {\n",
              "        text-align: right;\n",
              "    }\n",
              "</style>\n",
              "<table border=\"1\" class=\"dataframe\">\n",
              "  <thead>\n",
              "    <tr style=\"text-align: right;\">\n",
              "      <th></th>\n",
              "      <th>count</th>\n",
              "      <th>mean</th>\n",
              "      <th>std</th>\n",
              "      <th>min</th>\n",
              "      <th>25%</th>\n",
              "      <th>50%</th>\n",
              "      <th>75%</th>\n",
              "      <th>max</th>\n",
              "    </tr>\n",
              "  </thead>\n",
              "  <tbody>\n",
              "    <tr>\n",
              "      <th>Row ID</th>\n",
              "      <td>51290.0</td>\n",
              "      <td>25645.500000</td>\n",
              "      <td>14806.291990</td>\n",
              "      <td>1.000</td>\n",
              "      <td>12823.250000</td>\n",
              "      <td>25645.500</td>\n",
              "      <td>38467.7500</td>\n",
              "      <td>51290.000</td>\n",
              "    </tr>\n",
              "    <tr>\n",
              "      <th>Sales</th>\n",
              "      <td>51290.0</td>\n",
              "      <td>246.490581</td>\n",
              "      <td>487.565361</td>\n",
              "      <td>0.444</td>\n",
              "      <td>30.758625</td>\n",
              "      <td>85.053</td>\n",
              "      <td>251.0532</td>\n",
              "      <td>22638.480</td>\n",
              "    </tr>\n",
              "    <tr>\n",
              "      <th>Quantity</th>\n",
              "      <td>51290.0</td>\n",
              "      <td>3.476545</td>\n",
              "      <td>2.278766</td>\n",
              "      <td>1.000</td>\n",
              "      <td>2.000000</td>\n",
              "      <td>3.000</td>\n",
              "      <td>5.0000</td>\n",
              "      <td>14.000</td>\n",
              "    </tr>\n",
              "    <tr>\n",
              "      <th>Discount</th>\n",
              "      <td>51290.0</td>\n",
              "      <td>0.142908</td>\n",
              "      <td>0.212280</td>\n",
              "      <td>0.000</td>\n",
              "      <td>0.000000</td>\n",
              "      <td>0.000</td>\n",
              "      <td>0.2000</td>\n",
              "      <td>0.850</td>\n",
              "    </tr>\n",
              "    <tr>\n",
              "      <th>Profit</th>\n",
              "      <td>51290.0</td>\n",
              "      <td>28.610982</td>\n",
              "      <td>174.340972</td>\n",
              "      <td>-6599.978</td>\n",
              "      <td>0.000000</td>\n",
              "      <td>9.240</td>\n",
              "      <td>36.8100</td>\n",
              "      <td>8399.976</td>\n",
              "    </tr>\n",
              "    <tr>\n",
              "      <th>Shipping Cost</th>\n",
              "      <td>51290.0</td>\n",
              "      <td>26.375915</td>\n",
              "      <td>57.296804</td>\n",
              "      <td>0.000</td>\n",
              "      <td>2.610000</td>\n",
              "      <td>7.790</td>\n",
              "      <td>24.4500</td>\n",
              "      <td>933.570</td>\n",
              "    </tr>\n",
              "  </tbody>\n",
              "</table>\n",
              "</div>"
            ],
            "text/plain": [
              "                 count          mean  ...         75%        max\n",
              "Row ID         51290.0  25645.500000  ...  38467.7500  51290.000\n",
              "Sales          51290.0    246.490581  ...    251.0532  22638.480\n",
              "Quantity       51290.0      3.476545  ...      5.0000     14.000\n",
              "Discount       51290.0      0.142908  ...      0.2000      0.850\n",
              "Profit         51290.0     28.610982  ...     36.8100   8399.976\n",
              "Shipping Cost  51290.0     26.375915  ...     24.4500    933.570\n",
              "\n",
              "[6 rows x 8 columns]"
            ]
          },
          "metadata": {
            "tags": []
          },
          "execution_count": 9
        }
      ]
    },
    {
      "cell_type": "code",
      "metadata": {
        "id": "hdkZ81zcgIdV"
      },
      "source": [
        "#Creating a new dataset with only the necessary columns\n",
        "\n",
        "col_excluded =['Row ID', 'Ship Date', 'Ship Mode',\n",
        "       'Customer Name', 'Segment', 'City', 'State', 'Country',\n",
        "       'Market', 'Region', 'Product ID', 'Category', 'Sub-Category',\n",
        "       'Product Name', 'Discount', 'Profit',\n",
        "       'Shipping Cost', 'Order Priority']\n",
        "\n",
        "df_orders = df.drop(col_excluded, axis=1)\n",
        "df_by_orders = df_orders.groupby(['Customer ID', 'Order ID']).agg({'Order Date':'max','Sales':'sum','Quantity':'sum'})\n",
        "\n",
        "#Adding Recency and Frequency columns\n",
        "\n",
        "df_by_orders['Recency']=max(df['Order Date'])-df_by_orders['Order Date']\n",
        "df_by_orders['Frequency']=1\n",
        "\n",
        "#Grouping by customers\n",
        "\n",
        "customers = df_by_orders.groupby(['Customer ID']).agg({'Sales':'sum','Quantity':'sum','Recency':'min','Frequency':'sum'})"
      ],
      "execution_count": 10,
      "outputs": []
    },
    {
      "cell_type": "code",
      "metadata": {
        "id": "CiJTJJy8oEtb",
        "colab": {
          "base_uri": "https://localhost:8080/"
        },
        "outputId": "3f590d11-6008-4996-abc5-c9c61f5fe80b"
      },
      "source": [
        "#Removing Quantity column and and changing Recency dtype\n",
        "\n",
        "customers.drop('Quantity',axis=1, inplace=True)\n",
        "customers['Recency'] = customers['Recency'].dt.days\n",
        "print(customers['Recency'].dtype)"
      ],
      "execution_count": 11,
      "outputs": [
        {
          "output_type": "stream",
          "text": [
            "int64\n"
          ],
          "name": "stdout"
        }
      ]
    },
    {
      "cell_type": "code",
      "metadata": {
        "id": "qbhfrELf0vCl",
        "colab": {
          "base_uri": "https://localhost:8080/",
          "height": 281
        },
        "outputId": "829eadab-a8ec-4780-c647-849a337a822b"
      },
      "source": [
        "#Visualizing data distribution of each column\n",
        "\n",
        "fig = plt.figure(figsize=[15,4])\n",
        "axe1 = fig.add_subplot(1,3,1)\n",
        "plt.hist(customers.Recency)\n",
        "plt.title('Recency')\n",
        "plt.grid(axis='both')\n",
        "axe2 = fig.add_subplot(1,3,2)\n",
        "plt.hist(customers.Frequency)\n",
        "plt.title('Frequency')\n",
        "plt.grid(axis='both')\n",
        "axe3 = fig.add_subplot(1,3,3)\n",
        "plt.hist(customers.Sales)\n",
        "plt.title('Sales')\n",
        "plt.grid(axis='both')\n",
        "plt.show()"
      ],
      "execution_count": 12,
      "outputs": [
        {
          "output_type": "display_data",
          "data": {
            "image/png": "[encoded data removed]",
            "text/plain": [
              "<Figure size 1080x288 with 3 Axes>"
            ]
          },
          "metadata": {
            "tags": [],
            "needs_background": "light"
          }
        }
      ]
    },
    {
      "cell_type": "code",
      "metadata": {
        "id": "V06ls1j_c8-f",
        "colab": {
          "base_uri": "https://localhost:8080/",
          "height": 550
        },
        "outputId": "b4e0d987-5cde-4408-ff2f-4fe7d2689b7c"
      },
      "source": [
        "sb.pairplot(data=customers);"
      ],
      "execution_count": 13,
      "outputs": [
        {
          "output_type": "display_data",
          "data": {
            "image/png": "[encoded data removed]",
            "text/plain": [
              "<Figure size 540x540 with 12 Axes>"
            ]
          },
          "metadata": {
            "tags": [],
            "needs_background": "light"
          }
        }
      ]
    },
    {
      "cell_type": "code",
      "metadata": {
        "id": "YPuq0VoDkS_X",
        "colab": {
          "base_uri": "https://localhost:8080/",
          "height": 142
        },
        "outputId": "c6b6398e-769b-443a-9ebf-978b3b774ccf"
      },
      "source": [
        "#Descriptive Statistics\n",
        "customers.describe().T"
      ],
      "execution_count": 14,
      "outputs": [
        {
          "output_type": "execute_result",
          "data": {
            "text/html": [
              "<div>\n",
              "<style scoped>\n",
              "    .dataframe tbody tr th:only-of-type {\n",
              "        vertical-align: middle;\n",
              "    }\n",
              "\n",
              "    .dataframe tbody tr th {\n",
              "        vertical-align: top;\n",
              "    }\n",
              "\n",
              "    .dataframe thead th {\n",
              "        text-align: right;\n",
              "    }\n",
              "</style>\n",
              "<table border=\"1\" class=\"dataframe\">\n",
              "  <thead>\n",
              "    <tr style=\"text-align: right;\">\n",
              "      <th></th>\n",
              "      <th>count</th>\n",
              "      <th>mean</th>\n",
              "      <th>std</th>\n",
              "      <th>min</th>\n",
              "      <th>25%</th>\n",
              "      <th>50%</th>\n",
              "      <th>75%</th>\n",
              "      <th>max</th>\n",
              "    </tr>\n",
              "  </thead>\n",
              "  <tbody>\n",
              "    <tr>\n",
              "      <th>Sales</th>\n",
              "      <td>1590.0</td>\n",
              "      <td>7951.259063</td>\n",
              "      <td>6936.570172</td>\n",
              "      <td>7.173</td>\n",
              "      <td>1674.81225</td>\n",
              "      <td>6248.13559</td>\n",
              "      <td>13133.09842</td>\n",
              "      <td>35668.1208</td>\n",
              "    </tr>\n",
              "    <tr>\n",
              "      <th>Recency</th>\n",
              "      <td>1590.0</td>\n",
              "      <td>87.616981</td>\n",
              "      <td>127.879879</td>\n",
              "      <td>0.000</td>\n",
              "      <td>14.00000</td>\n",
              "      <td>40.00000</td>\n",
              "      <td>103.00000</td>\n",
              "      <td>1118.0000</td>\n",
              "    </tr>\n",
              "    <tr>\n",
              "      <th>Frequency</th>\n",
              "      <td>1590.0</td>\n",
              "      <td>16.196855</td>\n",
              "      <td>10.619199</td>\n",
              "      <td>1.000</td>\n",
              "      <td>6.00000</td>\n",
              "      <td>14.00000</td>\n",
              "      <td>26.00000</td>\n",
              "      <td>41.0000</td>\n",
              "    </tr>\n",
              "  </tbody>\n",
              "</table>\n",
              "</div>"
            ],
            "text/plain": [
              "            count         mean  ...          75%         max\n",
              "Sales      1590.0  7951.259063  ...  13133.09842  35668.1208\n",
              "Recency    1590.0    87.616981  ...    103.00000   1118.0000\n",
              "Frequency  1590.0    16.196855  ...     26.00000     41.0000\n",
              "\n",
              "[3 rows x 8 columns]"
            ]
          },
          "metadata": {
            "tags": []
          },
          "execution_count": 14
        }
      ]
    },
    {
      "cell_type": "markdown",
      "metadata": {
        "id": "G9IU9E931d91"
      },
      "source": [
        "**Data Modelling**"
      ]
    },
    {
      "cell_type": "code",
      "metadata": {
        "id": "GamslN3mtHAX",
        "colab": {
          "base_uri": "https://localhost:8080/",
          "height": 312
        },
        "outputId": "95ac1ca7-9ec1-444d-f0fd-ad4a29c93321"
      },
      "source": [
        "#Using the Elbow Method to identify the most suitable number of cluster to input in the model as a parameter\n",
        "\n",
        "X = np.array(customers)\n",
        "\n",
        "wcss = []\n",
        "for i in range(1,11):\n",
        "  kmeans = KMeans(n_clusters = i, init='k-means++', max_iter= 300, n_init=10)\n",
        "  kmeans.fit(X)\n",
        "  wcss.append(kmeans.inertia_)\n",
        "\n",
        "plt.title(\"Elbow Method - Original (not normalized)\")\n",
        "plt.xlabel('k')\n",
        "plt.ylabel('WCSS')\n",
        "sb.pointplot(x=list(range(1,11)),y=wcss)\n",
        "plt.show()\n",
        "\n",
        "kmeans.labels_"
      ],
      "execution_count": 15,
      "outputs": [
        {
          "output_type": "display_data",
          "data": {
            "image/png": "[encoded data removed]",
            "text/plain": [
              "<Figure size 432x288 with 1 Axes>"
            ]
          },
          "metadata": {
            "tags": [],
            "needs_background": "light"
          }
        },
        {
          "output_type": "execute_result",
          "data": {
            "text/plain": [
              "array([6, 4, 8, ..., 5, 9, 2], dtype=int32)"
            ]
          },
          "metadata": {
            "tags": []
          },
          "execution_count": 15
        }
      ]
    },
    {
      "cell_type": "code",
      "metadata": {
        "id": "lQs5yU2WvDYr",
        "colab": {
          "base_uri": "https://localhost:8080/",
          "height": 295
        },
        "outputId": "10c6fbf2-22b2-4565-fe8e-ed3fd81c027a"
      },
      "source": [
        "#Normalizing data with Standard Scaler and checking differences in elbow method\n",
        "\n",
        "std = StandardScaler()\n",
        "\n",
        "X = std.fit_transform(customers.values)\n",
        "\n",
        "wcss = []\n",
        "for i in range(1,11):\n",
        "  kmeans = KMeans(n_clusters = i, init='k-means++', max_iter= 300, n_init=10)\n",
        "  kmeans.fit(X)\n",
        "  wcss.append(kmeans.inertia_)\n",
        "\n",
        "plt.title(\"Elbow Method - Original (normalized)\")\n",
        "plt.xlabel('k')\n",
        "plt.ylabel('WCSS')\n",
        "sb.pointplot(x=list(range(1,11)),y=wcss, color='#bb3f3f')\n",
        "plt.show()\n"
      ],
      "execution_count": 16,
      "outputs": [
        {
          "output_type": "display_data",
          "data": {
            "image/png": "[encoded data removed]",
            "text/plain": [
              "<Figure size 432x288 with 1 Axes>"
            ]
          },
          "metadata": {
            "tags": [],
            "needs_background": "light"
          }
        }
      ]
    },
    {
      "cell_type": "code",
      "metadata": {
        "id": "PB_3JmSerXsG",
        "colab": {
          "base_uri": "https://localhost:8080/",
          "height": 550
        },
        "outputId": "d320d603-6a93-4bac-8e4a-64f4cefa3b6a"
      },
      "source": [
        "customers_std = pd.DataFrame(X)\n",
        "sb.pairplot(data= customers_std, corner=True);"
      ],
      "execution_count": 17,
      "outputs": [
        {
          "output_type": "display_data",
          "data": {
            "image/png": "[encoded data removed]",
            "text/plain": [
              "<Figure size 540x540 with 9 Axes>"
            ]
          },
          "metadata": {
            "tags": [],
            "needs_background": "light"
          }
        }
      ]
    },
    {
      "cell_type": "code",
      "metadata": {
        "id": "FzMVaaoPmOWW"
      },
      "source": [
        "#Renaming customer_std columns\n",
        "\n",
        "customers_std.rename(columns={0:\"Sales\",1:\"Recency\",2:\"Frequency\"}, inplace=True)"
      ],
      "execution_count": 18,
      "outputs": []
    },
    {
      "cell_type": "code",
      "metadata": {
        "id": "Yr9NhpDYI3v7",
        "colab": {
          "base_uri": "https://localhost:8080/"
        },
        "outputId": "9f956b04-d610-4666-b16b-2f35e07d096e"
      },
      "source": [
        "#Checking if we have mean = 0 and variance = 1 to each one of variables\n",
        "\n",
        "print('Standard Deviation:')\n",
        "print(customers_std.std())\n",
        "print('             ')\n",
        "print('Mean:')\n",
        "print(customers_std.mean())"
      ],
      "execution_count": 19,
      "outputs": [
        {
          "output_type": "stream",
          "text": [
            "Standard Deviation:\n",
            "Sales        1.000315\n",
            "Recency      1.000315\n",
            "Frequency    1.000315\n",
            "dtype: float64\n",
            "             \n",
            "Mean:\n",
            "Sales       -5.367824e-17\n",
            "Recency      6.340142e-17\n",
            "Frequency    6.375054e-17\n",
            "dtype: float64\n"
          ],
          "name": "stdout"
        }
      ]
    },
    {
      "cell_type": "code",
      "metadata": {
        "id": "Dmi5p7Y_nLZl",
        "colab": {
          "base_uri": "https://localhost:8080/",
          "height": 252
        },
        "outputId": "7edd88b0-fd2a-4f35-bbb7-3baeef585d75"
      },
      "source": [
        "#Creating the model\n",
        "\n",
        "model = KMeans(n_clusters= 3, random_state=42)\n",
        "model.fit(customers_std)\n",
        "\n",
        "customers['Cluster'] = model.labels_.astype(str)\n",
        "print(customers['Cluster'].unique())\n",
        "customers.head()"
      ],
      "execution_count": 20,
      "outputs": [
        {
          "output_type": "stream",
          "text": [
            "['0' '1' '2']\n"
          ],
          "name": "stdout"
        },
        {
          "output_type": "execute_result",
          "data": {
            "text/html": [
              "<div>\n",
              "<style scoped>\n",
              "    .dataframe tbody tr th:only-of-type {\n",
              "        vertical-align: middle;\n",
              "    }\n",
              "\n",
              "    .dataframe tbody tr th {\n",
              "        vertical-align: top;\n",
              "    }\n",
              "\n",
              "    .dataframe thead th {\n",
              "        text-align: right;\n",
              "    }\n",
              "</style>\n",
              "<table border=\"1\" class=\"dataframe\">\n",
              "  <thead>\n",
              "    <tr style=\"text-align: right;\">\n",
              "      <th></th>\n",
              "      <th>Sales</th>\n",
              "      <th>Recency</th>\n",
              "      <th>Frequency</th>\n",
              "      <th>Cluster</th>\n",
              "    </tr>\n",
              "    <tr>\n",
              "      <th>Customer ID</th>\n",
              "      <th></th>\n",
              "      <th></th>\n",
              "      <th></th>\n",
              "      <th></th>\n",
              "    </tr>\n",
              "  </thead>\n",
              "  <tbody>\n",
              "    <tr>\n",
              "      <th>AA-10315</th>\n",
              "      <td>13747.41300</td>\n",
              "      <td>8</td>\n",
              "      <td>19</td>\n",
              "      <td>0</td>\n",
              "    </tr>\n",
              "    <tr>\n",
              "      <th>AA-10375</th>\n",
              "      <td>5884.19500</td>\n",
              "      <td>6</td>\n",
              "      <td>23</td>\n",
              "      <td>0</td>\n",
              "    </tr>\n",
              "    <tr>\n",
              "      <th>AA-10480</th>\n",
              "      <td>17695.58978</td>\n",
              "      <td>117</td>\n",
              "      <td>20</td>\n",
              "      <td>0</td>\n",
              "    </tr>\n",
              "    <tr>\n",
              "      <th>AA-10645</th>\n",
              "      <td>15343.89070</td>\n",
              "      <td>26</td>\n",
              "      <td>36</td>\n",
              "      <td>0</td>\n",
              "    </tr>\n",
              "    <tr>\n",
              "      <th>AA-315</th>\n",
              "      <td>2243.25600</td>\n",
              "      <td>2</td>\n",
              "      <td>7</td>\n",
              "      <td>1</td>\n",
              "    </tr>\n",
              "  </tbody>\n",
              "</table>\n",
              "</div>"
            ],
            "text/plain": [
              "                   Sales  Recency  Frequency Cluster\n",
              "Customer ID                                         \n",
              "AA-10315     13747.41300        8         19       0\n",
              "AA-10375      5884.19500        6         23       0\n",
              "AA-10480     17695.58978      117         20       0\n",
              "AA-10645     15343.89070       26         36       0\n",
              "AA-315        2243.25600        2          7       1"
            ]
          },
          "metadata": {
            "tags": []
          },
          "execution_count": 20
        }
      ]
    },
    {
      "cell_type": "markdown",
      "metadata": {
        "id": "ag1kiIvcwaEJ"
      },
      "source": [
        "**Data Exploration II**"
      ]
    },
    {
      "cell_type": "code",
      "metadata": {
        "id": "qG9bJaSfrDSk",
        "colab": {
          "base_uri": "https://localhost:8080/",
          "height": 224
        },
        "outputId": "b88696d1-aa99-4086-e8f8-873a9b55b66c"
      },
      "source": [
        "customers.groupby('Cluster').describe()\n",
        "# sb.pairplot(data=customers, hue='Cluster', palette='deep')\n"
      ],
      "execution_count": 21,
      "outputs": [
        {
          "output_type": "execute_result",
          "data": {
            "text/html": [
              "<div>\n",
              "<style scoped>\n",
              "    .dataframe tbody tr th:only-of-type {\n",
              "        vertical-align: middle;\n",
              "    }\n",
              "\n",
              "    .dataframe tbody tr th {\n",
              "        vertical-align: top;\n",
              "    }\n",
              "\n",
              "    .dataframe thead tr th {\n",
              "        text-align: left;\n",
              "    }\n",
              "\n",
              "    .dataframe thead tr:last-of-type th {\n",
              "        text-align: right;\n",
              "    }\n",
              "</style>\n",
              "<table border=\"1\" class=\"dataframe\">\n",
              "  <thead>\n",
              "    <tr>\n",
              "      <th></th>\n",
              "      <th colspan=\"8\" halign=\"left\">Sales</th>\n",
              "      <th colspan=\"8\" halign=\"left\">Recency</th>\n",
              "      <th colspan=\"8\" halign=\"left\">Frequency</th>\n",
              "    </tr>\n",
              "    <tr>\n",
              "      <th></th>\n",
              "      <th>count</th>\n",
              "      <th>mean</th>\n",
              "      <th>std</th>\n",
              "      <th>min</th>\n",
              "      <th>25%</th>\n",
              "      <th>50%</th>\n",
              "      <th>75%</th>\n",
              "      <th>max</th>\n",
              "      <th>count</th>\n",
              "      <th>mean</th>\n",
              "      <th>std</th>\n",
              "      <th>min</th>\n",
              "      <th>25%</th>\n",
              "      <th>50%</th>\n",
              "      <th>75%</th>\n",
              "      <th>max</th>\n",
              "      <th>count</th>\n",
              "      <th>mean</th>\n",
              "      <th>std</th>\n",
              "      <th>min</th>\n",
              "      <th>25%</th>\n",
              "      <th>50%</th>\n",
              "      <th>75%</th>\n",
              "      <th>max</th>\n",
              "    </tr>\n",
              "    <tr>\n",
              "      <th>Cluster</th>\n",
              "      <th></th>\n",
              "      <th></th>\n",
              "      <th></th>\n",
              "      <th></th>\n",
              "      <th></th>\n",
              "      <th></th>\n",
              "      <th></th>\n",
              "      <th></th>\n",
              "      <th></th>\n",
              "      <th></th>\n",
              "      <th></th>\n",
              "      <th></th>\n",
              "      <th></th>\n",
              "      <th></th>\n",
              "      <th></th>\n",
              "      <th></th>\n",
              "      <th></th>\n",
              "      <th></th>\n",
              "      <th></th>\n",
              "      <th></th>\n",
              "      <th></th>\n",
              "      <th></th>\n",
              "      <th></th>\n",
              "      <th></th>\n",
              "    </tr>\n",
              "  </thead>\n",
              "  <tbody>\n",
              "    <tr>\n",
              "      <th>0</th>\n",
              "      <td>772.0</td>\n",
              "      <td>14059.505835</td>\n",
              "      <td>4834.408869</td>\n",
              "      <td>4629.69556</td>\n",
              "      <td>10581.95628</td>\n",
              "      <td>13307.26005</td>\n",
              "      <td>16729.59139</td>\n",
              "      <td>35668.1208</td>\n",
              "      <td>772.0</td>\n",
              "      <td>31.260363</td>\n",
              "      <td>32.190674</td>\n",
              "      <td>0.0</td>\n",
              "      <td>8.0</td>\n",
              "      <td>20.0</td>\n",
              "      <td>43.0</td>\n",
              "      <td>240.0</td>\n",
              "      <td>772.0</td>\n",
              "      <td>26.336788</td>\n",
              "      <td>4.749556</td>\n",
              "      <td>15.0</td>\n",
              "      <td>23.0</td>\n",
              "      <td>26.0</td>\n",
              "      <td>30.0</td>\n",
              "      <td>41.0</td>\n",
              "    </tr>\n",
              "    <tr>\n",
              "      <th>1</th>\n",
              "      <td>683.0</td>\n",
              "      <td>2307.474308</td>\n",
              "      <td>1761.943242</td>\n",
              "      <td>7.17300</td>\n",
              "      <td>1038.03000</td>\n",
              "      <td>1821.91200</td>\n",
              "      <td>3091.54500</td>\n",
              "      <td>9166.2092</td>\n",
              "      <td>683.0</td>\n",
              "      <td>83.142020</td>\n",
              "      <td>68.050732</td>\n",
              "      <td>0.0</td>\n",
              "      <td>23.5</td>\n",
              "      <td>64.0</td>\n",
              "      <td>127.0</td>\n",
              "      <td>264.0</td>\n",
              "      <td>683.0</td>\n",
              "      <td>7.064422</td>\n",
              "      <td>3.022682</td>\n",
              "      <td>1.0</td>\n",
              "      <td>5.0</td>\n",
              "      <td>7.0</td>\n",
              "      <td>9.0</td>\n",
              "      <td>20.0</td>\n",
              "    </tr>\n",
              "    <tr>\n",
              "      <th>2</th>\n",
              "      <td>135.0</td>\n",
              "      <td>1574.507055</td>\n",
              "      <td>1422.629537</td>\n",
              "      <td>19.12800</td>\n",
              "      <td>583.68750</td>\n",
              "      <td>1159.35000</td>\n",
              "      <td>1921.86300</td>\n",
              "      <td>6320.0160</td>\n",
              "      <td>135.0</td>\n",
              "      <td>432.533333</td>\n",
              "      <td>161.659620</td>\n",
              "      <td>257.0</td>\n",
              "      <td>314.0</td>\n",
              "      <td>388.0</td>\n",
              "      <td>489.5</td>\n",
              "      <td>1118.0</td>\n",
              "      <td>135.0</td>\n",
              "      <td>4.414815</td>\n",
              "      <td>1.902022</td>\n",
              "      <td>1.0</td>\n",
              "      <td>3.0</td>\n",
              "      <td>4.0</td>\n",
              "      <td>6.0</td>\n",
              "      <td>10.0</td>\n",
              "    </tr>\n",
              "  </tbody>\n",
              "</table>\n",
              "</div>"
            ],
            "text/plain": [
              "         Sales                                         ... Frequency                  \n",
              "         count          mean          std         min  ...       25%   50%   75%   max\n",
              "Cluster                                                ...                            \n",
              "0        772.0  14059.505835  4834.408869  4629.69556  ...      23.0  26.0  30.0  41.0\n",
              "1        683.0   2307.474308  1761.943242     7.17300  ...       5.0   7.0   9.0  20.0\n",
              "2        135.0   1574.507055  1422.629537    19.12800  ...       3.0   4.0   6.0  10.0\n",
              "\n",
              "[3 rows x 24 columns]"
            ]
          },
          "metadata": {
            "tags": []
          },
          "execution_count": 21
        }
      ]
    },
    {
      "cell_type": "code",
      "metadata": {
        "id": "8DkTHwltbor6",
        "colab": {
          "base_uri": "https://localhost:8080/"
        },
        "outputId": "344140d3-5741-4192-bfdc-b39d86628fcc"
      },
      "source": [
        "print(f\"Segment 0 =\", round(len(customers[customers['Cluster']=='0'])/len(customers),2)*100,\"%\")\n",
        "print(f\"Segment 1 =\", round(len(customers[customers['Cluster']=='1'])/len(customers),2)*100,\"%\")\n",
        "print(f\"Segment 2 =\", round(len(customers[customers['Cluster']=='2'])/len(customers),2)*100,\"%\")\n",
        "# print(f\"Segment 3 =\", round(len(customers[customers['Cluster']==3])/len(customers),2)*100,\"%\")\n"
      ],
      "execution_count": 22,
      "outputs": [
        {
          "output_type": "stream",
          "text": [
            "Segment 0 = 49.0 %\n",
            "Segment 1 = 43.0 %\n",
            "Segment 2 = 8.0 %\n"
          ],
          "name": "stdout"
        }
      ]
    },
    {
      "cell_type": "code",
      "metadata": {
        "id": "zAN1FZtuyeJY",
        "colab": {
          "base_uri": "https://localhost:8080/",
          "height": 992
        },
        "outputId": "63b04a88-54d8-44b2-ff31-c0d484d40c36"
      },
      "source": [
        "customers.boxplot(column='Recency',by='Cluster')\n",
        "customers.boxplot(column='Frequency',by='Cluster')\n",
        "customers.boxplot(column='Sales',by='Cluster')\n",
        "plt.tight_layout()"
      ],
      "execution_count": 23,
      "outputs": [
        {
          "output_type": "stream",
          "text": [
            "/usr/local/lib/python3.6/dist-packages/numpy/core/_asarray.py:83: VisibleDeprecationWarning: Creating an ndarray from ragged nested sequences (which is a list-or-tuple of lists-or-tuples-or ndarrays with different lengths or shapes) is deprecated. If you meant to do this, you must specify 'dtype=object' when creating the ndarray\n",
            "  return array(a, dtype, copy=False, order=order)\n",
            "/usr/local/lib/python3.6/dist-packages/numpy/core/_asarray.py:83: VisibleDeprecationWarning: Creating an ndarray from ragged nested sequences (which is a list-or-tuple of lists-or-tuples-or ndarrays with different lengths or shapes) is deprecated. If you meant to do this, you must specify 'dtype=object' when creating the ndarray\n",
            "  return array(a, dtype, copy=False, order=order)\n",
            "/usr/local/lib/python3.6/dist-packages/numpy/core/_asarray.py:83: VisibleDeprecationWarning: Creating an ndarray from ragged nested sequences (which is a list-or-tuple of lists-or-tuples-or ndarrays with different lengths or shapes) is deprecated. If you meant to do this, you must specify 'dtype=object' when creating the ndarray\n",
            "  return array(a, dtype, copy=False, order=order)\n"
          ],
          "name": "stderr"
        },
        {
          "output_type": "display_data",
          "data": {
            "image/png": "[encoded data removed]",
            "text/plain": [
              "<Figure size 432x288 with 1 Axes>"
            ]
          },
          "metadata": {
            "tags": [],
            "needs_background": "light"
          }
        },
        {
          "output_type": "display_data",
          "data": {
            "image/png": "[encoded data removed]",
            "text/plain": [
              "<Figure size 432x288 with 1 Axes>"
            ]
          },
          "metadata": {
            "tags": [],
            "needs_background": "light"
          }
        },
        {
          "output_type": "display_data",
          "data": {
            "image/png": "[encoded data removed]",
            "text/plain": [
              "<Figure size 432x288 with 1 Axes>"
            ]
          },
          "metadata": {
            "tags": [],
            "needs_background": "light"
          }
        }
      ]
    },
    {
      "cell_type": "markdown",
      "metadata": {
        "id": "YETsD4hj3U9x"
      },
      "source": [
        "**Model Validation**"
      ]
    },
    {
      "cell_type": "code",
      "metadata": {
        "id": "Wauungv-mnGW",
        "colab": {
          "base_uri": "https://localhost:8080/"
        },
        "outputId": "d38e45ab-f30c-469d-9fb7-47d60f839a35"
      },
      "source": [
        "#Validating with silhouette score\n",
        "\n",
        "for number_cluster in range(2,10):\n",
        "  kmeans = KMeans(n_clusters=number_cluster)\n",
        "  kmeans.fit(customers_std)\n",
        "  labels = kmeans.labels_\n",
        "  score = silhouette_score(customers_std,labels)\n",
        "  print(f'Clusters:{number_cluster}, score:{score:.2f}')"
      ],
      "execution_count": 24,
      "outputs": [
        {
          "output_type": "stream",
          "text": [
            "Clusters:2, score:0.58\n",
            "Clusters:3, score:0.59\n",
            "Clusters:4, score:0.49\n",
            "Clusters:5, score:0.46\n",
            "Clusters:6, score:0.42\n",
            "Clusters:7, score:0.39\n",
            "Clusters:8, score:0.35\n",
            "Clusters:9, score:0.35\n"
          ],
          "name": "stdout"
        }
      ]
    },
    {
      "cell_type": "code",
      "metadata": {
        "id": "_C8F-eVQhTDq",
        "colab": {
          "base_uri": "https://localhost:8080/",
          "height": 235
        },
        "outputId": "9cc5ed04-85be-4a8b-87d4-96c891379786"
      },
      "source": [
        "#Validating with RFV scores (rating from 1 to 5)\n",
        "\n",
        "#Dividing values ​​for each variable into 5 frequency ranges, using the 20th percentile\n",
        "\n",
        "bins_recency =[0,customers.quantile(q=0.2)[1],customers.quantile(q=0.4)[1],customers.quantile(q=0.6)[1],customers.quantile(q=0.8)[1],customers.quantile(q=1)[1]]\n",
        "group_recency = [5,4,3,2,1]\n",
        "\n",
        "customers_validation = customers.drop(columns=['Recency','Frequency','Sales'])\n",
        "\n",
        "customers_validation['Recency_value'] = pd.cut(customers['Recency'],bins_recency,labels=group_recency)\n",
        "\n",
        "bins_frequency =[0,customers.quantile(q=0.2)[2],customers.quantile(q=0.4)[2],customers.quantile(q=0.6)[2],customers.quantile(q=0.8)[2],customers.quantile(q=1)[2]]\n",
        "group_frequency_sales = [1,2,3,4,5]\n",
        "customers_validation['Frequency_value'] = pd.cut(customers['Frequency'],bins_frequency,labels=group_frequency_sales)\n",
        "\n",
        "bins_sales =[0,customers.quantile(q=0.2)[0],customers.quantile(q=0.4)[0],customers.quantile(q=0.6)[0],customers.quantile(q=0.8)[0],customers.quantile(q=1)[0]]\n",
        "customers_validation['Sales_value'] = pd.cut(customers['Sales'],bins_sales,labels=group_frequency_sales)\n",
        "\n",
        "customers_validation.tail()"
      ],
      "execution_count": 25,
      "outputs": [
        {
          "output_type": "execute_result",
          "data": {
            "text/html": [
              "<div>\n",
              "<style scoped>\n",
              "    .dataframe tbody tr th:only-of-type {\n",
              "        vertical-align: middle;\n",
              "    }\n",
              "\n",
              "    .dataframe tbody tr th {\n",
              "        vertical-align: top;\n",
              "    }\n",
              "\n",
              "    .dataframe thead th {\n",
              "        text-align: right;\n",
              "    }\n",
              "</style>\n",
              "<table border=\"1\" class=\"dataframe\">\n",
              "  <thead>\n",
              "    <tr style=\"text-align: right;\">\n",
              "      <th></th>\n",
              "      <th>Cluster</th>\n",
              "      <th>Recency_value</th>\n",
              "      <th>Frequency_value</th>\n",
              "      <th>Sales_value</th>\n",
              "    </tr>\n",
              "    <tr>\n",
              "      <th>Customer ID</th>\n",
              "      <th></th>\n",
              "      <th></th>\n",
              "      <th></th>\n",
              "      <th></th>\n",
              "    </tr>\n",
              "  </thead>\n",
              "  <tbody>\n",
              "    <tr>\n",
              "      <th>YS-21880</th>\n",
              "      <td>0</td>\n",
              "      <td>5</td>\n",
              "      <td>4</td>\n",
              "      <td>5</td>\n",
              "    </tr>\n",
              "    <tr>\n",
              "      <th>ZC-11910</th>\n",
              "      <td>1</td>\n",
              "      <td>1</td>\n",
              "      <td>1</td>\n",
              "      <td>1</td>\n",
              "    </tr>\n",
              "    <tr>\n",
              "      <th>ZC-21910</th>\n",
              "      <td>0</td>\n",
              "      <td>5</td>\n",
              "      <td>5</td>\n",
              "      <td>5</td>\n",
              "    </tr>\n",
              "    <tr>\n",
              "      <th>ZD-11925</th>\n",
              "      <td>1</td>\n",
              "      <td>5</td>\n",
              "      <td>3</td>\n",
              "      <td>2</td>\n",
              "    </tr>\n",
              "    <tr>\n",
              "      <th>ZD-21925</th>\n",
              "      <td>0</td>\n",
              "      <td>5</td>\n",
              "      <td>3</td>\n",
              "      <td>3</td>\n",
              "    </tr>\n",
              "  </tbody>\n",
              "</table>\n",
              "</div>"
            ],
            "text/plain": [
              "            Cluster Recency_value Frequency_value Sales_value\n",
              "Customer ID                                                  \n",
              "YS-21880          0             5               4           5\n",
              "ZC-11910          1             1               1           1\n",
              "ZC-21910          0             5               5           5\n",
              "ZD-11925          1             5               3           2\n",
              "ZD-21925          0             5               3           3"
            ]
          },
          "metadata": {
            "tags": []
          },
          "execution_count": 25
        }
      ]
    },
    {
      "cell_type": "code",
      "metadata": {
        "id": "r5B0KaEDhn43",
        "colab": {
          "base_uri": "https://localhost:8080/",
          "height": 295
        },
        "outputId": "e8912151-53a0-4bb6-c92d-26cc4c6d520a"
      },
      "source": [
        "#Using the Elbow Method to identify the most suitable number of clusters to input in the validation model as a parameter\n",
        "\n",
        "std = StandardScaler()\n",
        "\n",
        "X2 = std.fit_transform(customers_validation.drop('Cluster',axis=1).values)\n",
        "\n",
        "wcss = []\n",
        "for i in range(1,11):\n",
        "  kmeans = KMeans(n_clusters = i, init='k-means++', max_iter= 300, n_init=10)\n",
        "  kmeans.fit(X2)\n",
        "  wcss.append(kmeans.inertia_)\n",
        "\n",
        "plt.title(\"Elbow Method - Validation Model\")\n",
        "plt.xlabel('k')\n",
        "plt.ylabel('WCSS')\n",
        "sb.pointplot(x=list(range(1,11)),y=wcss, color=\"green\")\n",
        "plt.show()"
      ],
      "execution_count": 26,
      "outputs": [
        {
          "output_type": "display_data",
          "data": {
            "image/png": "[encoded data removed]",
            "text/plain": [
              "<Figure size 432x288 with 1 Axes>"
            ]
          },
          "metadata": {
            "tags": [],
            "needs_background": "light"
          }
        }
      ]
    },
    {
      "cell_type": "code",
      "metadata": {
        "id": "m1Neek1Alk8f",
        "colab": {
          "base_uri": "https://localhost:8080/",
          "height": 258
        },
        "outputId": "93d0acc4-5162-4165-a11d-709b15bca300"
      },
      "source": [
        "#Validation model without normalizing data\n",
        "validation = KMeans(n_clusters=3, random_state=42)\n",
        "validation.fit(customers_validation.drop('Cluster',axis=1))\n",
        "customers_validation['Cluster-Test'] = validation.labels_.astype(str)\n",
        "customers_validation\n",
        "\n",
        "#Validation model with data normalized\n",
        "validation_std = KMeans(n_clusters=3, random_state=42)\n",
        "validation_std.fit(X2)\n",
        "X2 = pd.DataFrame(X2)\n",
        "X2['Cluster-Test'] = validation.labels_.astype(str)\n",
        "X2.tail()\n"
      ],
      "execution_count": 27,
      "outputs": [
        {
          "output_type": "stream",
          "text": [
            "/usr/local/lib/python3.6/dist-packages/ipykernel_launcher.py:3: ConvergenceWarning: Number of distinct clusters (2) found smaller than n_clusters (3). Possibly due to duplicate points in X.\n",
            "  This is separate from the ipykernel package so we can avoid doing imports until\n"
          ],
          "name": "stderr"
        },
        {
          "output_type": "execute_result",
          "data": {
            "text/html": [
              "<div>\n",
              "<style scoped>\n",
              "    .dataframe tbody tr th:only-of-type {\n",
              "        vertical-align: middle;\n",
              "    }\n",
              "\n",
              "    .dataframe tbody tr th {\n",
              "        vertical-align: top;\n",
              "    }\n",
              "\n",
              "    .dataframe thead th {\n",
              "        text-align: right;\n",
              "    }\n",
              "</style>\n",
              "<table border=\"1\" class=\"dataframe\">\n",
              "  <thead>\n",
              "    <tr style=\"text-align: right;\">\n",
              "      <th></th>\n",
              "      <th>0</th>\n",
              "      <th>1</th>\n",
              "      <th>2</th>\n",
              "      <th>Cluster-Test</th>\n",
              "    </tr>\n",
              "  </thead>\n",
              "  <tbody>\n",
              "    <tr>\n",
              "      <th>1585</th>\n",
              "      <td>0.150027</td>\n",
              "      <td>0.757826</td>\n",
              "      <td>1.414214</td>\n",
              "      <td>0</td>\n",
              "    </tr>\n",
              "    <tr>\n",
              "      <th>1586</th>\n",
              "      <td>0.150027</td>\n",
              "      <td>-1.287919</td>\n",
              "      <td>-1.414214</td>\n",
              "      <td>0</td>\n",
              "    </tr>\n",
              "    <tr>\n",
              "      <th>1587</th>\n",
              "      <td>0.150027</td>\n",
              "      <td>1.439741</td>\n",
              "      <td>1.414214</td>\n",
              "      <td>0</td>\n",
              "    </tr>\n",
              "    <tr>\n",
              "      <th>1588</th>\n",
              "      <td>0.150027</td>\n",
              "      <td>0.075911</td>\n",
              "      <td>-0.707107</td>\n",
              "      <td>0</td>\n",
              "    </tr>\n",
              "    <tr>\n",
              "      <th>1589</th>\n",
              "      <td>0.150027</td>\n",
              "      <td>0.075911</td>\n",
              "      <td>0.000000</td>\n",
              "      <td>0</td>\n",
              "    </tr>\n",
              "  </tbody>\n",
              "</table>\n",
              "</div>"
            ],
            "text/plain": [
              "             0         1         2 Cluster-Test\n",
              "1585  0.150027  0.757826  1.414214            0\n",
              "1586  0.150027 -1.287919 -1.414214            0\n",
              "1587  0.150027  1.439741  1.414214            0\n",
              "1588  0.150027  0.075911 -0.707107            0\n",
              "1589  0.150027  0.075911  0.000000            0"
            ]
          },
          "metadata": {
            "tags": []
          },
          "execution_count": 27
        }
      ]
    },
    {
      "cell_type": "code",
      "metadata": {
        "id": "-yO8YXNKtBKK",
        "colab": {
          "base_uri": "https://localhost:8080/"
        },
        "outputId": "bf60dc3d-38f4-493a-a27e-897ecaedb3f0"
      },
      "source": [
        "#Comparing results\n",
        "print('Customer Segmentation (original model):')\n",
        "print(f\"Segment 0 =\", round(len(customers_validation[customers_validation['Cluster']=='0'])/len(customers),2)*100,\"%\")\n",
        "print(f\"Segment 1 =\", round(len(customers_validation[customers_validation['Cluster']=='1'])/len(customers),2)*100,\"%\")\n",
        "print(f\"Segment 2 =\", round(len(customers_validation[customers_validation['Cluster']=='2'])/len(customers),2)*100,\"%\")\n",
        "print('----------------')\n",
        "print('Customer Validation (w/o normalized data)')\n",
        "print(f\"Segment 0 =\", round(len(customers_validation[customers_validation['Cluster-Test']=='0'])/len(customers),2)*100,\"%\")\n",
        "print(f\"Segment 1 =\", round(len(customers_validation[customers_validation['Cluster-Test']=='1'])/len(customers),2)*100,\"%\")\n",
        "print(f\"Segment 2 =\", round(len(customers_validation[customers_validation['Cluster-Test']=='2'])/len(customers),2)*100,\"%\")\n",
        "print('----------------')\n",
        "print('Customer Validation (w/ Std Scaler)')\n",
        "print(f\"Segment 0 =\", round(len(X2[X2['Cluster-Test']=='0'])/len(customers),2)*100,\"%\")\n",
        "print(f\"Segment 1 =\", round(len(X2[X2['Cluster-Test']=='1'])/len(customers),2)*100,\"%\")\n",
        "print(f\"Segment 2 =\", round(len(X2[X2['Cluster-Test']=='2'])/len(customers),2)*100,\"%\")\n",
        "\n"
      ],
      "execution_count": 28,
      "outputs": [
        {
          "output_type": "stream",
          "text": [
            "Customer Segmentation (original model):\n",
            "Segment 0 = 49.0 %\n",
            "Segment 1 = 43.0 %\n",
            "Segment 2 = 8.0 %\n",
            "----------------\n",
            "Customer Validation (w/o normalized data)\n",
            "Segment 0 = 98.0 %\n",
            "Segment 1 = 2.0 %\n",
            "Segment 2 = 0.0 %\n",
            "----------------\n",
            "Customer Validation (w/ Std Scaler)\n",
            "Segment 0 = 98.0 %\n",
            "Segment 1 = 2.0 %\n",
            "Segment 2 = 0.0 %\n"
          ],
          "name": "stdout"
        }
      ]
    },
    {
      "cell_type": "code",
      "metadata": {
        "id": "CDlU-tWcy53D"
      },
      "source": [
        "# Analyzing data density on each variable by cluster"
      ],
      "execution_count": 41,
      "outputs": []
    },
    {
      "cell_type": "code",
      "metadata": {
        "id": "NFFIDdq_5_L8",
        "colab": {
          "base_uri": "https://localhost:8080/",
          "height": 311,
          "referenced_widgets": [
            "28ef81b5769540e0a7efffb90585fc8f",
            "02b6047422eb479da2ee10be9510d76d",
            "e54e271b70e94c3c8de852ad80f1eeab",
            "e5fb5519d4154920a530671383776796",
            "29e2111c79ac4fc2bb42b5fa4f7700cd",
            "32b39d6422574dcd96a2d45a9e30a2d0",
            "0bdd336b39fa4cc5bfd40b6b1156750a"
          ]
        },
        "outputId": "5847f893-4979-4f92-f0d1-37f7a0163411"
      },
      "source": [
        "def jitter_widget1(jitter=0.1):\n",
        "  sb.stripplot(x=customers_std.Recency, y='Cluster', data=customers_std, dodge= True, jitter= jitter, size=4, alpha=0.8);\n",
        "\n",
        "interactive(jitter_widget1, jitter=(0, 0.65, 0.05))"
      ],
      "execution_count": 42,
      "outputs": [
        {
          "output_type": "display_data",
          "data": {
            "application/vnd.jupyter.widget-view+json": {
              "model_id": "28ef81b5769540e0a7efffb90585fc8f",
              "version_minor": 0,
              "version_major": 2
            },
            "text/plain": [
              "interactive(children=(FloatSlider(value=0.1, description='jitter', max=0.65, step=0.05), Output()), _dom_class…"
            ]
          },
          "metadata": {
            "tags": []
          }
        }
      ]
    },
    {
      "cell_type": "code",
      "metadata": {
        "colab": {
          "base_uri": "https://localhost:8080/",
          "height": 311,
          "referenced_widgets": [
            "876bb27b8293439aa3dc785605bd1339",
            "64113013533e4e4894eb410ee90a5389",
            "f094ce6921d5470da0cf7e89ab09626a",
            "b9c973ae4ba24ef089c90c9c2508c35a",
            "07874c7f142d40d98896424521f709ed",
            "b7c86be4dccd4df6906a573a5cdfacef",
            "fb22adbb14da466c88bdd3e907df1e33"
          ]
        },
        "id": "NGMBorAkPm8O",
        "outputId": "4fc8f69a-66f7-46d4-ee61-e9698e5342f2"
      },
      "source": [
        "def jitter_widget2(jitter=0.1):\n",
        "  sb.stripplot(x=customers_std.Frequency, y= 'Cluster', data=customers_std, dodge= True, jitter= jitter, size=4, alpha=0.8);\n",
        "\n",
        "interactive(jitter_widget2, jitter=(0, 0.65, 0.05))"
      ],
      "execution_count": 43,
      "outputs": [
        {
          "output_type": "display_data",
          "data": {
            "application/vnd.jupyter.widget-view+json": {
              "model_id": "876bb27b8293439aa3dc785605bd1339",
              "version_minor": 0,
              "version_major": 2
            },
            "text/plain": [
              "interactive(children=(FloatSlider(value=0.1, description='jitter', max=0.65, step=0.05), Output()), _dom_class…"
            ]
          },
          "metadata": {
            "tags": []
          }
        }
      ]
    },
    {
      "cell_type": "code",
      "metadata": {
        "colab": {
          "base_uri": "https://localhost:8080/",
          "height": 311,
          "referenced_widgets": [
            "4acf92cec3df4bb2a5064d037c6dab1e",
            "a89c30a299a3429cb259770c88c7c5c8",
            "ad935d61ab4c4122b4e6c82bf1a94994",
            "45e30cd1ae48416c9cf4b71088367162",
            "86e140f63c1c4368aa76bd98e9de0d96",
            "736276bb7f0542fc87fb53f009be3346",
            "0457ce15df484f2598657e8fbdead484"
          ]
        },
        "id": "Joh3KpqsQMyG",
        "outputId": "b6b79686-7e3a-43cb-e587-7f3e2dd005ba"
      },
      "source": [
        "def jitter_widget3(jitter=0.1):\n",
        "  sb.stripplot(x=customers_std.Sales, y='Cluster', data=customers_std, dodge= True, jitter= jitter, size=4, alpha=0.8);\n",
        "\n",
        "interactive(jitter_widget3, jitter=(0, 0.65, 0.05))"
      ],
      "execution_count": 44,
      "outputs": [
        {
          "output_type": "display_data",
          "data": {
            "application/vnd.jupyter.widget-view+json": {
              "model_id": "4acf92cec3df4bb2a5064d037c6dab1e",
              "version_minor": 0,
              "version_major": 2
            },
            "text/plain": [
              "interactive(children=(FloatSlider(value=0.1, description='jitter', max=0.65, step=0.05), Output()), _dom_class…"
            ]
          },
          "metadata": {
            "tags": []
          }
        }
      ]
    },
    {
      "cell_type": "code",
      "metadata": {
        "id": "RBPHx45P7fAq",
        "colab": {
          "base_uri": "https://localhost:8080/",
          "height": 733
        },
        "outputId": "25da4380-0c1b-402f-d69d-87131c9dd1bd"
      },
      "source": [
        "#Visualizing segmentation with centroids of each cluster\n",
        "\n",
        "customers_std['Cluster'] = model.labels_.astype(str)\n",
        "\n",
        "centroids = pd.DataFrame(model.cluster_centers_, columns = ['Sales', 'Recency', 'Frequency'])\n",
        "centroids['Cluster'] = [\"0 centroid\",\"1 centroid\",\"2 centroid\"]\n",
        "customers_centroids = pd.concat([customers_std,centroids],ignore_index=True)\n",
        "\n",
        "g = sb.PairGrid(data=customers_centroids, hue='Cluster',\n",
        "                hue_order = [\"0\",\"1\",\"2\",\"0 centroid\",\"1 centroid\",\"2 centroid\"],\n",
        "                palette = [\"b\",\"r\",\"g\",\"b\",\"r\",\"g\"],\n",
        "                hue_kws={\"s\": [20, 20, 20, 500, 500, 500],\n",
        "                          \"marker\": [\"o\", \"o\", \"o\", \"*\", \"*\", \"*\"]})\n",
        "g.map(plt.scatter, linewidth=1, edgecolor=\"w\")\n",
        "g.add_legend()\n",
        "\n",
        "customers_centroids.tail()"
      ],
      "execution_count": 33,
      "outputs": [
        {
          "output_type": "execute_result",
          "data": {
            "text/html": [
              "<div>\n",
              "<style scoped>\n",
              "    .dataframe tbody tr th:only-of-type {\n",
              "        vertical-align: middle;\n",
              "    }\n",
              "\n",
              "    .dataframe tbody tr th {\n",
              "        vertical-align: top;\n",
              "    }\n",
              "\n",
              "    .dataframe thead th {\n",
              "        text-align: right;\n",
              "    }\n",
              "</style>\n",
              "<table border=\"1\" class=\"dataframe\">\n",
              "  <thead>\n",
              "    <tr style=\"text-align: right;\">\n",
              "      <th></th>\n",
              "      <th>Sales</th>\n",
              "      <th>Recency</th>\n",
              "      <th>Frequency</th>\n",
              "      <th>Cluster</th>\n",
              "    </tr>\n",
              "  </thead>\n",
              "  <tbody>\n",
              "    <tr>\n",
              "      <th>1588</th>\n",
              "      <td>-0.721049</td>\n",
              "      <td>-0.661899</td>\n",
              "      <td>-0.677934</td>\n",
              "      <td>1</td>\n",
              "    </tr>\n",
              "    <tr>\n",
              "      <th>1589</th>\n",
              "      <td>0.220363</td>\n",
              "      <td>-0.677544</td>\n",
              "      <td>0.358251</td>\n",
              "      <td>0</td>\n",
              "    </tr>\n",
              "    <tr>\n",
              "      <th>1590</th>\n",
              "      <td>0.880863</td>\n",
              "      <td>-0.440838</td>\n",
              "      <td>0.955168</td>\n",
              "      <td>0 centroid</td>\n",
              "    </tr>\n",
              "    <tr>\n",
              "      <th>1591</th>\n",
              "      <td>-0.813884</td>\n",
              "      <td>-0.035004</td>\n",
              "      <td>-0.860263</td>\n",
              "      <td>1 centroid</td>\n",
              "    </tr>\n",
              "    <tr>\n",
              "      <th>1592</th>\n",
              "      <td>-0.919584</td>\n",
              "      <td>2.698039</td>\n",
              "      <td>-1.109853</td>\n",
              "      <td>2 centroid</td>\n",
              "    </tr>\n",
              "  </tbody>\n",
              "</table>\n",
              "</div>"
            ],
            "text/plain": [
              "         Sales   Recency  Frequency     Cluster\n",
              "1588 -0.721049 -0.661899  -0.677934           1\n",
              "1589  0.220363 -0.677544   0.358251           0\n",
              "1590  0.880863 -0.440838   0.955168  0 centroid\n",
              "1591 -0.813884 -0.035004  -0.860263  1 centroid\n",
              "1592 -0.919584  2.698039  -1.109853  2 centroid"
            ]
          },
          "metadata": {
            "tags": []
          },
          "execution_count": 33
        },
        {
          "output_type": "display_data",
          "data": {
            "image/png": "[encoded data removed]",
            "text/plain": [
              "<Figure size 626.5x540 with 9 Axes>"
            ]
          },
          "metadata": {
            "tags": [],
            "needs_background": "light"
          }
        }
      ]
    },
    {
      "cell_type": "code",
      "metadata": {
        "id": "ESG_rP9TFirH",
        "colab": {
          "base_uri": "https://localhost:8080/"
        },
        "outputId": "34bc7b05-f65b-41cf-cff0-6c639938184e"
      },
      "source": [
        "#Applying PCA for dimensionality reduction\n",
        "\n",
        "pca = PCA(n_components = 2)\n",
        "\n",
        "customers_pca = customers_std.drop('Cluster',axis=1)\n",
        "\n",
        "pcs = pca.fit_transform(customers_pca)\n",
        "\n",
        "pcx = pcs[:,0]\n",
        "pcy = pcs[:,1]\n",
        "\n",
        "customers_pca['Cluster'] = model.labels_.astype(str)\n",
        "\n",
        "print(\"Explained variation per principal component: {}\".format(pca.explained_variance_))"
      ],
      "execution_count": 34,
      "outputs": [
        {
          "output_type": "stream",
          "text": [
            "Explained variation per principal component: [2.2038034  0.68752096]\n"
          ],
          "name": "stdout"
        }
      ]
    },
    {
      "cell_type": "code",
      "metadata": {
        "id": "5cfSF8aBj3qX",
        "colab": {
          "base_uri": "https://localhost:8080/",
          "height": 265
        },
        "outputId": "b099dc56-f6ad-41fd-b5a3-a13f0313e43f"
      },
      "source": [
        "#Visualizing data with PCA\n",
        "\n",
        "sb.scatterplot(x=pcx, y=pcy, hue=customers_pca['Cluster']);"
      ],
      "execution_count": 35,
      "outputs": [
        {
          "output_type": "display_data",
          "data": {
            "image/png": "[encoded data removed]",
            "text/plain": [
              "<Figure size 432x288 with 1 Axes>"
            ]
          },
          "metadata": {
            "tags": [],
            "needs_background": "light"
          }
        }
      ]
    },
    {
      "cell_type": "markdown",
      "metadata": {
        "id": "J0X2PRE_zy2P"
      },
      "source": [
        "**Conclusion**"
      ]
    },
    {
      "cell_type": "code",
      "metadata": {
        "colab": {
          "base_uri": "https://localhost:8080/",
          "height": 279
        },
        "id": "VG2oLB2Wz004",
        "outputId": "f3f8635b-34ba-4635-da09-5aba22057ba6"
      },
      "source": [
        "customers_std['Id'] = customers_std.index\n",
        "\n",
        "customers_conclusion = pd.melt(customers_std,id_vars=['Id','Cluster'], value_vars=['Recency', 'Frequency', 'Sales'], var_name='KPI',value_name='Value')\n",
        "\n",
        "sb.lineplot(x='KPI', y='Value', hue='Cluster', data=customers_conclusion);"
      ],
      "execution_count": 36,
      "outputs": [
        {
          "output_type": "display_data",
          "data": {
            "image/png": "[encoded data removed]",
            "text/plain": [
              "<Figure size 432x288 with 1 Axes>"
            ]
          },
          "metadata": {
            "tags": [],
            "needs_background": "light"
          }
        }
      ]
    },
    {
      "cell_type": "code",
      "metadata": {
        "colab": {
          "base_uri": "https://localhost:8080/",
          "height": 204
        },
        "id": "6JpEuKKZ3is7",
        "outputId": "a71da94f-5fd4-4593-df8d-1a8bb0d1de29"
      },
      "source": [
        "customers.groupby('Cluster').agg({'Recency':['size','median','mean'],'Frequency':'mean','Sales':['mean','sum']}).round(2)"
      ],
      "execution_count": 37,
      "outputs": [
        {
          "output_type": "execute_result",
          "data": {
            "text/html": [
              "<div>\n",
              "<style scoped>\n",
              "    .dataframe tbody tr th:only-of-type {\n",
              "        vertical-align: middle;\n",
              "    }\n",
              "\n",
              "    .dataframe tbody tr th {\n",
              "        vertical-align: top;\n",
              "    }\n",
              "\n",
              "    .dataframe thead tr th {\n",
              "        text-align: left;\n",
              "    }\n",
              "\n",
              "    .dataframe thead tr:last-of-type th {\n",
              "        text-align: right;\n",
              "    }\n",
              "</style>\n",
              "<table border=\"1\" class=\"dataframe\">\n",
              "  <thead>\n",
              "    <tr>\n",
              "      <th></th>\n",
              "      <th colspan=\"3\" halign=\"left\">Recency</th>\n",
              "      <th>Frequency</th>\n",
              "      <th colspan=\"2\" halign=\"left\">Sales</th>\n",
              "    </tr>\n",
              "    <tr>\n",
              "      <th></th>\n",
              "      <th>size</th>\n",
              "      <th>median</th>\n",
              "      <th>mean</th>\n",
              "      <th>mean</th>\n",
              "      <th>mean</th>\n",
              "      <th>sum</th>\n",
              "    </tr>\n",
              "    <tr>\n",
              "      <th>Cluster</th>\n",
              "      <th></th>\n",
              "      <th></th>\n",
              "      <th></th>\n",
              "      <th></th>\n",
              "      <th></th>\n",
              "      <th></th>\n",
              "    </tr>\n",
              "  </thead>\n",
              "  <tbody>\n",
              "    <tr>\n",
              "      <th>0</th>\n",
              "      <td>772</td>\n",
              "      <td>20</td>\n",
              "      <td>31.26</td>\n",
              "      <td>26.34</td>\n",
              "      <td>14059.51</td>\n",
              "      <td>10853938.50</td>\n",
              "    </tr>\n",
              "    <tr>\n",
              "      <th>1</th>\n",
              "      <td>683</td>\n",
              "      <td>64</td>\n",
              "      <td>83.14</td>\n",
              "      <td>7.06</td>\n",
              "      <td>2307.47</td>\n",
              "      <td>1576004.95</td>\n",
              "    </tr>\n",
              "    <tr>\n",
              "      <th>2</th>\n",
              "      <td>135</td>\n",
              "      <td>388</td>\n",
              "      <td>432.53</td>\n",
              "      <td>4.41</td>\n",
              "      <td>1574.51</td>\n",
              "      <td>212558.45</td>\n",
              "    </tr>\n",
              "  </tbody>\n",
              "</table>\n",
              "</div>"
            ],
            "text/plain": [
              "        Recency                Frequency     Sales             \n",
              "           size median    mean      mean      mean          sum\n",
              "Cluster                                                        \n",
              "0           772     20   31.26     26.34  14059.51  10853938.50\n",
              "1           683     64   83.14      7.06   2307.47   1576004.95\n",
              "2           135    388  432.53      4.41   1574.51    212558.45"
            ]
          },
          "metadata": {
            "tags": []
          },
          "execution_count": 37
        }
      ]
    },
    {
      "cell_type": "code",
      "metadata": {
        "id": "sJiqyEJzBQDn"
      },
      "source": [
        "#Cluster 0 - Representa maior parcela da base de clientes, possui a menor recência, com a maior frequência de compras, é o grupo de maior representatividade em geração de negócios (receitas) e melhor ticket médio;\n",
        "#Cluster 1 - É um grupo de clientes que não compra há algum tempo, possui uma menor recorrência de compras, porém o segundo melhor ticket médio ainda que distante das cifras do cluster 1, é um cluster que precisa ser reativado pela empresa;\n",
        "#Cluster 2 - Representa a menor parcela da base de clientes, com os piores números de engajamento em todos os KPIs, provavelmente são clientes que deixaram ou estão prestes a deixar de fazer negócios com a empresa"
      ],
      "execution_count": 38,
      "outputs": []
    },
    {
      "cell_type": "markdown",
      "metadata": {
        "id": "ta1uu0vAKlke"
      },
      "source": [
        "**References**\n",
        "\n",
        "Customer Segmentation in Python, available on:\n",
        "https://towardsdatascience.com/customer-segmentation-in-python-9c15acf6f945"
      ]
    }
  ]
}